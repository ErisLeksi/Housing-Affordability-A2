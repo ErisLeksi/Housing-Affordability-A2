{
 "cells": [
  {
   "cell_type": "markdown",
   "id": "6161de15",
   "metadata": {},
   "source": [
    "# Housing Affordability — Prototype (With Generative AI)\n",
    "\n",
    "# Gemini-guided Hyperparameter Tuning for Housing Prices (RF, XGB, MLP)\n",
    "_Uses Google Gemini to suggest hyperparameters at runtime, with free-tier-safe limits and local fallback._\n",
    "\n"
   ]
  },
  {
   "cell_type": "markdown",
   "id": "a033fb59",
   "metadata": {},
   "source": [
    "## Setup & Imports\n",
    "\n"
   ]
  },
  {
   "cell_type": "code",
   "execution_count": 4,
   "id": "092c9c43",
   "metadata": {},
   "outputs": [
    {
     "name": "stdout",
     "output_type": "stream",
     "text": [
      "Step 1: Importing libraries...\n",
      "Libraries imported successfully!\n"
     ]
    }
   ],
   "source": [
    "print(\"Step 1: Importing libraries...\")\n",
    "\n",
    "import pandas as pd\n",
    "import numpy as np\n",
    "import matplotlib.pyplot as plt\n",
    "import seaborn as sns\n",
    "from sklearn.model_selection import train_test_split\n",
    "from autogluon.tabular import TabularPredictor\n",
    "\n",
    "print(\"Libraries imported successfully!\")"
   ]
  },
  {
   "cell_type": "markdown",
   "id": "8e9944fb",
   "metadata": {},
   "source": [
    "\n",
    "## Import Dataset\n"
   ]
  },
  {
   "cell_type": "code",
   "execution_count": 5,
   "id": "627058f1",
   "metadata": {},
   "outputs": [
    {
     "name": "stdout",
     "output_type": "stream",
     "text": [
      "Loading dataset...\n",
      "Dataset loaded with 44896 rows and 23 columns.\n",
      "\n",
      "Displaying first 5 rows:\n"
     ]
    },
    {
     "data": {
      "application/vnd.microsoft.datawrangler.viewer.v0+json": {
       "columns": [
        {
         "name": "index",
         "rawType": "int64",
         "type": "integer"
        },
        {
         "name": "City",
         "rawType": "object",
         "type": "string"
        },
        {
         "name": "Province",
         "rawType": "object",
         "type": "string"
        },
        {
         "name": "Latitude",
         "rawType": "float64",
         "type": "float"
        },
        {
         "name": "Longitude",
         "rawType": "float64",
         "type": "float"
        },
        {
         "name": "Price",
         "rawType": "float64",
         "type": "float"
        },
        {
         "name": "Bedrooms",
         "rawType": "float64",
         "type": "float"
        },
        {
         "name": "Bathrooms",
         "rawType": "float64",
         "type": "float"
        },
        {
         "name": "Acreage",
         "rawType": "float64",
         "type": "float"
        },
        {
         "name": "Property Type",
         "rawType": "object",
         "type": "string"
        },
        {
         "name": "Square Footage",
         "rawType": "float64",
         "type": "float"
        },
        {
         "name": "Garage",
         "rawType": "object",
         "type": "string"
        },
        {
         "name": "Parking",
         "rawType": "object",
         "type": "string"
        },
        {
         "name": "Basement",
         "rawType": "object",
         "type": "unknown"
        },
        {
         "name": "Exterior",
         "rawType": "object",
         "type": "unknown"
        },
        {
         "name": "Fireplace",
         "rawType": "object",
         "type": "string"
        },
        {
         "name": "Heating",
         "rawType": "object",
         "type": "unknown"
        },
        {
         "name": "Flooring",
         "rawType": "object",
         "type": "unknown"
        },
        {
         "name": "Roof",
         "rawType": "object",
         "type": "unknown"
        },
        {
         "name": "Waterfront",
         "rawType": "object",
         "type": "string"
        },
        {
         "name": "Sewer",
         "rawType": "object",
         "type": "string"
        },
        {
         "name": "Pool",
         "rawType": "object",
         "type": "string"
        },
        {
         "name": "Garden",
         "rawType": "object",
         "type": "string"
        },
        {
         "name": "Balcony",
         "rawType": "object",
         "type": "string"
        }
       ],
       "ref": "19ac7d9e-4e8e-4c8b-90ca-a73edc9fc1d3",
       "rows": [
        [
         "0",
         "Revelstoke",
         "BC",
         "50.9765854",
         "-118.1731491",
         "839000.0",
         "3.0",
         "2.0",
         "0.0",
         "Condo",
         "891.0",
         "Yes",
         "Yes",
         null,
         null,
         "No",
         "heat pump",
         "carpet",
         null,
         "No",
         "municipal",
         "No",
         "No",
         "No"
        ],
        [
         "1",
         "Boswell",
         "BC",
         "49.4718704",
         "-116.770195",
         "1150000.0",
         "3.0",
         "2.0",
         "0.32",
         "Single Family",
         "1881.0",
         "Yes",
         "Yes",
         null,
         null,
         "No",
         "heat pump",
         null,
         null,
         "No",
         "septic",
         "No",
         "No",
         "No"
        ],
        [
         "2",
         "West Kelowna",
         "BC",
         "49.8252302",
         "-119.6032534",
         "149000.0",
         "2.0",
         "1.0",
         "0.0",
         "Single Family",
         "912.0",
         "No",
         "No",
         null,
         "Metal",
         "No",
         null,
         "laminate",
         "tar",
         "No",
         "municipal",
         "No",
         "No",
         "No"
        ],
        [
         "3",
         "Kelowna",
         "BC",
         "49.8218597",
         "-119.4801428",
         "1298000.0",
         "5.0",
         "4.0",
         "0.69",
         "Single Family",
         "4374.0",
         "Yes",
         "No",
         null,
         null,
         "Yes",
         "forced air",
         null,
         null,
         "No",
         "municipal",
         "No",
         "No",
         "No"
        ],
        [
         "4",
         "Maple Ridge",
         "BC",
         "49.2216734",
         "-122.5966374",
         "759900.0",
         "3.0",
         "2.0",
         "0.0",
         "Condo",
         "1254.0",
         "Yes",
         "Yes",
         null,
         null,
         "No",
         "radiant",
         null,
         null,
         "No",
         "none",
         "No",
         "No",
         "No"
        ]
       ],
       "shape": {
        "columns": 23,
        "rows": 5
       }
      },
      "text/html": [
       "<div>\n",
       "<style scoped>\n",
       "    .dataframe tbody tr th:only-of-type {\n",
       "        vertical-align: middle;\n",
       "    }\n",
       "\n",
       "    .dataframe tbody tr th {\n",
       "        vertical-align: top;\n",
       "    }\n",
       "\n",
       "    .dataframe thead th {\n",
       "        text-align: right;\n",
       "    }\n",
       "</style>\n",
       "<table border=\"1\" class=\"dataframe\">\n",
       "  <thead>\n",
       "    <tr style=\"text-align: right;\">\n",
       "      <th></th>\n",
       "      <th>City</th>\n",
       "      <th>Province</th>\n",
       "      <th>Latitude</th>\n",
       "      <th>Longitude</th>\n",
       "      <th>Price</th>\n",
       "      <th>Bedrooms</th>\n",
       "      <th>Bathrooms</th>\n",
       "      <th>Acreage</th>\n",
       "      <th>Property Type</th>\n",
       "      <th>Square Footage</th>\n",
       "      <th>...</th>\n",
       "      <th>Exterior</th>\n",
       "      <th>Fireplace</th>\n",
       "      <th>Heating</th>\n",
       "      <th>Flooring</th>\n",
       "      <th>Roof</th>\n",
       "      <th>Waterfront</th>\n",
       "      <th>Sewer</th>\n",
       "      <th>Pool</th>\n",
       "      <th>Garden</th>\n",
       "      <th>Balcony</th>\n",
       "    </tr>\n",
       "  </thead>\n",
       "  <tbody>\n",
       "    <tr>\n",
       "      <th>0</th>\n",
       "      <td>Revelstoke</td>\n",
       "      <td>BC</td>\n",
       "      <td>50.976585</td>\n",
       "      <td>-118.173149</td>\n",
       "      <td>839000.0</td>\n",
       "      <td>3.0</td>\n",
       "      <td>2.0</td>\n",
       "      <td>0.00</td>\n",
       "      <td>Condo</td>\n",
       "      <td>891.0</td>\n",
       "      <td>...</td>\n",
       "      <td>NaN</td>\n",
       "      <td>No</td>\n",
       "      <td>heat pump</td>\n",
       "      <td>carpet</td>\n",
       "      <td>NaN</td>\n",
       "      <td>No</td>\n",
       "      <td>municipal</td>\n",
       "      <td>No</td>\n",
       "      <td>No</td>\n",
       "      <td>No</td>\n",
       "    </tr>\n",
       "    <tr>\n",
       "      <th>1</th>\n",
       "      <td>Boswell</td>\n",
       "      <td>BC</td>\n",
       "      <td>49.471870</td>\n",
       "      <td>-116.770195</td>\n",
       "      <td>1150000.0</td>\n",
       "      <td>3.0</td>\n",
       "      <td>2.0</td>\n",
       "      <td>0.32</td>\n",
       "      <td>Single Family</td>\n",
       "      <td>1881.0</td>\n",
       "      <td>...</td>\n",
       "      <td>NaN</td>\n",
       "      <td>No</td>\n",
       "      <td>heat pump</td>\n",
       "      <td>NaN</td>\n",
       "      <td>NaN</td>\n",
       "      <td>No</td>\n",
       "      <td>septic</td>\n",
       "      <td>No</td>\n",
       "      <td>No</td>\n",
       "      <td>No</td>\n",
       "    </tr>\n",
       "    <tr>\n",
       "      <th>2</th>\n",
       "      <td>West Kelowna</td>\n",
       "      <td>BC</td>\n",
       "      <td>49.825230</td>\n",
       "      <td>-119.603253</td>\n",
       "      <td>149000.0</td>\n",
       "      <td>2.0</td>\n",
       "      <td>1.0</td>\n",
       "      <td>0.00</td>\n",
       "      <td>Single Family</td>\n",
       "      <td>912.0</td>\n",
       "      <td>...</td>\n",
       "      <td>Metal</td>\n",
       "      <td>No</td>\n",
       "      <td>NaN</td>\n",
       "      <td>laminate</td>\n",
       "      <td>tar</td>\n",
       "      <td>No</td>\n",
       "      <td>municipal</td>\n",
       "      <td>No</td>\n",
       "      <td>No</td>\n",
       "      <td>No</td>\n",
       "    </tr>\n",
       "    <tr>\n",
       "      <th>3</th>\n",
       "      <td>Kelowna</td>\n",
       "      <td>BC</td>\n",
       "      <td>49.821860</td>\n",
       "      <td>-119.480143</td>\n",
       "      <td>1298000.0</td>\n",
       "      <td>5.0</td>\n",
       "      <td>4.0</td>\n",
       "      <td>0.69</td>\n",
       "      <td>Single Family</td>\n",
       "      <td>4374.0</td>\n",
       "      <td>...</td>\n",
       "      <td>NaN</td>\n",
       "      <td>Yes</td>\n",
       "      <td>forced air</td>\n",
       "      <td>NaN</td>\n",
       "      <td>NaN</td>\n",
       "      <td>No</td>\n",
       "      <td>municipal</td>\n",
       "      <td>No</td>\n",
       "      <td>No</td>\n",
       "      <td>No</td>\n",
       "    </tr>\n",
       "    <tr>\n",
       "      <th>4</th>\n",
       "      <td>Maple Ridge</td>\n",
       "      <td>BC</td>\n",
       "      <td>49.221673</td>\n",
       "      <td>-122.596637</td>\n",
       "      <td>759900.0</td>\n",
       "      <td>3.0</td>\n",
       "      <td>2.0</td>\n",
       "      <td>0.00</td>\n",
       "      <td>Condo</td>\n",
       "      <td>1254.0</td>\n",
       "      <td>...</td>\n",
       "      <td>NaN</td>\n",
       "      <td>No</td>\n",
       "      <td>radiant</td>\n",
       "      <td>NaN</td>\n",
       "      <td>NaN</td>\n",
       "      <td>No</td>\n",
       "      <td>none</td>\n",
       "      <td>No</td>\n",
       "      <td>No</td>\n",
       "      <td>No</td>\n",
       "    </tr>\n",
       "  </tbody>\n",
       "</table>\n",
       "<p>5 rows × 23 columns</p>\n",
       "</div>"
      ],
      "text/plain": [
       "           City Province   Latitude   Longitude      Price  Bedrooms  \\\n",
       "0    Revelstoke       BC  50.976585 -118.173149   839000.0       3.0   \n",
       "1       Boswell       BC  49.471870 -116.770195  1150000.0       3.0   \n",
       "2  West Kelowna       BC  49.825230 -119.603253   149000.0       2.0   \n",
       "3       Kelowna       BC  49.821860 -119.480143  1298000.0       5.0   \n",
       "4   Maple Ridge       BC  49.221673 -122.596637   759900.0       3.0   \n",
       "\n",
       "   Bathrooms  Acreage  Property Type  Square Footage  ... Exterior Fireplace  \\\n",
       "0        2.0     0.00          Condo           891.0  ...      NaN        No   \n",
       "1        2.0     0.32  Single Family          1881.0  ...      NaN        No   \n",
       "2        1.0     0.00  Single Family           912.0  ...    Metal        No   \n",
       "3        4.0     0.69  Single Family          4374.0  ...      NaN       Yes   \n",
       "4        2.0     0.00          Condo          1254.0  ...      NaN        No   \n",
       "\n",
       "      Heating  Flooring Roof Waterfront      Sewer Pool Garden Balcony  \n",
       "0   heat pump    carpet  NaN         No  municipal   No     No      No  \n",
       "1   heat pump       NaN  NaN         No     septic   No     No      No  \n",
       "2         NaN  laminate  tar         No  municipal   No     No      No  \n",
       "3  forced air       NaN  NaN         No  municipal   No     No      No  \n",
       "4     radiant       NaN  NaN         No       none   No     No      No  \n",
       "\n",
       "[5 rows x 23 columns]"
      ]
     },
     "metadata": {},
     "output_type": "display_data"
    }
   ],
   "source": [
    "print(\"Loading dataset...\")\n",
    "df = pd.read_csv(\"canadian_housing_data.csv\")\n",
    "print(f\"Dataset loaded with {df.shape[0]} rows and {df.shape[1]} columns.\\n\")\n",
    "print(\"Displaying first 5 rows:\")\n",
    "display(df.head())"
   ]
  },
  {
   "cell_type": "markdown",
   "id": "8f1eabc9",
   "metadata": {},
   "source": [
    "##  Exploratory Data Analysis (EDA)\n"
   ]
  },
  {
   "cell_type": "code",
   "execution_count": 6,
   "id": "49d0e585",
   "metadata": {},
   "outputs": [
    {
     "name": "stdout",
     "output_type": "stream",
     "text": [
      "Performing basic dataset exploration...\n",
      "\n",
      "Dataset info:\n",
      "<class 'pandas.core.frame.DataFrame'>\n",
      "RangeIndex: 44896 entries, 0 to 44895\n",
      "Data columns (total 23 columns):\n",
      " #   Column          Non-Null Count  Dtype  \n",
      "---  ------          --------------  -----  \n",
      " 0   City            44896 non-null  object \n",
      " 1   Province        44896 non-null  object \n",
      " 2   Latitude        44896 non-null  float64\n",
      " 3   Longitude       44896 non-null  float64\n",
      " 4   Price           44896 non-null  float64\n",
      " 5   Bedrooms        44896 non-null  float64\n",
      " 6   Bathrooms       44896 non-null  float64\n",
      " 7   Acreage         44896 non-null  float64\n",
      " 8   Property Type   44896 non-null  object \n",
      " 9   Square Footage  44896 non-null  float64\n",
      " 10  Garage          44896 non-null  object \n",
      " 11  Parking         44896 non-null  object \n",
      " 12  Basement        14962 non-null  object \n",
      " 13  Exterior        17439 non-null  object \n",
      " 14  Fireplace       44896 non-null  object \n",
      " 15  Heating         38242 non-null  object \n",
      " 16  Flooring        15216 non-null  object \n",
      " 17  Roof            10052 non-null  object \n",
      " 18  Waterfront      44896 non-null  object \n",
      " 19  Sewer           44896 non-null  object \n",
      " 20  Pool            44896 non-null  object \n",
      " 21  Garden          44896 non-null  object \n",
      " 22  Balcony         44896 non-null  object \n",
      "dtypes: float64(7), object(16)\n",
      "memory usage: 7.9+ MB\n",
      "\n",
      "Descriptive statistics for numeric columns:\n"
     ]
    },
    {
     "data": {
      "application/vnd.microsoft.datawrangler.viewer.v0+json": {
       "columns": [
        {
         "name": "index",
         "rawType": "object",
         "type": "string"
        },
        {
         "name": "Latitude",
         "rawType": "float64",
         "type": "float"
        },
        {
         "name": "Longitude",
         "rawType": "float64",
         "type": "float"
        },
        {
         "name": "Price",
         "rawType": "float64",
         "type": "float"
        },
        {
         "name": "Bedrooms",
         "rawType": "float64",
         "type": "float"
        },
        {
         "name": "Bathrooms",
         "rawType": "float64",
         "type": "float"
        },
        {
         "name": "Acreage",
         "rawType": "float64",
         "type": "float"
        },
        {
         "name": "Square Footage",
         "rawType": "float64",
         "type": "float"
        }
       ],
       "ref": "a4bb1271-3d93-4d6a-9083-7a34609fdce3",
       "rows": [
        [
         "count",
         "44896.0",
         "44896.0",
         "44896.0",
         "44896.0",
         "44896.0",
         "44896.0",
         "44896.0"
        ],
        [
         "mean",
         "49.010266542273094",
         "-106.63276045002371",
         "1070456.6438212758",
         "3.214918923734854",
         "2.522652352102637",
         "2.4859495277975765",
         "1787.7263230577335"
        ],
        [
         "std",
         "2.659066285776776",
         "22.27039474221259",
         "1442961.0156593404",
         "1.6365170131034792",
         "1.4237650303832092",
         "86.62659925257992",
         "1988.320406207176"
        ],
        [
         "min",
         "42.0459404",
         "-135.8560181",
         "50000.0",
         "0.0",
         "0.0",
         "0.0",
         "140.0"
        ],
        [
         "25%",
         "48.4775113",
         "-122.88788245",
         "399990.0",
         "2.0",
         "2.0",
         "0.0",
         "975.0"
        ],
        [
         "50%",
         "49.21789149999999",
         "-119.39521925",
         "688000.0",
         "3.0",
         "2.0",
         "0.06",
         "1417.0"
        ],
        [
         "75%",
         "49.9279137",
         "-102.48563762500001",
         "1200000.0",
         "4.0",
         "3.0",
         "0.18",
         "2198.0"
        ],
        [
         "max",
         "65.2814881",
         "-52.6686004",
         "58800000.0",
         "37.0",
         "26.0",
         "8600.0",
         "290034.0"
        ]
       ],
       "shape": {
        "columns": 7,
        "rows": 8
       }
      },
      "text/html": [
       "<div>\n",
       "<style scoped>\n",
       "    .dataframe tbody tr th:only-of-type {\n",
       "        vertical-align: middle;\n",
       "    }\n",
       "\n",
       "    .dataframe tbody tr th {\n",
       "        vertical-align: top;\n",
       "    }\n",
       "\n",
       "    .dataframe thead th {\n",
       "        text-align: right;\n",
       "    }\n",
       "</style>\n",
       "<table border=\"1\" class=\"dataframe\">\n",
       "  <thead>\n",
       "    <tr style=\"text-align: right;\">\n",
       "      <th></th>\n",
       "      <th>Latitude</th>\n",
       "      <th>Longitude</th>\n",
       "      <th>Price</th>\n",
       "      <th>Bedrooms</th>\n",
       "      <th>Bathrooms</th>\n",
       "      <th>Acreage</th>\n",
       "      <th>Square Footage</th>\n",
       "    </tr>\n",
       "  </thead>\n",
       "  <tbody>\n",
       "    <tr>\n",
       "      <th>count</th>\n",
       "      <td>44896.000000</td>\n",
       "      <td>44896.000000</td>\n",
       "      <td>4.489600e+04</td>\n",
       "      <td>44896.000000</td>\n",
       "      <td>44896.000000</td>\n",
       "      <td>44896.000000</td>\n",
       "      <td>44896.000000</td>\n",
       "    </tr>\n",
       "    <tr>\n",
       "      <th>mean</th>\n",
       "      <td>49.010267</td>\n",
       "      <td>-106.632760</td>\n",
       "      <td>1.070457e+06</td>\n",
       "      <td>3.214919</td>\n",
       "      <td>2.522652</td>\n",
       "      <td>2.485950</td>\n",
       "      <td>1787.726323</td>\n",
       "    </tr>\n",
       "    <tr>\n",
       "      <th>std</th>\n",
       "      <td>2.659066</td>\n",
       "      <td>22.270395</td>\n",
       "      <td>1.442961e+06</td>\n",
       "      <td>1.636517</td>\n",
       "      <td>1.423765</td>\n",
       "      <td>86.626599</td>\n",
       "      <td>1988.320406</td>\n",
       "    </tr>\n",
       "    <tr>\n",
       "      <th>min</th>\n",
       "      <td>42.045940</td>\n",
       "      <td>-135.856018</td>\n",
       "      <td>5.000000e+04</td>\n",
       "      <td>0.000000</td>\n",
       "      <td>0.000000</td>\n",
       "      <td>0.000000</td>\n",
       "      <td>140.000000</td>\n",
       "    </tr>\n",
       "    <tr>\n",
       "      <th>25%</th>\n",
       "      <td>48.477511</td>\n",
       "      <td>-122.887882</td>\n",
       "      <td>3.999900e+05</td>\n",
       "      <td>2.000000</td>\n",
       "      <td>2.000000</td>\n",
       "      <td>0.000000</td>\n",
       "      <td>975.000000</td>\n",
       "    </tr>\n",
       "    <tr>\n",
       "      <th>50%</th>\n",
       "      <td>49.217891</td>\n",
       "      <td>-119.395219</td>\n",
       "      <td>6.880000e+05</td>\n",
       "      <td>3.000000</td>\n",
       "      <td>2.000000</td>\n",
       "      <td>0.060000</td>\n",
       "      <td>1417.000000</td>\n",
       "    </tr>\n",
       "    <tr>\n",
       "      <th>75%</th>\n",
       "      <td>49.927914</td>\n",
       "      <td>-102.485638</td>\n",
       "      <td>1.200000e+06</td>\n",
       "      <td>4.000000</td>\n",
       "      <td>3.000000</td>\n",
       "      <td>0.180000</td>\n",
       "      <td>2198.000000</td>\n",
       "    </tr>\n",
       "    <tr>\n",
       "      <th>max</th>\n",
       "      <td>65.281488</td>\n",
       "      <td>-52.668600</td>\n",
       "      <td>5.880000e+07</td>\n",
       "      <td>37.000000</td>\n",
       "      <td>26.000000</td>\n",
       "      <td>8600.000000</td>\n",
       "      <td>290034.000000</td>\n",
       "    </tr>\n",
       "  </tbody>\n",
       "</table>\n",
       "</div>"
      ],
      "text/plain": [
       "           Latitude     Longitude         Price      Bedrooms     Bathrooms  \\\n",
       "count  44896.000000  44896.000000  4.489600e+04  44896.000000  44896.000000   \n",
       "mean      49.010267   -106.632760  1.070457e+06      3.214919      2.522652   \n",
       "std        2.659066     22.270395  1.442961e+06      1.636517      1.423765   \n",
       "min       42.045940   -135.856018  5.000000e+04      0.000000      0.000000   \n",
       "25%       48.477511   -122.887882  3.999900e+05      2.000000      2.000000   \n",
       "50%       49.217891   -119.395219  6.880000e+05      3.000000      2.000000   \n",
       "75%       49.927914   -102.485638  1.200000e+06      4.000000      3.000000   \n",
       "max       65.281488    -52.668600  5.880000e+07     37.000000     26.000000   \n",
       "\n",
       "            Acreage  Square Footage  \n",
       "count  44896.000000    44896.000000  \n",
       "mean       2.485950     1787.726323  \n",
       "std       86.626599     1988.320406  \n",
       "min        0.000000      140.000000  \n",
       "25%        0.000000      975.000000  \n",
       "50%        0.060000     1417.000000  \n",
       "75%        0.180000     2198.000000  \n",
       "max     8600.000000   290034.000000  "
      ]
     },
     "metadata": {},
     "output_type": "display_data"
    },
    {
     "name": "stdout",
     "output_type": "stream",
     "text": [
      "\n",
      "Checking for missing values:\n"
     ]
    },
    {
     "data": {
      "application/vnd.microsoft.datawrangler.viewer.v0+json": {
       "columns": [
        {
         "name": "index",
         "rawType": "object",
         "type": "string"
        },
        {
         "name": "0",
         "rawType": "int64",
         "type": "integer"
        }
       ],
       "ref": "ee277965-d386-470d-bb4d-6e48698ca80d",
       "rows": [
        [
         "City",
         "0"
        ],
        [
         "Province",
         "0"
        ],
        [
         "Latitude",
         "0"
        ],
        [
         "Longitude",
         "0"
        ],
        [
         "Price",
         "0"
        ],
        [
         "Bedrooms",
         "0"
        ],
        [
         "Bathrooms",
         "0"
        ],
        [
         "Acreage",
         "0"
        ],
        [
         "Property Type",
         "0"
        ],
        [
         "Square Footage",
         "0"
        ],
        [
         "Garage",
         "0"
        ],
        [
         "Parking",
         "0"
        ],
        [
         "Basement",
         "29934"
        ],
        [
         "Exterior",
         "27457"
        ],
        [
         "Fireplace",
         "0"
        ],
        [
         "Heating",
         "6654"
        ],
        [
         "Flooring",
         "29680"
        ],
        [
         "Roof",
         "34844"
        ],
        [
         "Waterfront",
         "0"
        ],
        [
         "Sewer",
         "0"
        ],
        [
         "Pool",
         "0"
        ],
        [
         "Garden",
         "0"
        ],
        [
         "Balcony",
         "0"
        ]
       ],
       "shape": {
        "columns": 1,
        "rows": 23
       }
      },
      "text/plain": [
       "City                  0\n",
       "Province              0\n",
       "Latitude              0\n",
       "Longitude             0\n",
       "Price                 0\n",
       "Bedrooms              0\n",
       "Bathrooms             0\n",
       "Acreage               0\n",
       "Property Type         0\n",
       "Square Footage        0\n",
       "Garage                0\n",
       "Parking               0\n",
       "Basement          29934\n",
       "Exterior          27457\n",
       "Fireplace             0\n",
       "Heating            6654\n",
       "Flooring          29680\n",
       "Roof              34844\n",
       "Waterfront            0\n",
       "Sewer                 0\n",
       "Pool                  0\n",
       "Garden                0\n",
       "Balcony               0\n",
       "dtype: int64"
      ]
     },
     "metadata": {},
     "output_type": "display_data"
    },
    {
     "name": "stdout",
     "output_type": "stream",
     "text": [
      "EDA exploration completed.\n",
      "\n"
     ]
    }
   ],
   "source": [
    "print(\"Performing basic dataset exploration...\\n\")\n",
    "print(\"Dataset info:\")\n",
    "df.info()\n",
    "\n",
    "print(\"\\nDescriptive statistics for numeric columns:\")\n",
    "display(df.describe())\n",
    "\n",
    "print(\"\\nChecking for missing values:\")\n",
    "display(df.isnull().sum())\n",
    "print(\"EDA exploration completed.\\n\")\n"
   ]
  },
  {
   "cell_type": "code",
   "execution_count": 7,
   "id": "d0f1a6df",
   "metadata": {},
   "outputs": [
    {
     "name": "stdout",
     "output_type": "stream",
     "text": [
      "Plotting price distribution...\n"
     ]
    },
    {
     "data": {
      "image/png": "[encoded data removed]",
      "text/plain": [
       "<Figure size 800x500 with 1 Axes>"
      ]
     },
     "metadata": {},
     "output_type": "display_data"
    },
    {
     "name": "stdout",
     "output_type": "stream",
     "text": [
      "Done.\n",
      "\n"
     ]
    }
   ],
   "source": [
    "print(\"Plotting price distribution...\")\n",
    "plt.figure(figsize=(8,5))\n",
    "sns.histplot(df['Price'], bins=50, kde=True)\n",
    "plt.title(\"Distribution of Housing Prices\")\n",
    "plt.show()\n",
    "print(\"Done.\\n\")\n"
   ]
  },
  {
   "cell_type": "code",
   "execution_count": 8,
   "id": "23d0b042",
   "metadata": {},
   "outputs": [
    {
     "name": "stdout",
     "output_type": "stream",
     "text": [
      "Plotting correlation heatmap...\n"
     ]
    },
    {
     "data": {
      "image/png": "[encoded data removed]",
      "text/plain": [
       "<Figure size 1000x800 with 2 Axes>"
      ]
     },
     "metadata": {},
     "output_type": "display_data"
    }
   ],
   "source": [
    "print(\"Plotting correlation heatmap...\")\n",
    "plt.figure(figsize=(10,8))\n",
    "numeric_df = df.select_dtypes(include='number')  # select only numeric columns\n",
    "sns.heatmap(numeric_df.corr(), annot=True, fmt=\".2f\", cmap=\"coolwarm\")\n",
    "plt.title(\"Correlation Heatmap\")\n",
    "plt.show()\n"
   ]
  },
  {
   "cell_type": "markdown",
   "id": "90026b44",
   "metadata": {},
   "source": [
    "## Preprocessing\n"
   ]
  },
  {
   "cell_type": "code",
   "execution_count": 9,
   "id": "2a9b7d40",
   "metadata": {},
   "outputs": [
    {
     "name": "stdout",
     "output_type": "stream",
     "text": [
      "Preprocessing data...\n",
      "Preprocessing complete.\n"
     ]
    }
   ],
   "source": [
    "print(\"Preprocessing data...\")\n",
    "\n",
    "# Fill missing categorical values with 'Unknown'\n",
    "categorical_features = ['City','Province','Property Type','Garage','Parking','Basement','Exterior',\n",
    "                        'Fireplace','Heating','Flooring','Roof','Waterfront','Sewer','Pool','Garden','Balcony']\n",
    "\n",
    "for col in categorical_features:\n",
    "    df[col] = df[col].fillna('Unknown')\n",
    "\n",
    "# Fill missing numerical values with median\n",
    "numerical_features = ['Latitude','Longitude','Price','Bedrooms','Bathrooms','Acreage','Square Footage']\n",
    "for col in numerical_features:\n",
    "    df[col] = df[col].fillna(df[col].median())\n",
    "\n",
    "print(\"Preprocessing complete.\")\n"
   ]
  },
  {
   "cell_type": "markdown",
   "id": "7daf8334",
   "metadata": {},
   "source": [
    "## Train / Validation / Test Split (80/10/10)\n"
   ]
  },
  {
   "cell_type": "code",
   "execution_count": 10,
   "id": "e2f364df",
   "metadata": {},
   "outputs": [
    {
     "name": "stdout",
     "output_type": "stream",
     "text": [
      "Splitting dataset...\n",
      "Training set: (35917, 23)\n",
      "Validation set: (4490, 23)\n",
      "Test set: (4489, 23)\n"
     ]
    }
   ],
   "source": [
    "print(\"Splitting dataset...\")\n",
    "\n",
    "train_data = df.sample(frac=0.8, random_state=42)\n",
    "temp_data = df.drop(train_data.index)\n",
    "val_data = temp_data.sample(frac=0.5, random_state=42)\n",
    "test_data = temp_data.drop(val_data.index)\n",
    "\n",
    "print(f\"Training set: {train_data.shape}\")\n",
    "print(f\"Validation set: {val_data.shape}\")\n",
    "print(f\"Test set: {test_data.shape}\")\n"
   ]
  },
  {
   "cell_type": "markdown",
   "id": "d3d13edb",
   "metadata": {},
   "source": [
    "## Loading Pretrained Models\n"
   ]
  },
  {
   "cell_type": "code",
   "execution_count": 11,
   "id": "b3758c36",
   "metadata": {},
   "outputs": [
    {
     "name": "stderr",
     "output_type": "stream",
     "text": [
      "No path specified. Models will be saved in: \"AutogluonModels\\ag-20251019_024300\"\n"
     ]
    },
    {
     "name": "stdout",
     "output_type": "stream",
     "text": [
      "Loading pretrained AutoGluon model...\n",
      "Pretrained model loaded successfully!\n"
     ]
    }
   ],
   "source": [
    "print(\"Loading pretrained AutoGluon model...\")\n",
    "\n",
    "predictor = TabularPredictor(label='Price', eval_metric='mean_absolute_error')\n",
    "print(\"Pretrained model loaded successfully!\")\n"
   ]
  },
  {
   "cell_type": "markdown",
   "id": "55a8ed17",
   "metadata": {},
   "source": [
    "## Training / Fine-tuning"
   ]
  },
  {
   "cell_type": "code",
   "execution_count": 12,
   "id": "1acf59ad",
   "metadata": {},
   "outputs": [
    {
     "name": "stderr",
     "output_type": "stream",
     "text": [
      "Warning: path already exists! This predictor may overwrite an existing predictor! path=\"C:\\Users\\User\\AppData\\Local\\Temp\\tmp299bthzh\"\n",
      "Verbosity: 2 (Standard Logging)\n",
      "=================== System Info ===================\n",
      "AutoGluon Version:  1.4.0\n",
      "Python Version:     3.10.18\n",
      "Operating System:   Windows\n",
      "Platform Machine:   AMD64\n",
      "Platform Version:   10.0.19045\n",
      "CPU Count:          8\n",
      "Memory Avail:       14.84 GB / 31.88 GB (46.6%)\n",
      "Disk Space Avail:   175.40 GB / 476.22 GB (36.8%)\n",
      "===================================================\n",
      "Presets specified: ['best_quality']\n",
      "Using hyperparameters preset: hyperparameters='zeroshot'\n",
      "Setting dynamic_stacking from 'auto' to False. Reason: Skip dynamic_stacking when use_bag_holdout is enabled. (use_bag_holdout=True)\n",
      "Stack configuration (auto_stack=True): num_stack_levels=1, num_bag_folds=8, num_bag_sets=1\n"
     ]
    },
    {
     "name": "stdout",
     "output_type": "stream",
     "text": [
      "Training/fine-tuning model...\n"
     ]
    },
    {
     "name": "stderr",
     "output_type": "stream",
     "text": [
      "Beginning AutoGluon training ... Time limit = 600s\n",
      "AutoGluon will save models to \"C:\\Users\\User\\AppData\\Local\\Temp\\tmp299bthzh\"\n",
      "Train Data Rows:    35917\n",
      "Train Data Columns: 22\n",
      "Tuning Data Rows:    4490\n",
      "Tuning Data Columns: 22\n",
      "Label Column:       Price\n",
      "AutoGluon infers your prediction problem is: 'regression' (because dtype of label-column == float and many unique label-values observed).\n",
      "\tLabel info (max, min, mean, stddev): (58800000.0, 50000.0, 1073676.96971, 1464420.39375)\n",
      "\tIf 'regression' is not the correct problem_type, please manually specify the problem_type parameter during Predictor init (You may specify problem_type as one of: ['binary', 'multiclass', 'regression', 'quantile'])\n",
      "Problem Type:       regression\n",
      "Preprocessing data ...\n",
      "Using Feature Generators to preprocess the data ...\n",
      "Fitting AutoMLPipelineFeatureGenerator...\n",
      "\tAvailable Memory:                    15219.17 MB\n",
      "\tTrain Data (Original)  Memory Usage: 40.02 MB (0.3% of available memory)\n",
      "\tInferring data type of each feature based on column values. Set feature_metadata_in to manually specify special dtypes of the features.\n",
      "\tStage 1 Generators:\n",
      "\t\tFitting AsTypeFeatureGenerator...\n",
      "\t\t\tNote: Converting 7 features to boolean dtype as they only contain 2 unique values.\n",
      "\tStage 2 Generators:\n",
      "\t\tFitting FillNaFeatureGenerator...\n",
      "\tStage 3 Generators:\n",
      "\t\tFitting IdentityFeatureGenerator...\n",
      "\t\tFitting CategoryFeatureGenerator...\n",
      "\t\t\tFitting CategoryMemoryMinimizeFeatureGenerator...\n",
      "\tStage 4 Generators:\n",
      "\t\tFitting DropUniqueFeatureGenerator...\n",
      "\tStage 5 Generators:\n",
      "\t\tFitting DropDuplicatesFeatureGenerator...\n",
      "\tTypes of features in original data (raw dtype, special dtypes):\n",
      "\t\t('float', [])  :  6 | ['Latitude', 'Longitude', 'Bedrooms', 'Bathrooms', 'Acreage', ...]\n",
      "\t\t('object', []) : 16 | ['City', 'Province', 'Property Type', 'Garage', 'Parking', ...]\n",
      "\tTypes of features in processed data (raw dtype, special dtypes):\n",
      "\t\t('category', [])  : 9 | ['City', 'Province', 'Property Type', 'Basement', 'Exterior', ...]\n",
      "\t\t('float', [])     : 6 | ['Latitude', 'Longitude', 'Bedrooms', 'Bathrooms', 'Acreage', ...]\n",
      "\t\t('int', ['bool']) : 7 | ['Garage', 'Parking', 'Fireplace', 'Waterfront', 'Pool', ...]\n",
      "\t0.8s = Fit runtime\n",
      "\t22 features in original data used to generate 22 features in processed data.\n",
      "\tTrain Data (Processed) Memory Usage: 2.51 MB (0.0% of available memory)\n",
      "Data preprocessing and feature engineering runtime = 0.95s ...\n",
      "AutoGluon will gauge predictive performance using evaluation metric: 'root_mean_squared_error'\n",
      "\tThis metric's sign has been flipped to adhere to being higher_is_better. The metric score can be multiplied by -1 to get the metric value.\n",
      "\tTo change this, specify the eval_metric parameter of Predictor()\n",
      "use_bag_holdout=True, will use tuning_data as holdout (will not be used for early stopping).\n",
      "Large model count detected (110 configs) ... Only displaying the first 3 models of each family. To see all, set `verbosity=3`.\n",
      "User-specified model hyperparameters to be fit:\n",
      "{\n",
      "\t'NN_TORCH': [{}, {'activation': 'elu', 'dropout_prob': 0.10077639529843717, 'hidden_size': 108, 'learning_rate': 0.002735937344002146, 'num_layers': 4, 'use_batchnorm': True, 'weight_decay': 1.356433327634438e-12, 'ag_args': {'name_suffix': '_r79', 'priority': -2}}, {'activation': 'elu', 'dropout_prob': 0.11897478034205347, 'hidden_size': 213, 'learning_rate': 0.0010474382260641949, 'num_layers': 4, 'use_batchnorm': False, 'weight_decay': 5.594471067786272e-10, 'ag_args': {'name_suffix': '_r22', 'priority': -7}}],\n",
      "\t'GBM': [{'extra_trees': True, 'ag_args': {'name_suffix': 'XT'}}, {}, {'learning_rate': 0.03, 'num_leaves': 128, 'feature_fraction': 0.9, 'min_data_in_leaf': 3, 'ag_args': {'name_suffix': 'Large', 'priority': 0, 'hyperparameter_tune_kwargs': None}}],\n",
      "\t'CAT': [{}, {'depth': 6, 'grow_policy': 'SymmetricTree', 'l2_leaf_reg': 2.1542798306067823, 'learning_rate': 0.06864209415792857, 'max_ctr_complexity': 4, 'one_hot_max_size': 10, 'ag_args': {'name_suffix': '_r177', 'priority': -1}}, {'depth': 8, 'grow_policy': 'Depthwise', 'l2_leaf_reg': 2.7997999596449104, 'learning_rate': 0.031375015734637225, 'max_ctr_complexity': 2, 'one_hot_max_size': 3, 'ag_args': {'name_suffix': '_r9', 'priority': -5}}],\n",
      "\t'XGB': [{}, {'colsample_bytree': 0.6917311125174739, 'enable_categorical': False, 'learning_rate': 0.018063876087523967, 'max_depth': 10, 'min_child_weight': 0.6028633586934382, 'ag_args': {'name_suffix': '_r33', 'priority': -8}}, {'colsample_bytree': 0.6628423832084077, 'enable_categorical': False, 'learning_rate': 0.08775715546881824, 'max_depth': 5, 'min_child_weight': 0.6294123374222513, 'ag_args': {'name_suffix': '_r89', 'priority': -16}}],\n",
      "\t'FASTAI': [{}, {'bs': 256, 'emb_drop': 0.5411770367537934, 'epochs': 43, 'layers': [800, 400], 'lr': 0.01519848858318159, 'ps': 0.23782946566604385, 'ag_args': {'name_suffix': '_r191', 'priority': -4}}, {'bs': 2048, 'emb_drop': 0.05070411322605811, 'epochs': 29, 'layers': [200, 100], 'lr': 0.08974235041576624, 'ps': 0.10393466140748028, 'ag_args': {'name_suffix': '_r102', 'priority': -11}}],\n",
      "\t'RF': [{'criterion': 'gini', 'ag_args': {'name_suffix': 'Gini', 'problem_types': ['binary', 'multiclass']}}, {'criterion': 'entropy', 'ag_args': {'name_suffix': 'Entr', 'problem_types': ['binary', 'multiclass']}}, {'criterion': 'squared_error', 'ag_args': {'name_suffix': 'MSE', 'problem_types': ['regression', 'quantile']}}],\n",
      "\t'XT': [{'criterion': 'gini', 'ag_args': {'name_suffix': 'Gini', 'problem_types': ['binary', 'multiclass']}}, {'criterion': 'entropy', 'ag_args': {'name_suffix': 'Entr', 'problem_types': ['binary', 'multiclass']}}, {'criterion': 'squared_error', 'ag_args': {'name_suffix': 'MSE', 'problem_types': ['regression', 'quantile']}}],\n",
      "}\n",
      "AutoGluon will fit 2 stack levels (L1 to L2) ...\n",
      "Fitting 106 L1 models, fit_strategy=\"sequential\" ...\n",
      "Fitting model: LightGBMXT_BAG_L1 ... Training model for up to 399.26s of the 598.93s of remaining time.\n",
      "Will use sequential fold fitting strategy because import of ray failed. Reason: ray is required to train folds in parallel for TabularPredictor or HPO for MultiModalPredictor. A quick tip is to install via `pip install \"ray>=2.10.0,<2.45.0\"`\n",
      "\tFitting 8 child models (S1F1 - S1F8) | Fitting with SequentialLocalFoldFittingStrategy (sequential: cpus=4, gpus=0)\n",
      "\tWarning: Exception caused LightGBMXT_BAG_L1 to fail during training (ImportError)... Skipping this model.\n",
      "\t\t`import lightgbm` failed. A quick tip is to install via `pip install autogluon.tabular[lightgbm]==1.4.0`.\n",
      "Fitting model: LightGBM_BAG_L1 ... Training model for up to 390.50s of the 590.16s of remaining time.\n",
      "\tFitting 8 child models (S1F1 - S1F8) | Fitting with SequentialLocalFoldFittingStrategy (sequential: cpus=4, gpus=0)\n",
      "\tWarning: Exception caused LightGBM_BAG_L1 to fail during training (ImportError)... Skipping this model.\n",
      "\t\t`import lightgbm` failed. A quick tip is to install via `pip install autogluon.tabular[lightgbm]==1.4.0`.\n",
      "Fitting model: RandomForestMSE_BAG_L1 ... Training model for up to 390.29s of the 589.95s of remaining time.\n",
      "\t-685816.4564\t = Validation score   (-root_mean_squared_error)\n",
      "\t28.37s\t = Training   runtime\n",
      "\t0.91s\t = Validation runtime\n",
      "Fitting model: CatBoost_BAG_L1 ... Training model for up to 357.81s of the 557.48s of remaining time.\n",
      "\tFitting 8 child models (S1F1 - S1F8) | Fitting with SequentialLocalFoldFittingStrategy (sequential: cpus=4, gpus=0)\n",
      "\tWarning: Exception caused CatBoost_BAG_L1 to fail during training (ImportError)... Skipping this model.\n",
      "\t\t`import catboost` failed. A quick tip is to install via `pip install autogluon.tabular[catboost]==1.4.0`.\n",
      "Fitting model: ExtraTreesMSE_BAG_L1 ... Training model for up to 357.60s of the 557.27s of remaining time.\n",
      "\t-696178.3817\t = Validation score   (-root_mean_squared_error)\n",
      "\t14.37s\t = Training   runtime\n",
      "\t0.89s\t = Validation runtime\n",
      "Fitting model: NeuralNetFastAI_BAG_L1 ... Training model for up to 338.99s of the 538.66s of remaining time.\n",
      "\tFitting 8 child models (S1F1 - S1F8) | Fitting with SequentialLocalFoldFittingStrategy (sequential: cpus=4, gpus=0)\n",
      "\tWarning: Exception caused NeuralNetFastAI_BAG_L1 to fail during training (ImportError)... Skipping this model.\n",
      "\t\tImport fastai failed. A quick tip is to install via `pip install autogluon.tabular[fastai]==1.4.0`. \n",
      "Fitting model: XGBoost_BAG_L1 ... Training model for up to 338.78s of the 538.44s of remaining time.\n",
      "\tFitting 8 child models (S1F1 - S1F8) | Fitting with SequentialLocalFoldFittingStrategy (sequential: cpus=4, gpus=0)\n",
      "\tWarning: Exception caused XGBoost_BAG_L1 to fail during training (ImportError)... Skipping this model.\n",
      "\t\t`import xgboost` failed. A quick tip is to install via `pip install autogluon.tabular[xgboost]==1.4.0`.\n",
      "Fitting model: NeuralNetTorch_BAG_L1 ... Training model for up to 338.40s of the 538.07s of remaining time.\n",
      "\tFitting 8 child models (S1F1 - S1F8) | Fitting with SequentialLocalFoldFittingStrategy (sequential: cpus=4, gpus=0)\n",
      "c:\\Users\\User\\miniconda3\\envs\\ml-env\\lib\\site-packages\\sklearn\\compose\\_column_transformer.py:975: FutureWarning: The parameter `force_int_remainder_cols` is deprecated and will be removed in 1.9. It has no effect. Leave it to its default value to avoid this warning.\n",
      "  warnings.warn(\n",
      "\tRan out of time, stopping training early. (Stopping on epoch 12)\n",
      "c:\\Users\\User\\miniconda3\\envs\\ml-env\\lib\\site-packages\\sklearn\\compose\\_column_transformer.py:975: FutureWarning: The parameter `force_int_remainder_cols` is deprecated and will be removed in 1.9. It has no effect. Leave it to its default value to avoid this warning.\n",
      "  warnings.warn(\n",
      "\tRan out of time, stopping training early. (Stopping on epoch 14)\n",
      "c:\\Users\\User\\miniconda3\\envs\\ml-env\\lib\\site-packages\\sklearn\\compose\\_column_transformer.py:975: FutureWarning: The parameter `force_int_remainder_cols` is deprecated and will be removed in 1.9. It has no effect. Leave it to its default value to avoid this warning.\n",
      "  warnings.warn(\n",
      "\tRan out of time, stopping training early. (Stopping on epoch 15)\n",
      "c:\\Users\\User\\miniconda3\\envs\\ml-env\\lib\\site-packages\\sklearn\\compose\\_column_transformer.py:975: FutureWarning: The parameter `force_int_remainder_cols` is deprecated and will be removed in 1.9. It has no effect. Leave it to its default value to avoid this warning.\n",
      "  warnings.warn(\n",
      "\tRan out of time, stopping training early. (Stopping on epoch 16)\n",
      "c:\\Users\\User\\miniconda3\\envs\\ml-env\\lib\\site-packages\\sklearn\\compose\\_column_transformer.py:975: FutureWarning: The parameter `force_int_remainder_cols` is deprecated and will be removed in 1.9. It has no effect. Leave it to its default value to avoid this warning.\n",
      "  warnings.warn(\n",
      "\tRan out of time, stopping training early. (Stopping on epoch 14)\n",
      "c:\\Users\\User\\miniconda3\\envs\\ml-env\\lib\\site-packages\\sklearn\\compose\\_column_transformer.py:975: FutureWarning: The parameter `force_int_remainder_cols` is deprecated and will be removed in 1.9. It has no effect. Leave it to its default value to avoid this warning.\n",
      "  warnings.warn(\n",
      "\tRan out of time, stopping training early. (Stopping on epoch 17)\n",
      "c:\\Users\\User\\miniconda3\\envs\\ml-env\\lib\\site-packages\\sklearn\\compose\\_column_transformer.py:975: FutureWarning: The parameter `force_int_remainder_cols` is deprecated and will be removed in 1.9. It has no effect. Leave it to its default value to avoid this warning.\n",
      "  warnings.warn(\n",
      "\tRan out of time, stopping training early. (Stopping on epoch 20)\n",
      "c:\\Users\\User\\miniconda3\\envs\\ml-env\\lib\\site-packages\\sklearn\\compose\\_column_transformer.py:975: FutureWarning: The parameter `force_int_remainder_cols` is deprecated and will be removed in 1.9. It has no effect. Leave it to its default value to avoid this warning.\n",
      "  warnings.warn(\n",
      "\tRan out of time, stopping training early. (Stopping on epoch 24)\n",
      "\t-787256.6029\t = Validation score   (-root_mean_squared_error)\n",
      "\t321.54s\t = Training   runtime\n",
      "\t0.65s\t = Validation runtime\n",
      "Fitting model: LightGBMLarge_BAG_L1 ... Training model for up to 15.53s of the 215.19s of remaining time.\n",
      "\tFitting 8 child models (S1F1 - S1F8) | Fitting with SequentialLocalFoldFittingStrategy (sequential: cpus=4, gpus=0)\n",
      "\tWarning: Exception caused LightGBMLarge_BAG_L1 to fail during training (ImportError)... Skipping this model.\n",
      "\t\t`import lightgbm` failed. A quick tip is to install via `pip install autogluon.tabular[lightgbm]==1.4.0`.\n",
      "Fitting model: CatBoost_r177_BAG_L1 ... Training model for up to 15.26s of the 214.92s of remaining time.\n",
      "\tFitting 8 child models (S1F1 - S1F8) | Fitting with SequentialLocalFoldFittingStrategy (sequential: cpus=4, gpus=0)\n",
      "\tWarning: Exception caused CatBoost_r177_BAG_L1 to fail during training (ImportError)... Skipping this model.\n",
      "\t\t`import catboost` failed. A quick tip is to install via `pip install autogluon.tabular[catboost]==1.4.0`.\n",
      "Fitting model: NeuralNetTorch_r79_BAG_L1 ... Training model for up to 15.04s of the 214.70s of remaining time.\n",
      "\tFitting 8 child models (S1F1 - S1F8) | Fitting with SequentialLocalFoldFittingStrategy (sequential: cpus=4, gpus=0)\n",
      "c:\\Users\\User\\miniconda3\\envs\\ml-env\\lib\\site-packages\\sklearn\\compose\\_column_transformer.py:975: FutureWarning: The parameter `force_int_remainder_cols` is deprecated and will be removed in 1.9. It has no effect. Leave it to its default value to avoid this warning.\n",
      "  warnings.warn(\n",
      "\tNot enough time to train first epoch. (Time Required: 2.73s, Time Left: 1.25s)\n",
      "\tTime limit exceeded... Skipping NeuralNetTorch_r79_BAG_L1.\n",
      "Fitting model: LightGBM_r131_BAG_L1 ... Training model for up to 14.45s of the 214.11s of remaining time.\n",
      "\tFitting 8 child models (S1F1 - S1F8) | Fitting with SequentialLocalFoldFittingStrategy (sequential: cpus=4, gpus=0)\n",
      "\tWarning: Exception caused LightGBM_r131_BAG_L1 to fail during training (ImportError)... Skipping this model.\n",
      "\t\t`import lightgbm` failed. A quick tip is to install via `pip install autogluon.tabular[lightgbm]==1.4.0`.\n",
      "Fitting model: NeuralNetFastAI_r191_BAG_L1 ... Training model for up to 14.23s of the 213.89s of remaining time.\n",
      "\tFitting 8 child models (S1F1 - S1F8) | Fitting with SequentialLocalFoldFittingStrategy (sequential: cpus=4, gpus=0)\n",
      "\tWarning: Exception caused NeuralNetFastAI_r191_BAG_L1 to fail during training (ImportError)... Skipping this model.\n",
      "\t\tImport fastai failed. A quick tip is to install via `pip install autogluon.tabular[fastai]==1.4.0`. \n",
      "Fitting model: CatBoost_r9_BAG_L1 ... Training model for up to 14.00s of the 213.66s of remaining time.\n",
      "\tFitting 8 child models (S1F1 - S1F8) | Fitting with SequentialLocalFoldFittingStrategy (sequential: cpus=4, gpus=0)\n",
      "\tWarning: Exception caused CatBoost_r9_BAG_L1 to fail during training (ImportError)... Skipping this model.\n",
      "\t\t`import catboost` failed. A quick tip is to install via `pip install autogluon.tabular[catboost]==1.4.0`.\n",
      "Fitting model: LightGBM_r96_BAG_L1 ... Training model for up to 13.77s of the 213.43s of remaining time.\n",
      "\tFitting 8 child models (S1F1 - S1F8) | Fitting with SequentialLocalFoldFittingStrategy (sequential: cpus=4, gpus=0)\n",
      "\tWarning: Exception caused LightGBM_r96_BAG_L1 to fail during training (ImportError)... Skipping this model.\n",
      "\t\t`import lightgbm` failed. A quick tip is to install via `pip install autogluon.tabular[lightgbm]==1.4.0`.\n",
      "Fitting model: NeuralNetTorch_r22_BAG_L1 ... Training model for up to 13.54s of the 213.21s of remaining time.\n",
      "\tFitting 8 child models (S1F1 - S1F8) | Fitting with SequentialLocalFoldFittingStrategy (sequential: cpus=4, gpus=0)\n",
      "c:\\Users\\User\\miniconda3\\envs\\ml-env\\lib\\site-packages\\sklearn\\compose\\_column_transformer.py:975: FutureWarning: The parameter `force_int_remainder_cols` is deprecated and will be removed in 1.9. It has no effect. Leave it to its default value to avoid this warning.\n",
      "  warnings.warn(\n",
      "\tNot enough time to train first epoch. (Time Required: 2.54s, Time Left: 1.1s)\n",
      "\tTime limit exceeded... Skipping NeuralNetTorch_r22_BAG_L1.\n",
      "Fitting model: XGBoost_r33_BAG_L1 ... Training model for up to 12.96s of the 212.62s of remaining time.\n",
      "\tFitting 8 child models (S1F1 - S1F8) | Fitting with SequentialLocalFoldFittingStrategy (sequential: cpus=4, gpus=0)\n",
      "\tWarning: Exception caused XGBoost_r33_BAG_L1 to fail during training (ImportError)... Skipping this model.\n",
      "\t\t`import xgboost` failed. A quick tip is to install via `pip install autogluon.tabular[xgboost]==1.4.0`.\n",
      "Fitting model: ExtraTrees_r42_BAG_L1 ... Training model for up to 12.57s of the 212.23s of remaining time.\n",
      "\t-698110.7236\t = Validation score   (-root_mean_squared_error)\n",
      "\t10.31s\t = Training   runtime\n",
      "\t1.01s\t = Validation runtime\n",
      "Fitting model: WeightedEnsemble_L2 ... Training model for up to 360.00s of the 197.43s of remaining time.\n",
      "\tEnsemble Weights: {'RandomForestMSE_BAG_L1': 0.652, 'NeuralNetTorch_BAG_L1': 0.174, 'ExtraTreesMSE_BAG_L1': 0.13, 'ExtraTrees_r42_BAG_L1': 0.043}\n",
      "\t-675743.1016\t = Validation score   (-root_mean_squared_error)\n",
      "\t0.02s\t = Training   runtime\n",
      "\t0.0s\t = Validation runtime\n",
      "Fitting 106 L2 models, fit_strategy=\"sequential\" ...\n",
      "Fitting model: LightGBMXT_BAG_L2 ... Training model for up to 197.38s of the 197.26s of remaining time.\n",
      "\tFitting 8 child models (S1F1 - S1F8) | Fitting with SequentialLocalFoldFittingStrategy (sequential: cpus=4, gpus=0)\n",
      "\tWarning: Exception caused LightGBMXT_BAG_L2 to fail during training (ImportError)... Skipping this model.\n",
      "\t\t`import lightgbm` failed. A quick tip is to install via `pip install autogluon.tabular[lightgbm]==1.4.0`.\n",
      "Fitting model: LightGBM_BAG_L2 ... Training model for up to 197.14s of the 197.02s of remaining time.\n",
      "\tFitting 8 child models (S1F1 - S1F8) | Fitting with SequentialLocalFoldFittingStrategy (sequential: cpus=4, gpus=0)\n",
      "\tWarning: Exception caused LightGBM_BAG_L2 to fail during training (ImportError)... Skipping this model.\n",
      "\t\t`import lightgbm` failed. A quick tip is to install via `pip install autogluon.tabular[lightgbm]==1.4.0`.\n",
      "Fitting model: RandomForestMSE_BAG_L2 ... Training model for up to 196.91s of the 196.79s of remaining time.\n",
      "\t-670855.2885\t = Validation score   (-root_mean_squared_error)\n",
      "\t61.4s\t = Training   runtime\n",
      "\t0.9s\t = Validation runtime\n",
      "Fitting model: CatBoost_BAG_L2 ... Training model for up to 130.99s of the 130.88s of remaining time.\n",
      "\tFitting 8 child models (S1F1 - S1F8) | Fitting with SequentialLocalFoldFittingStrategy (sequential: cpus=4, gpus=0)\n",
      "\tWarning: Exception caused CatBoost_BAG_L2 to fail during training (ImportError)... Skipping this model.\n",
      "\t\t`import catboost` failed. A quick tip is to install via `pip install autogluon.tabular[catboost]==1.4.0`.\n",
      "Fitting model: ExtraTreesMSE_BAG_L2 ... Training model for up to 130.76s of the 130.64s of remaining time.\n",
      "\t-678670.2661\t = Validation score   (-root_mean_squared_error)\n",
      "\t17.22s\t = Training   runtime\n",
      "\t0.86s\t = Validation runtime\n",
      "Fitting model: NeuralNetFastAI_BAG_L2 ... Training model for up to 109.42s of the 109.30s of remaining time.\n",
      "\tFitting 8 child models (S1F1 - S1F8) | Fitting with SequentialLocalFoldFittingStrategy (sequential: cpus=4, gpus=0)\n",
      "\tWarning: Exception caused NeuralNetFastAI_BAG_L2 to fail during training (ImportError)... Skipping this model.\n",
      "\t\tImport fastai failed. A quick tip is to install via `pip install autogluon.tabular[fastai]==1.4.0`. \n",
      "Fitting model: XGBoost_BAG_L2 ... Training model for up to 109.18s of the 109.06s of remaining time.\n",
      "\tFitting 8 child models (S1F1 - S1F8) | Fitting with SequentialLocalFoldFittingStrategy (sequential: cpus=4, gpus=0)\n",
      "\tWarning: Exception caused XGBoost_BAG_L2 to fail during training (ImportError)... Skipping this model.\n",
      "\t\t`import xgboost` failed. A quick tip is to install via `pip install autogluon.tabular[xgboost]==1.4.0`.\n",
      "Fitting model: NeuralNetTorch_BAG_L2 ... Training model for up to 108.78s of the 108.66s of remaining time.\n",
      "\tFitting 8 child models (S1F1 - S1F8) | Fitting with SequentialLocalFoldFittingStrategy (sequential: cpus=4, gpus=0)\n",
      "c:\\Users\\User\\miniconda3\\envs\\ml-env\\lib\\site-packages\\sklearn\\compose\\_column_transformer.py:975: FutureWarning: The parameter `force_int_remainder_cols` is deprecated and will be removed in 1.9. It has no effect. Leave it to its default value to avoid this warning.\n",
      "  warnings.warn(\n",
      "\tRan out of time, stopping training early. (Stopping on epoch 4)\n",
      "c:\\Users\\User\\miniconda3\\envs\\ml-env\\lib\\site-packages\\sklearn\\compose\\_column_transformer.py:975: FutureWarning: The parameter `force_int_remainder_cols` is deprecated and will be removed in 1.9. It has no effect. Leave it to its default value to avoid this warning.\n",
      "  warnings.warn(\n",
      "\tRan out of time, stopping training early. (Stopping on epoch 4)\n",
      "c:\\Users\\User\\miniconda3\\envs\\ml-env\\lib\\site-packages\\sklearn\\compose\\_column_transformer.py:975: FutureWarning: The parameter `force_int_remainder_cols` is deprecated and will be removed in 1.9. It has no effect. Leave it to its default value to avoid this warning.\n",
      "  warnings.warn(\n",
      "c:\\Users\\User\\miniconda3\\envs\\ml-env\\lib\\site-packages\\sklearn\\compose\\_column_transformer.py:975: FutureWarning: The parameter `force_int_remainder_cols` is deprecated and will be removed in 1.9. It has no effect. Leave it to its default value to avoid this warning.\n",
      "  warnings.warn(\n",
      "\tRan out of time, stopping training early. (Stopping on epoch 5)\n",
      "c:\\Users\\User\\miniconda3\\envs\\ml-env\\lib\\site-packages\\sklearn\\compose\\_column_transformer.py:975: FutureWarning: The parameter `force_int_remainder_cols` is deprecated and will be removed in 1.9. It has no effect. Leave it to its default value to avoid this warning.\n",
      "  warnings.warn(\n",
      "\tRan out of time, stopping training early. (Stopping on epoch 5)\n",
      "c:\\Users\\User\\miniconda3\\envs\\ml-env\\lib\\site-packages\\sklearn\\compose\\_column_transformer.py:975: FutureWarning: The parameter `force_int_remainder_cols` is deprecated and will be removed in 1.9. It has no effect. Leave it to its default value to avoid this warning.\n",
      "  warnings.warn(\n",
      "\tRan out of time, stopping training early. (Stopping on epoch 6)\n",
      "c:\\Users\\User\\miniconda3\\envs\\ml-env\\lib\\site-packages\\sklearn\\compose\\_column_transformer.py:975: FutureWarning: The parameter `force_int_remainder_cols` is deprecated and will be removed in 1.9. It has no effect. Leave it to its default value to avoid this warning.\n",
      "  warnings.warn(\n",
      "\tRan out of time, stopping training early. (Stopping on epoch 6)\n",
      "c:\\Users\\User\\miniconda3\\envs\\ml-env\\lib\\site-packages\\sklearn\\compose\\_column_transformer.py:975: FutureWarning: The parameter `force_int_remainder_cols` is deprecated and will be removed in 1.9. It has no effect. Leave it to its default value to avoid this warning.\n",
      "  warnings.warn(\n",
      "\tRan out of time, stopping training early. (Stopping on epoch 8)\n",
      "\t-733926.9174\t = Validation score   (-root_mean_squared_error)\n",
      "\t102.37s\t = Training   runtime\n",
      "\t0.73s\t = Validation runtime\n",
      "Fitting model: WeightedEnsemble_L3 ... Training model for up to 360.00s of the 4.63s of remaining time.\n",
      "\tEnsemble Weights: {'RandomForestMSE_BAG_L2': 0.565, 'NeuralNetTorch_BAG_L2': 0.217, 'ExtraTreesMSE_BAG_L2': 0.13, 'RandomForestMSE_BAG_L1': 0.087}\n",
      "\t-664543.7307\t = Validation score   (-root_mean_squared_error)\n",
      "\t0.02s\t = Training   runtime\n",
      "\t0.0s\t = Validation runtime\n",
      "AutoGluon training complete, total runtime = 595.44s ... Best model: WeightedEnsemble_L3 | Estimated inference throughput: 754.2 rows/s (4490 batch size)\n",
      "TabularPredictor saved. To load, use: predictor = TabularPredictor.load(\"C:\\Users\\User\\AppData\\Local\\Temp\\tmp299bthzh\")\n"
     ]
    },
    {
     "name": "stdout",
     "output_type": "stream",
     "text": [
      "Training complete!\n",
      "Evaluating performance on validation set...\n",
      "Validation MAE: 208748.56\n",
      "Validation MSE: 441618370056.50\n",
      "Validation R²: 0.7879\n",
      "Validation evaluation complete!\n"
     ]
    }
   ],
   "source": [
    "print(\"Training/fine-tuning model...\")\n",
    "\n",
    "from autogluon.tabular import TabularPredictor\n",
    "from sklearn.metrics import mean_absolute_error, mean_squared_error, r2_score\n",
    "import tempfile\n",
    "\n",
    "# Use a temporary directory for the model\n",
    "temp_model_dir = tempfile.mkdtemp()\n",
    "\n",
    "# Create predictor; AutoGluon requires a path for internal handling\n",
    "predictor = TabularPredictor(label='Price', path=temp_model_dir)\n",
    "\n",
    "# Train the model using train_data and validate on val_data\n",
    "# use_bag_holdout=True ensures validation is used properly\n",
    "predictor.fit(\n",
    "    train_data=train_data,\n",
    "    tuning_data=val_data,\n",
    "    presets='best_quality',\n",
    "    time_limit=600,\n",
    "    use_bag_holdout=True\n",
    ")\n",
    "\n",
    "print(\"Training complete!\")\n",
    "\n",
    "# Evaluate on validation set\n",
    "print(\"Evaluating performance on validation set...\")\n",
    "val_preds = predictor.predict(val_data)\n",
    "\n",
    "val_mae = mean_absolute_error(val_data['Price'], val_preds)\n",
    "val_mse = mean_squared_error(val_data['Price'], val_preds)\n",
    "val_r2 = r2_score(val_data['Price'], val_preds)\n",
    "\n",
    "print(f\"Validation MAE: {val_mae:.2f}\")\n",
    "print(f\"Validation MSE: {val_mse:.2f}\")\n",
    "print(f\"Validation R²: {val_r2:.4f}\")\n",
    "print(\"Validation evaluation complete!\")\n"
   ]
  },
  {
   "cell_type": "markdown",
   "id": "daa13717",
   "metadata": {},
   "source": [
    "## Testing and Evaluation\n"
   ]
  },
  {
   "cell_type": "code",
   "execution_count": 13,
   "id": "33ff2722",
   "metadata": {},
   "outputs": [
    {
     "name": "stdout",
     "output_type": "stream",
     "text": [
      "Evaluating model on test data...\n",
      "Test MAE: 196707.31\n",
      "Test MSE: 276754649329.79\n",
      "Test R²: 0.8251\n",
      "Test evaluation complete!\n"
     ]
    }
   ],
   "source": [
    "print(\"Evaluating model on test data...\")\n",
    "\n",
    "from sklearn.metrics import mean_absolute_error, mean_squared_error, r2_score\n",
    "\n",
    "# Predict on test data\n",
    "test_preds = predictor.predict(test_data)\n",
    "\n",
    "# Calculate regression metrics\n",
    "test_mae = mean_absolute_error(test_data['Price'], test_preds)\n",
    "test_mse = mean_squared_error(test_data['Price'], test_preds)\n",
    "test_r2 = r2_score(test_data['Price'], test_preds)\n",
    "\n",
    "# Print results\n",
    "print(f\"Test MAE: {test_mae:.2f}\")\n",
    "print(f\"Test MSE: {test_mse:.2f}\")\n",
    "print(f\"Test R²: {test_r2:.4f}\")\n",
    "\n",
    "print(\"Test evaluation complete!\")\n"
   ]
  },
  {
   "cell_type": "markdown",
   "id": "860e226e",
   "metadata": {},
   "source": [
    "## Graph: True vs Predicted Prices"
   ]
  },
  {
   "cell_type": "code",
   "execution_count": 14,
   "id": "d4ac0419",
   "metadata": {},
   "outputs": [
    {
     "name": "stdout",
     "output_type": "stream",
     "text": [
      "Visualizing predictions...\n"
     ]
    },
    {
     "data": {
      "image/png": "[encoded data removed]",
      "text/plain": [
       "<Figure size 800x800 with 1 Axes>"
      ]
     },
     "metadata": {},
     "output_type": "display_data"
    },
    {
     "name": "stdout",
     "output_type": "stream",
     "text": [
      "Visualization complete!\n"
     ]
    }
   ],
   "source": [
    "print(\"Visualizing predictions...\")\n",
    "\n",
    "y_test = test_data['Price']\n",
    "y_pred = predictor.predict(test_data)\n",
    "\n",
    "plt.figure(figsize=(8,8))\n",
    "plt.scatter(y_test, y_pred, alpha=0.5)\n",
    "plt.plot([y_test.min(), y_test.max()], [y_test.min(), y_test.max()], 'r--', lw=2)\n",
    "plt.xlabel(\"True Price\")\n",
    "plt.ylabel(\"Predicted Price\")\n",
    "plt.title(\"True vs Predicted Prices\")\n",
    "plt.show()\n",
    "\n",
    "print(\"Visualization complete!\")\n"
   ]
  },
  {
   "cell_type": "markdown",
   "id": "930b811d",
   "metadata": {},
   "source": [
    "## Affordability Calculation on Validation Set"
   ]
  },
  {
   "cell_type": "code",
   "execution_count": 15,
   "id": "ceb885bb",
   "metadata": {},
   "outputs": [
    {
     "name": "stdout",
     "output_type": "stream",
     "text": [
      "Calculating affordability metrics for validation set...\n",
      "Affordability sample for validation set:\n"
     ]
    },
    {
     "data": {
      "application/vnd.microsoft.datawrangler.viewer.v0+json": {
       "columns": [
        {
         "name": "index",
         "rawType": "int64",
         "type": "integer"
        },
        {
         "name": "City",
         "rawType": "object",
         "type": "string"
        },
        {
         "name": "Predicted_Price",
         "rawType": "float32",
         "type": "float"
        },
        {
         "name": "affordability_score",
         "rawType": "float64",
         "type": "float"
        },
        {
         "name": "affordability_label",
         "rawType": "object",
         "type": "string"
        }
       ],
       "ref": "ba628cf1-d431-46bf-9f0d-1c8e01326b03",
       "rows": [
        [
         "0",
         "Burnaby",
         "2978865.2",
         "1.8",
         "🚫 Unaffordable"
        ],
        [
         "1",
         "Maple Ridge",
         "3843872.8",
         "2.32",
         "🚫 Unaffordable"
        ],
        [
         "2",
         "North Vancouver",
         "1931780.8",
         "1.17",
         "🚫 Unaffordable"
        ],
        [
         "3",
         "Vancouver",
         "6728548.5",
         "4.16",
         "🚫 Unaffordable"
        ],
        [
         "4",
         "Delta",
         "1443135.4",
         "0.87",
         "🚫 Unaffordable"
        ],
        [
         "5",
         "Richmond",
         "1140347.0",
         "0.69",
         "⚠️ At Risk"
        ],
        [
         "6",
         "Moncton",
         "680270.5",
         "0.41",
         "✅ Affordable"
        ],
        [
         "7",
         "Richmond",
         "949274.94",
         "0.57",
         "⚠️ At Risk"
        ],
        [
         "8",
         "Regina",
         "376753.78",
         "0.23",
         "✅ Affordable"
        ],
        [
         "9",
         "New Westminster",
         "562840.75",
         "0.34",
         "✅ Affordable"
        ],
        [
         "10",
         "Surrey",
         "1218173.9",
         "0.74",
         "⚠️ At Risk"
        ],
        [
         "11",
         "North Vancouver",
         "1106758.5",
         "0.67",
         "⚠️ At Risk"
        ],
        [
         "12",
         "Abbotsford",
         "1084026.4",
         "0.65",
         "⚠️ At Risk"
        ],
        [
         "13",
         "Halifax",
         "718499.44",
         "0.43",
         "✅ Affordable"
        ],
        [
         "14",
         "Vancouver",
         "387475.38",
         "0.24",
         "✅ Affordable"
        ],
        [
         "15",
         "Fort McMurray",
         "292884.7",
         "0.18",
         "✅ Affordable"
        ],
        [
         "16",
         "Langley",
         "1591894.4",
         "0.96",
         "🚫 Unaffordable"
        ],
        [
         "17",
         "Coquitlam",
         "466329.03",
         "0.28",
         "✅ Affordable"
        ],
        [
         "18",
         "Richmond",
         "970923.4",
         "0.59",
         "⚠️ At Risk"
        ],
        [
         "19",
         "West Kelowna",
         "767512.4",
         "0.46",
         "✅ Affordable"
        ],
        [
         "20",
         "Estevan Rm No. 5",
         "807083.6",
         "0.49",
         "✅ Affordable"
        ],
        [
         "21",
         "Kitchener",
         "363891.78",
         "0.22",
         "✅ Affordable"
        ],
        [
         "22",
         "Tracadie",
         "282902.7",
         "0.17",
         "✅ Affordable"
        ],
        [
         "23",
         "Burnaby",
         "912812.2",
         "0.55",
         "⚠️ At Risk"
        ],
        [
         "24",
         "West Kelowna",
         "2517389.5",
         "1.52",
         "🚫 Unaffordable"
        ],
        [
         "25",
         "Qualicum Beach",
         "1775592.2",
         "1.07",
         "🚫 Unaffordable"
        ],
        [
         "26",
         "Surrey",
         "1130095.4",
         "0.68",
         "⚠️ At Risk"
        ],
        [
         "27",
         "Maple Ridge",
         "3203047.0",
         "1.94",
         "🚫 Unaffordable"
        ],
        [
         "28",
         "Saskatoon",
         "920398.9",
         "0.56",
         "⚠️ At Risk"
        ],
        [
         "29",
         "Regina",
         "182673.95",
         "0.11",
         "✅ Affordable"
        ],
        [
         "30",
         "Bouctouche",
         "488796.97",
         "0.3",
         "✅ Affordable"
        ],
        [
         "31",
         "Surrey",
         "2839568.5",
         "1.72",
         "🚫 Unaffordable"
        ],
        [
         "32",
         "Halifax",
         "453715.16",
         "0.27",
         "✅ Affordable"
        ],
        [
         "33",
         "Christopher Lake",
         "222042.06",
         "0.13",
         "✅ Affordable"
        ],
        [
         "34",
         "Regina",
         "371324.1",
         "0.22",
         "✅ Affordable"
        ],
        [
         "35",
         "Plaster Rock",
         "397226.12",
         "0.24",
         "✅ Affordable"
        ],
        [
         "36",
         "Calgary",
         "705724.0",
         "0.4",
         "✅ Affordable"
        ],
        [
         "37",
         "Burnaby",
         "2442247.2",
         "1.48",
         "🚫 Unaffordable"
        ],
        [
         "38",
         "Mount Uniacke",
         "798474.8",
         "0.48",
         "✅ Affordable"
        ],
        [
         "39",
         "Burnaby",
         "959166.94",
         "0.58",
         "⚠️ At Risk"
        ],
        [
         "40",
         "Surrey",
         "4844570.5",
         "2.93",
         "🚫 Unaffordable"
        ],
        [
         "41",
         "Burnaby",
         "618213.06",
         "0.37",
         "✅ Affordable"
        ],
        [
         "42",
         "Echo Bay, Laird Twp",
         "804974.2",
         "0.49",
         "✅ Affordable"
        ],
        [
         "43",
         "Abbotsford",
         "443563.84",
         "0.27",
         "✅ Affordable"
        ],
        [
         "44",
         "Beaumont",
         "512937.8",
         "0.31",
         "✅ Affordable"
        ],
        [
         "45",
         "Calgary",
         "630764.25",
         "0.35",
         "✅ Affordable"
        ],
        [
         "46",
         "Vancouver",
         "587666.56",
         "0.36",
         "✅ Affordable"
        ],
        [
         "47",
         "Fort Nelson",
         "222207.88",
         "0.13",
         "✅ Affordable"
        ],
        [
         "48",
         "Surrey",
         "942342.4",
         "0.57",
         "⚠️ At Risk"
        ],
        [
         "49",
         "Vancouver",
         "3129290.0",
         "1.93",
         "🚫 Unaffordable"
        ]
       ],
       "shape": {
        "columns": 4,
        "rows": 50
       }
      },
      "text/html": [
       "<div>\n",
       "<style scoped>\n",
       "    .dataframe tbody tr th:only-of-type {\n",
       "        vertical-align: middle;\n",
       "    }\n",
       "\n",
       "    .dataframe tbody tr th {\n",
       "        vertical-align: top;\n",
       "    }\n",
       "\n",
       "    .dataframe thead th {\n",
       "        text-align: right;\n",
       "    }\n",
       "</style>\n",
       "<table border=\"1\" class=\"dataframe\">\n",
       "  <thead>\n",
       "    <tr style=\"text-align: right;\">\n",
       "      <th></th>\n",
       "      <th>City</th>\n",
       "      <th>Predicted_Price</th>\n",
       "      <th>affordability_score</th>\n",
       "      <th>affordability_label</th>\n",
       "    </tr>\n",
       "  </thead>\n",
       "  <tbody>\n",
       "    <tr>\n",
       "      <th>0</th>\n",
       "      <td>Burnaby</td>\n",
       "      <td>2.978865e+06</td>\n",
       "      <td>1.80</td>\n",
       "      <td>🚫 Unaffordable</td>\n",
       "    </tr>\n",
       "    <tr>\n",
       "      <th>1</th>\n",
       "      <td>Maple Ridge</td>\n",
       "      <td>3.843873e+06</td>\n",
       "      <td>2.32</td>\n",
       "      <td>🚫 Unaffordable</td>\n",
       "    </tr>\n",
       "    <tr>\n",
       "      <th>2</th>\n",
       "      <td>North Vancouver</td>\n",
       "      <td>1.931781e+06</td>\n",
       "      <td>1.17</td>\n",
       "      <td>🚫 Unaffordable</td>\n",
       "    </tr>\n",
       "    <tr>\n",
       "      <th>3</th>\n",
       "      <td>Vancouver</td>\n",
       "      <td>6.728548e+06</td>\n",
       "      <td>4.16</td>\n",
       "      <td>🚫 Unaffordable</td>\n",
       "    </tr>\n",
       "    <tr>\n",
       "      <th>4</th>\n",
       "      <td>Delta</td>\n",
       "      <td>1.443135e+06</td>\n",
       "      <td>0.87</td>\n",
       "      <td>🚫 Unaffordable</td>\n",
       "    </tr>\n",
       "    <tr>\n",
       "      <th>5</th>\n",
       "      <td>Richmond</td>\n",
       "      <td>1.140347e+06</td>\n",
       "      <td>0.69</td>\n",
       "      <td>⚠️ At Risk</td>\n",
       "    </tr>\n",
       "    <tr>\n",
       "      <th>6</th>\n",
       "      <td>Moncton</td>\n",
       "      <td>6.802705e+05</td>\n",
       "      <td>0.41</td>\n",
       "      <td>✅ Affordable</td>\n",
       "    </tr>\n",
       "    <tr>\n",
       "      <th>7</th>\n",
       "      <td>Richmond</td>\n",
       "      <td>9.492749e+05</td>\n",
       "      <td>0.57</td>\n",
       "      <td>⚠️ At Risk</td>\n",
       "    </tr>\n",
       "    <tr>\n",
       "      <th>8</th>\n",
       "      <td>Regina</td>\n",
       "      <td>3.767538e+05</td>\n",
       "      <td>0.23</td>\n",
       "      <td>✅ Affordable</td>\n",
       "    </tr>\n",
       "    <tr>\n",
       "      <th>9</th>\n",
       "      <td>New Westminster</td>\n",
       "      <td>5.628408e+05</td>\n",
       "      <td>0.34</td>\n",
       "      <td>✅ Affordable</td>\n",
       "    </tr>\n",
       "    <tr>\n",
       "      <th>10</th>\n",
       "      <td>Surrey</td>\n",
       "      <td>1.218174e+06</td>\n",
       "      <td>0.74</td>\n",
       "      <td>⚠️ At Risk</td>\n",
       "    </tr>\n",
       "    <tr>\n",
       "      <th>11</th>\n",
       "      <td>North Vancouver</td>\n",
       "      <td>1.106758e+06</td>\n",
       "      <td>0.67</td>\n",
       "      <td>⚠️ At Risk</td>\n",
       "    </tr>\n",
       "    <tr>\n",
       "      <th>12</th>\n",
       "      <td>Abbotsford</td>\n",
       "      <td>1.084026e+06</td>\n",
       "      <td>0.65</td>\n",
       "      <td>⚠️ At Risk</td>\n",
       "    </tr>\n",
       "    <tr>\n",
       "      <th>13</th>\n",
       "      <td>Halifax</td>\n",
       "      <td>7.184994e+05</td>\n",
       "      <td>0.43</td>\n",
       "      <td>✅ Affordable</td>\n",
       "    </tr>\n",
       "    <tr>\n",
       "      <th>14</th>\n",
       "      <td>Vancouver</td>\n",
       "      <td>3.874754e+05</td>\n",
       "      <td>0.24</td>\n",
       "      <td>✅ Affordable</td>\n",
       "    </tr>\n",
       "    <tr>\n",
       "      <th>15</th>\n",
       "      <td>Fort McMurray</td>\n",
       "      <td>2.928847e+05</td>\n",
       "      <td>0.18</td>\n",
       "      <td>✅ Affordable</td>\n",
       "    </tr>\n",
       "    <tr>\n",
       "      <th>16</th>\n",
       "      <td>Langley</td>\n",
       "      <td>1.591894e+06</td>\n",
       "      <td>0.96</td>\n",
       "      <td>🚫 Unaffordable</td>\n",
       "    </tr>\n",
       "    <tr>\n",
       "      <th>17</th>\n",
       "      <td>Coquitlam</td>\n",
       "      <td>4.663290e+05</td>\n",
       "      <td>0.28</td>\n",
       "      <td>✅ Affordable</td>\n",
       "    </tr>\n",
       "    <tr>\n",
       "      <th>18</th>\n",
       "      <td>Richmond</td>\n",
       "      <td>9.709234e+05</td>\n",
       "      <td>0.59</td>\n",
       "      <td>⚠️ At Risk</td>\n",
       "    </tr>\n",
       "    <tr>\n",
       "      <th>19</th>\n",
       "      <td>West Kelowna</td>\n",
       "      <td>7.675124e+05</td>\n",
       "      <td>0.46</td>\n",
       "      <td>✅ Affordable</td>\n",
       "    </tr>\n",
       "    <tr>\n",
       "      <th>20</th>\n",
       "      <td>Estevan Rm No. 5</td>\n",
       "      <td>8.070836e+05</td>\n",
       "      <td>0.49</td>\n",
       "      <td>✅ Affordable</td>\n",
       "    </tr>\n",
       "    <tr>\n",
       "      <th>21</th>\n",
       "      <td>Kitchener</td>\n",
       "      <td>3.638918e+05</td>\n",
       "      <td>0.22</td>\n",
       "      <td>✅ Affordable</td>\n",
       "    </tr>\n",
       "    <tr>\n",
       "      <th>22</th>\n",
       "      <td>Tracadie</td>\n",
       "      <td>2.829027e+05</td>\n",
       "      <td>0.17</td>\n",
       "      <td>✅ Affordable</td>\n",
       "    </tr>\n",
       "    <tr>\n",
       "      <th>23</th>\n",
       "      <td>Burnaby</td>\n",
       "      <td>9.128122e+05</td>\n",
       "      <td>0.55</td>\n",
       "      <td>⚠️ At Risk</td>\n",
       "    </tr>\n",
       "    <tr>\n",
       "      <th>24</th>\n",
       "      <td>West Kelowna</td>\n",
       "      <td>2.517390e+06</td>\n",
       "      <td>1.52</td>\n",
       "      <td>🚫 Unaffordable</td>\n",
       "    </tr>\n",
       "    <tr>\n",
       "      <th>25</th>\n",
       "      <td>Qualicum Beach</td>\n",
       "      <td>1.775592e+06</td>\n",
       "      <td>1.07</td>\n",
       "      <td>🚫 Unaffordable</td>\n",
       "    </tr>\n",
       "    <tr>\n",
       "      <th>26</th>\n",
       "      <td>Surrey</td>\n",
       "      <td>1.130095e+06</td>\n",
       "      <td>0.68</td>\n",
       "      <td>⚠️ At Risk</td>\n",
       "    </tr>\n",
       "    <tr>\n",
       "      <th>27</th>\n",
       "      <td>Maple Ridge</td>\n",
       "      <td>3.203047e+06</td>\n",
       "      <td>1.94</td>\n",
       "      <td>🚫 Unaffordable</td>\n",
       "    </tr>\n",
       "    <tr>\n",
       "      <th>28</th>\n",
       "      <td>Saskatoon</td>\n",
       "      <td>9.203989e+05</td>\n",
       "      <td>0.56</td>\n",
       "      <td>⚠️ At Risk</td>\n",
       "    </tr>\n",
       "    <tr>\n",
       "      <th>29</th>\n",
       "      <td>Regina</td>\n",
       "      <td>1.826740e+05</td>\n",
       "      <td>0.11</td>\n",
       "      <td>✅ Affordable</td>\n",
       "    </tr>\n",
       "    <tr>\n",
       "      <th>30</th>\n",
       "      <td>Bouctouche</td>\n",
       "      <td>4.887970e+05</td>\n",
       "      <td>0.30</td>\n",
       "      <td>✅ Affordable</td>\n",
       "    </tr>\n",
       "    <tr>\n",
       "      <th>31</th>\n",
       "      <td>Surrey</td>\n",
       "      <td>2.839568e+06</td>\n",
       "      <td>1.72</td>\n",
       "      <td>🚫 Unaffordable</td>\n",
       "    </tr>\n",
       "    <tr>\n",
       "      <th>32</th>\n",
       "      <td>Halifax</td>\n",
       "      <td>4.537152e+05</td>\n",
       "      <td>0.27</td>\n",
       "      <td>✅ Affordable</td>\n",
       "    </tr>\n",
       "    <tr>\n",
       "      <th>33</th>\n",
       "      <td>Christopher Lake</td>\n",
       "      <td>2.220421e+05</td>\n",
       "      <td>0.13</td>\n",
       "      <td>✅ Affordable</td>\n",
       "    </tr>\n",
       "    <tr>\n",
       "      <th>34</th>\n",
       "      <td>Regina</td>\n",
       "      <td>3.713241e+05</td>\n",
       "      <td>0.22</td>\n",
       "      <td>✅ Affordable</td>\n",
       "    </tr>\n",
       "    <tr>\n",
       "      <th>35</th>\n",
       "      <td>Plaster Rock</td>\n",
       "      <td>3.972261e+05</td>\n",
       "      <td>0.24</td>\n",
       "      <td>✅ Affordable</td>\n",
       "    </tr>\n",
       "    <tr>\n",
       "      <th>36</th>\n",
       "      <td>Calgary</td>\n",
       "      <td>7.057240e+05</td>\n",
       "      <td>0.40</td>\n",
       "      <td>✅ Affordable</td>\n",
       "    </tr>\n",
       "    <tr>\n",
       "      <th>37</th>\n",
       "      <td>Burnaby</td>\n",
       "      <td>2.442247e+06</td>\n",
       "      <td>1.48</td>\n",
       "      <td>🚫 Unaffordable</td>\n",
       "    </tr>\n",
       "    <tr>\n",
       "      <th>38</th>\n",
       "      <td>Mount Uniacke</td>\n",
       "      <td>7.984748e+05</td>\n",
       "      <td>0.48</td>\n",
       "      <td>✅ Affordable</td>\n",
       "    </tr>\n",
       "    <tr>\n",
       "      <th>39</th>\n",
       "      <td>Burnaby</td>\n",
       "      <td>9.591669e+05</td>\n",
       "      <td>0.58</td>\n",
       "      <td>⚠️ At Risk</td>\n",
       "    </tr>\n",
       "    <tr>\n",
       "      <th>40</th>\n",
       "      <td>Surrey</td>\n",
       "      <td>4.844570e+06</td>\n",
       "      <td>2.93</td>\n",
       "      <td>🚫 Unaffordable</td>\n",
       "    </tr>\n",
       "    <tr>\n",
       "      <th>41</th>\n",
       "      <td>Burnaby</td>\n",
       "      <td>6.182131e+05</td>\n",
       "      <td>0.37</td>\n",
       "      <td>✅ Affordable</td>\n",
       "    </tr>\n",
       "    <tr>\n",
       "      <th>42</th>\n",
       "      <td>Echo Bay, Laird Twp</td>\n",
       "      <td>8.049742e+05</td>\n",
       "      <td>0.49</td>\n",
       "      <td>✅ Affordable</td>\n",
       "    </tr>\n",
       "    <tr>\n",
       "      <th>43</th>\n",
       "      <td>Abbotsford</td>\n",
       "      <td>4.435638e+05</td>\n",
       "      <td>0.27</td>\n",
       "      <td>✅ Affordable</td>\n",
       "    </tr>\n",
       "    <tr>\n",
       "      <th>44</th>\n",
       "      <td>Beaumont</td>\n",
       "      <td>5.129378e+05</td>\n",
       "      <td>0.31</td>\n",
       "      <td>✅ Affordable</td>\n",
       "    </tr>\n",
       "    <tr>\n",
       "      <th>45</th>\n",
       "      <td>Calgary</td>\n",
       "      <td>6.307642e+05</td>\n",
       "      <td>0.35</td>\n",
       "      <td>✅ Affordable</td>\n",
       "    </tr>\n",
       "    <tr>\n",
       "      <th>46</th>\n",
       "      <td>Vancouver</td>\n",
       "      <td>5.876666e+05</td>\n",
       "      <td>0.36</td>\n",
       "      <td>✅ Affordable</td>\n",
       "    </tr>\n",
       "    <tr>\n",
       "      <th>47</th>\n",
       "      <td>Fort Nelson</td>\n",
       "      <td>2.222079e+05</td>\n",
       "      <td>0.13</td>\n",
       "      <td>✅ Affordable</td>\n",
       "    </tr>\n",
       "    <tr>\n",
       "      <th>48</th>\n",
       "      <td>Surrey</td>\n",
       "      <td>9.423424e+05</td>\n",
       "      <td>0.57</td>\n",
       "      <td>⚠️ At Risk</td>\n",
       "    </tr>\n",
       "    <tr>\n",
       "      <th>49</th>\n",
       "      <td>Vancouver</td>\n",
       "      <td>3.129290e+06</td>\n",
       "      <td>1.93</td>\n",
       "      <td>🚫 Unaffordable</td>\n",
       "    </tr>\n",
       "  </tbody>\n",
       "</table>\n",
       "</div>"
      ],
      "text/plain": [
       "                   City  Predicted_Price  affordability_score  \\\n",
       "0               Burnaby     2.978865e+06                 1.80   \n",
       "1           Maple Ridge     3.843873e+06                 2.32   \n",
       "2       North Vancouver     1.931781e+06                 1.17   \n",
       "3             Vancouver     6.728548e+06                 4.16   \n",
       "4                 Delta     1.443135e+06                 0.87   \n",
       "5              Richmond     1.140347e+06                 0.69   \n",
       "6               Moncton     6.802705e+05                 0.41   \n",
       "7              Richmond     9.492749e+05                 0.57   \n",
       "8                Regina     3.767538e+05                 0.23   \n",
       "9       New Westminster     5.628408e+05                 0.34   \n",
       "10               Surrey     1.218174e+06                 0.74   \n",
       "11      North Vancouver     1.106758e+06                 0.67   \n",
       "12           Abbotsford     1.084026e+06                 0.65   \n",
       "13              Halifax     7.184994e+05                 0.43   \n",
       "14            Vancouver     3.874754e+05                 0.24   \n",
       "15        Fort McMurray     2.928847e+05                 0.18   \n",
       "16              Langley     1.591894e+06                 0.96   \n",
       "17            Coquitlam     4.663290e+05                 0.28   \n",
       "18             Richmond     9.709234e+05                 0.59   \n",
       "19         West Kelowna     7.675124e+05                 0.46   \n",
       "20     Estevan Rm No. 5     8.070836e+05                 0.49   \n",
       "21            Kitchener     3.638918e+05                 0.22   \n",
       "22             Tracadie     2.829027e+05                 0.17   \n",
       "23              Burnaby     9.128122e+05                 0.55   \n",
       "24         West Kelowna     2.517390e+06                 1.52   \n",
       "25       Qualicum Beach     1.775592e+06                 1.07   \n",
       "26               Surrey     1.130095e+06                 0.68   \n",
       "27          Maple Ridge     3.203047e+06                 1.94   \n",
       "28            Saskatoon     9.203989e+05                 0.56   \n",
       "29               Regina     1.826740e+05                 0.11   \n",
       "30           Bouctouche     4.887970e+05                 0.30   \n",
       "31               Surrey     2.839568e+06                 1.72   \n",
       "32              Halifax     4.537152e+05                 0.27   \n",
       "33     Christopher Lake     2.220421e+05                 0.13   \n",
       "34               Regina     3.713241e+05                 0.22   \n",
       "35         Plaster Rock     3.972261e+05                 0.24   \n",
       "36              Calgary     7.057240e+05                 0.40   \n",
       "37              Burnaby     2.442247e+06                 1.48   \n",
       "38        Mount Uniacke     7.984748e+05                 0.48   \n",
       "39              Burnaby     9.591669e+05                 0.58   \n",
       "40               Surrey     4.844570e+06                 2.93   \n",
       "41              Burnaby     6.182131e+05                 0.37   \n",
       "42  Echo Bay, Laird Twp     8.049742e+05                 0.49   \n",
       "43           Abbotsford     4.435638e+05                 0.27   \n",
       "44             Beaumont     5.129378e+05                 0.31   \n",
       "45              Calgary     6.307642e+05                 0.35   \n",
       "46            Vancouver     5.876666e+05                 0.36   \n",
       "47          Fort Nelson     2.222079e+05                 0.13   \n",
       "48               Surrey     9.423424e+05                 0.57   \n",
       "49            Vancouver     3.129290e+06                 1.93   \n",
       "\n",
       "   affordability_label  \n",
       "0       🚫 Unaffordable  \n",
       "1       🚫 Unaffordable  \n",
       "2       🚫 Unaffordable  \n",
       "3       🚫 Unaffordable  \n",
       "4       🚫 Unaffordable  \n",
       "5           ⚠️ At Risk  \n",
       "6         ✅ Affordable  \n",
       "7           ⚠️ At Risk  \n",
       "8         ✅ Affordable  \n",
       "9         ✅ Affordable  \n",
       "10          ⚠️ At Risk  \n",
       "11          ⚠️ At Risk  \n",
       "12          ⚠️ At Risk  \n",
       "13        ✅ Affordable  \n",
       "14        ✅ Affordable  \n",
       "15        ✅ Affordable  \n",
       "16      🚫 Unaffordable  \n",
       "17        ✅ Affordable  \n",
       "18          ⚠️ At Risk  \n",
       "19        ✅ Affordable  \n",
       "20        ✅ Affordable  \n",
       "21        ✅ Affordable  \n",
       "22        ✅ Affordable  \n",
       "23          ⚠️ At Risk  \n",
       "24      🚫 Unaffordable  \n",
       "25      🚫 Unaffordable  \n",
       "26          ⚠️ At Risk  \n",
       "27      🚫 Unaffordable  \n",
       "28          ⚠️ At Risk  \n",
       "29        ✅ Affordable  \n",
       "30        ✅ Affordable  \n",
       "31      🚫 Unaffordable  \n",
       "32        ✅ Affordable  \n",
       "33        ✅ Affordable  \n",
       "34        ✅ Affordable  \n",
       "35        ✅ Affordable  \n",
       "36        ✅ Affordable  \n",
       "37      🚫 Unaffordable  \n",
       "38        ✅ Affordable  \n",
       "39          ⚠️ At Risk  \n",
       "40      🚫 Unaffordable  \n",
       "41        ✅ Affordable  \n",
       "42        ✅ Affordable  \n",
       "43        ✅ Affordable  \n",
       "44        ✅ Affordable  \n",
       "45        ✅ Affordable  \n",
       "46        ✅ Affordable  \n",
       "47        ✅ Affordable  \n",
       "48          ⚠️ At Risk  \n",
       "49      🚫 Unaffordable  "
      ]
     },
     "execution_count": 15,
     "metadata": {},
     "output_type": "execute_result"
    }
   ],
   "source": [
    "print(\"Calculating affordability metrics for validation set...\")\n",
    "\n",
    "# Median income dictionary\n",
    "median_income = {\n",
    "    \"Toronto\": 100000,\n",
    "    \"Vancouver\": 88000,\n",
    "    \"Montreal\": 82000,\n",
    "    \"Ottawa\": 95000,\n",
    "    \"Calgary\": 97000\n",
    "}\n",
    "# Affordability function\n",
    "def calculate_affordability_fixed(pred_prices, cities, interest_rate=0.035, years=30):\n",
    "    scores = []\n",
    "    labels = []\n",
    "    for price, city in zip(pred_prices, cities):\n",
    "        income = median_income.get(city, 90000)  # fallback median income\n",
    "        annual_payment = (price * interest_rate) / (1 - (1 + interest_rate) ** (-years))\n",
    "        score = annual_payment / income\n",
    "        if score < 0.5:\n",
    "            label = \"✅ Affordable\"\n",
    "        elif score < 0.8:\n",
    "            label = \"⚠️ At Risk\"\n",
    "        else:\n",
    "            label = \"🚫 Unaffordable\"\n",
    "        scores.append(round(score, 2))\n",
    "        labels.append(label)\n",
    "    return scores, labels\n",
    "\n",
    "# Make a copy of validation features\n",
    "val_df_copy = val_data.copy()\n",
    "\n",
    "# Ensure 'City' column is present\n",
    "val_df_copy['City'] = df.loc[val_data.index, 'City']\n",
    "\n",
    "# Predict prices for validation set\n",
    "y_pred_val = predictor.predict(val_data)\n",
    "\n",
    "# Calculate affordability scores and labels\n",
    "scores, labels = calculate_affordability_fixed(y_pred_val, val_df_copy['City'])\n",
    "\n",
    "# Add predictions and affordability metrics to dataframe\n",
    "val_df_copy['Predicted_Price'] = y_pred_val\n",
    "val_df_copy['affordability_score'] = scores\n",
    "val_df_copy['affordability_label'] = labels\n",
    "\n",
    "# Randomly sample 50 rows for display\n",
    "val_sample = val_df_copy.sample(50, random_state=42)\n",
    "\n",
    "# Display the results\n",
    "print(\"Affordability sample for validation set:\")\n",
    "val_sample[['City', 'Predicted_Price', 'affordability_score', 'affordability_label']].reset_index(drop=True)\n"
   ]
  },
  {
   "cell_type": "markdown",
   "id": "6afd0dd5",
   "metadata": {},
   "source": [
    "## Random Sample Prediction\n",
    "\n"
   ]
  },
  {
   "cell_type": "code",
   "execution_count": null,
   "id": "a5380bb0",
   "metadata": {},
   "outputs": [
    {
     "name": "stdout",
     "output_type": "stream",
     "text": [
      "Step: Random single prediction with affordability label...\n",
      "Random Sample from Surrey, BC\n",
      "Predicted Price: $2,935,419\n",
      "Affordability Score: 1.7699999809265137 → 🚫 Unaffordable\n"
     ]
    }
   ],
   "source": [
    "print(\"Step: Random single prediction with affordability label...\")\n",
    "\n",
    "# Randomly select 1 row from test set\n",
    "sample = test_data.sample(1)\n",
    "X_sample = sample.copy()\n",
    "\n",
    "# Predict price for this single sample\n",
    "pred_price = predictor.predict(X_sample).iloc[0]  # <-- use iloc[0] to get the value\n",
    "\n",
    "# Calculate affordability score and label\n",
    "score, label = calculate_affordability_fixed([pred_price], [sample['City'].iloc[0]])\n",
    "score, label = score[0], label[0]\n",
    "\n",
    "# Print nicely\n",
    "print(f\"Random Sample from {sample['City'].iloc[0]}, {sample['Province'].iloc[0]}\")\n",
    "print(f\"Predicted Price: ${pred_price:,.0f}\")\n",
    "print(f\"Affordability Score: {score} → {label}\")\n"
   ]
  },
  {
   "cell_type": "markdown",
   "id": "6a759ac1",
   "metadata": {},
   "source": [
    "## Conclusion and Recommendations\n",
    "\n",
    "### Model Performance\n",
    "\n",
    "The AutoGluon pretrained model was successfully trained and evaluated on our housing dataset. The evaluation metrics on the test data demonstrate strong predictive performance:\n",
    "\n",
    "- **Mean Absolute Error (MAE):** \\$196,707.31 — on average, the predicted house prices deviate from the actual prices by roughly \\$197k.  \n",
    "- **Mean Squared Error (MSE):** 276,754,649,330 — the model penalizes larger errors heavily but maintains reliable predictions.  \n",
    "- **R² Score:** 0.8251 — the model explains over 82% of the variance in housing prices, indicating a high level of accuracy.  \n",
    "\n",
    "These results confirm that the model effectively captures the relationship between key property features (Fireplace, Heating, Flooring, Roof, Waterfront, Sewer, Pool, Garden, Balcony) and house prices.\n",
    "\n",
    "### Affordability Analysis\n",
    "\n",
    "Using the predicted prices and local median incomes, the affordability scores provide actionable insights:  \n",
    "\n",
    "- Homes marked as **✅ Affordable** are well within the buyer's financial capacity.  \n",
    "- Homes marked as **⚠️ At Risk** could pose moderate financial stress.  \n",
    "- Homes marked as **🚫 Unaffordable** are likely to be beyond reasonable budget constraints.  \n",
    "\n",
    "This analysis can guide prospective buyers and policymakers in making informed decisions about housing affordability.\n",
    "\n",
    "### Recommendations / Next Steps\n",
    "\n",
    "1. **Feature Expansion:** Incorporate additional property and neighborhood-level features (e.g., school ratings, proximity to amenities) to improve prediction accuracy.  \n",
    "2. **Hyperparameter Tuning:** Explore advanced AutoGluon hyperparameter configurations or alternative pretrained models to further reduce MAE and MSE.  \n",
    "3. **Scenario Analysis:** Use the model to simulate different interest rates or mortgage conditions to assess affordability under varying financial scenarios.  \n",
    "4. **Deployment:** Integrate the model into a web-based decision support tool for buyers and real estate professionals.  \n",
    "5. **Continuous Updating:** Regularly retrain the model on new housing data to maintain accuracy in a dynamic market.  \n",
    "\n",
    "**Overall**, leveraging a pretrained model with AutoGluon provides fast, reliable, and actionable housing price predictions while also offering practical affordability insights for real-world decision-making.\n"
   ]
  }
 ],
 "metadata": {
  "kernelspec": {
   "display_name": "ml-env",
   "language": "python",
   "name": "python3"
  },
  "language_info": {
   "codemirror_mode": {
    "name": "ipython",
    "version": 3
   },
   "file_extension": ".py",
   "mimetype": "text/x-python",
   "name": "python",
   "nbconvert_exporter": "python",
   "pygments_lexer": "ipython3",
   "version": "3.10.18"
  }
 },
 "nbformat": 4,
 "nbformat_minor": 5
}
