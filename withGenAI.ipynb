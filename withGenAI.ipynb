{
 "cells": [
  {
   "cell_type": "markdown",
   "id": "6161de15",
   "metadata": {},
   "source": [
    "# Housing Affordability — Prototype (With Generative AI)\n",
    "\n",
    "# Gemini-guided Hyperparameter Tuning for Housing Prices (RF, XGB, MLP)\n",
    "_Uses Google Gemini to suggest hyperparameters at runtime, with free-tier-safe limits and local fallback._\n",
    "\n"
   ]
  },
  {
   "cell_type": "markdown",
   "id": "a033fb59",
   "metadata": {},
   "source": [
    "## Setup & Imports\n",
    "\n"
   ]
  },
  {
   "cell_type": "code",
   "execution_count": 2,
   "id": "092c9c43",
   "metadata": {},
   "outputs": [
    {
     "name": "stdout",
     "output_type": "stream",
     "text": [
      "Step 1: Importing libraries...\n"
     ]
    },
    {
     "ename": "ModuleNotFoundError",
     "evalue": "No module named 'autogluon'",
     "output_type": "error",
     "traceback": [
      "\u001b[1;31m---------------------------------------------------------------------------\u001b[0m",
      "\u001b[1;31mModuleNotFoundError\u001b[0m                       Traceback (most recent call last)",
      "Cell \u001b[1;32mIn[2], line 8\u001b[0m\n\u001b[0;32m      6\u001b[0m \u001b[38;5;28;01mimport\u001b[39;00m \u001b[38;5;21;01mseaborn\u001b[39;00m \u001b[38;5;28;01mas\u001b[39;00m \u001b[38;5;21;01msns\u001b[39;00m\n\u001b[0;32m      7\u001b[0m \u001b[38;5;28;01mfrom\u001b[39;00m \u001b[38;5;21;01msklearn\u001b[39;00m\u001b[38;5;21;01m.\u001b[39;00m\u001b[38;5;21;01mmodel_selection\u001b[39;00m \u001b[38;5;28;01mimport\u001b[39;00m train_test_split\n\u001b[1;32m----> 8\u001b[0m \u001b[38;5;28;01mfrom\u001b[39;00m \u001b[38;5;21;01mautogluon\u001b[39;00m\u001b[38;5;21;01m.\u001b[39;00m\u001b[38;5;21;01mtabular\u001b[39;00m \u001b[38;5;28;01mimport\u001b[39;00m TabularPredictor\n\u001b[0;32m     10\u001b[0m \u001b[38;5;28mprint\u001b[39m(\u001b[38;5;124m\"\u001b[39m\u001b[38;5;124mLibraries imported successfully!\u001b[39m\u001b[38;5;124m\"\u001b[39m)\n",
      "\u001b[1;31mModuleNotFoundError\u001b[0m: No module named 'autogluon'"
     ]
    }
   ],
   "source": [
    "print(\"Step 1: Importing libraries...\")\n",
    "\n",
    "import pandas as pd\n",
    "import numpy as np\n",
    "import matplotlib.pyplot as plt\n",
    "import seaborn as sns\n",
    "from sklearn.model_selection import train_test_split\n",
    "from autogluon.tabular import TabularPredictor\n",
    "\n",
    "print(\"Libraries imported successfully!\")"
   ]
  },
  {
   "cell_type": "markdown",
   "id": "8e9944fb",
   "metadata": {},
   "source": [
    "\n",
    "## Import Dataset\n"
   ]
  },
  {
   "cell_type": "code",
   "execution_count": null,
   "id": "627058f1",
   "metadata": {},
   "outputs": [],
   "source": [
    "print(\"Loading dataset...\")\n",
    "df = pd.read_csv(\"canadian_housing_data.csv\")\n",
    "print(f\"Dataset loaded with {df.shape[0]} rows and {df.shape[1]} columns.\\n\")\n",
    "print(\"Displaying first 5 rows:\")\n",
    "display(df.head())"
   ]
  },
  {
   "cell_type": "markdown",
   "id": "8f1eabc9",
   "metadata": {},
   "source": [
    "##  Exploratory Data Analysis (EDA)\n"
   ]
  },
  {
   "cell_type": "code",
   "execution_count": null,
   "id": "49d0e585",
   "metadata": {},
   "outputs": [],
   "source": [
    "print(\"Performing basic dataset exploration...\\n\")\n",
    "print(\"Dataset info:\")\n",
    "df.info()\n",
    "\n",
    "print(\"\\nDescriptive statistics for numeric columns:\")\n",
    "display(df.describe())\n",
    "\n",
    "print(\"\\nChecking for missing values:\")\n",
    "display(df.isnull().sum())\n",
    "print(\"EDA exploration completed.\\n\")\n"
   ]
  },
  {
   "cell_type": "code",
   "execution_count": null,
   "id": "d0f1a6df",
   "metadata": {},
   "outputs": [],
   "source": [
    "print(\"Plotting price distribution...\")\n",
    "plt.figure(figsize=(8,5))\n",
    "sns.histplot(df['Price'], bins=50, kde=True)\n",
    "plt.title(\"Distribution of Housing Prices\")\n",
    "plt.show()\n",
    "print(\"Done.\\n\")\n"
   ]
  },
  {
   "cell_type": "code",
   "execution_count": null,
   "id": "23d0b042",
   "metadata": {},
   "outputs": [],
   "source": [
    "print(\"Plotting correlation heatmap...\")\n",
    "plt.figure(figsize=(10,8))\n",
    "numeric_df = df.select_dtypes(include='number')  # select only numeric columns\n",
    "sns.heatmap(numeric_df.corr(), annot=True, fmt=\".2f\", cmap=\"coolwarm\")\n",
    "plt.title(\"Correlation Heatmap\")\n",
    "plt.show()\n"
   ]
  },
  {
   "cell_type": "markdown",
   "id": "90026b44",
   "metadata": {},
   "source": [
    "## Preprocessing\n"
   ]
  },
  {
   "cell_type": "code",
   "execution_count": null,
   "id": "2a9b7d40",
   "metadata": {},
   "outputs": [],
   "source": [
    "print(\"Preprocessing data...\")\n",
    "\n",
    "# Fill missing categorical values with 'Unknown'\n",
    "categorical_features = ['City','Province','Property Type','Garage','Parking','Basement','Exterior',\n",
    "                        'Fireplace','Heating','Flooring','Roof','Waterfront','Sewer','Pool','Garden','Balcony']\n",
    "\n",
    "for col in categorical_features:\n",
    "    df[col] = df[col].fillna('Unknown')\n",
    "\n",
    "# Fill missing numerical values with median\n",
    "numerical_features = ['Latitude','Longitude','Price','Bedrooms','Bathrooms','Acreage','Square Footage']\n",
    "for col in numerical_features:\n",
    "    df[col] = df[col].fillna(df[col].median())\n",
    "\n",
    "print(\"Preprocessing complete.\")\n"
   ]
  },
  {
   "cell_type": "markdown",
   "id": "7daf8334",
   "metadata": {},
   "source": [
    "## Train / Validation / Test Split (80/10/10)\n"
   ]
  },
  {
   "cell_type": "code",
   "execution_count": null,
   "id": "e2f364df",
   "metadata": {},
   "outputs": [],
   "source": [
    "print(\"Splitting dataset...\")\n",
    "\n",
    "train_data = df.sample(frac=0.8, random_state=42)\n",
    "temp_data = df.drop(train_data.index)\n",
    "val_data = temp_data.sample(frac=0.5, random_state=42)\n",
    "test_data = temp_data.drop(val_data.index)\n",
    "\n",
    "print(f\"Training set: {train_data.shape}\")\n",
    "print(f\"Validation set: {val_data.shape}\")\n",
    "print(f\"Test set: {test_data.shape}\")\n"
   ]
  },
  {
   "cell_type": "markdown",
   "id": "d3d13edb",
   "metadata": {},
   "source": [
    "## Loading Pretrained Models\n"
   ]
  },
  {
   "cell_type": "code",
   "execution_count": null,
   "id": "b3758c36",
   "metadata": {},
   "outputs": [],
   "source": [
    "print(\"Loading pretrained AutoGluon model...\")\n",
    "\n",
    "predictor = TabularPredictor(label='Price', eval_metric='mean_absolute_error')\n",
    "print(\"Pretrained model loaded successfully!\")\n"
   ]
  },
  {
   "cell_type": "markdown",
   "id": "55a8ed17",
   "metadata": {},
   "source": [
    "## Training / Fine-tuning"
   ]
  },
  {
   "cell_type": "code",
   "execution_count": null,
   "id": "1acf59ad",
   "metadata": {},
   "outputs": [],
   "source": [
    "print(\"Training/fine-tuning model...\")\n",
    "\n",
    "from autogluon.tabular import TabularPredictor\n",
    "from sklearn.metrics import mean_absolute_error, mean_squared_error, r2_score\n",
    "import tempfile\n",
    "\n",
    "# Use a temporary directory for the model\n",
    "temp_model_dir = tempfile.mkdtemp()\n",
    "\n",
    "# Create predictor; AutoGluon requires a path for internal handling\n",
    "predictor = TabularPredictor(label='Price', path=temp_model_dir)\n",
    "\n",
    "# Train the model using train_data and validate on val_data\n",
    "# use_bag_holdout=True ensures validation is used properly\n",
    "predictor.fit(\n",
    "    train_data=train_data,\n",
    "    tuning_data=val_data,\n",
    "    presets='best_quality',\n",
    "    time_limit=600,\n",
    "    use_bag_holdout=True\n",
    ")\n",
    "\n",
    "print(\"Training complete!\")\n",
    "\n",
    "# Evaluate on validation set\n",
    "print(\"Evaluating performance on validation set...\")\n",
    "val_preds = predictor.predict(val_data)\n",
    "\n",
    "val_mae = mean_absolute_error(val_data['Price'], val_preds)\n",
    "val_mse = mean_squared_error(val_data['Price'], val_preds)\n",
    "val_r2 = r2_score(val_data['Price'], val_preds)\n",
    "\n",
    "print(f\"Validation MAE: {val_mae:.2f}\")\n",
    "print(f\"Validation MSE: {val_mse:.2f}\")\n",
    "print(f\"Validation R²: {val_r2:.4f}\")\n",
    "print(\"Validation evaluation complete!\")\n"
   ]
  },
  {
   "cell_type": "markdown",
   "id": "daa13717",
   "metadata": {},
   "source": [
    "## Testing and Evaluation\n"
   ]
  },
  {
   "cell_type": "code",
   "execution_count": null,
   "id": "33ff2722",
   "metadata": {},
   "outputs": [],
   "source": [
    "print(\"Evaluating model on test data...\")\n",
    "\n",
    "from sklearn.metrics import mean_absolute_error, mean_squared_error, r2_score\n",
    "\n",
    "# Predict on test data\n",
    "test_preds = predictor.predict(test_data)\n",
    "\n",
    "# Calculate regression metrics\n",
    "test_mae = mean_absolute_error(test_data['Price'], test_preds)\n",
    "test_mse = mean_squared_error(test_data['Price'], test_preds)\n",
    "test_r2 = r2_score(test_data['Price'], test_preds)\n",
    "\n",
    "# Print results\n",
    "print(f\"Test MAE: {test_mae:.2f}\")\n",
    "print(f\"Test MSE: {test_mse:.2f}\")\n",
    "print(f\"Test R²: {test_r2:.4f}\")\n",
    "\n",
    "print(\"Test evaluation complete!\")\n"
   ]
  },
  {
   "cell_type": "markdown",
   "id": "860e226e",
   "metadata": {},
   "source": [
    "## Graph: True vs Predicted Prices"
   ]
  },
  {
   "cell_type": "code",
   "execution_count": null,
   "id": "d4ac0419",
   "metadata": {},
   "outputs": [],
   "source": [
    "print(\"Visualizing predictions...\")\n",
    "\n",
    "y_test = test_data['Price']\n",
    "y_pred = predictor.predict(test_data)\n",
    "\n",
    "plt.figure(figsize=(8,8))\n",
    "plt.scatter(y_test, y_pred, alpha=0.5)\n",
    "plt.plot([y_test.min(), y_test.max()], [y_test.min(), y_test.max()], 'r--', lw=2)\n",
    "plt.xlabel(\"True Price\")\n",
    "plt.ylabel(\"Predicted Price\")\n",
    "plt.title(\"True vs Predicted Prices\")\n",
    "plt.show()\n",
    "\n",
    "print(\"Visualization complete!\")\n"
   ]
  },
  {
   "cell_type": "markdown",
   "id": "930b811d",
   "metadata": {},
   "source": [
    "## Affordability Calculation on Validation Set"
   ]
  },
  {
   "cell_type": "code",
   "execution_count": null,
   "id": "ceb885bb",
   "metadata": {},
   "outputs": [],
   "source": [
    "print(\"Calculating affordability metrics for validation set...\")\n",
    "\n",
    "# Median income dictionary\n",
    "median_income = {\n",
    "    \"Toronto\": 100000,\n",
    "    \"Vancouver\": 88000,\n",
    "    \"Montreal\": 82000,\n",
    "    \"Ottawa\": 95000,\n",
    "    \"Calgary\": 97000\n",
    "}\n",
    "# Affordability function\n",
    "def calculate_affordability_fixed(pred_prices, cities, interest_rate=0.035, years=30):\n",
    "    scores = []\n",
    "    labels = []\n",
    "    for price, city in zip(pred_prices, cities):\n",
    "        income = median_income.get(city, 90000)  # fallback median income\n",
    "        annual_payment = (price * interest_rate) / (1 - (1 + interest_rate) ** (-years))\n",
    "        score = annual_payment / income\n",
    "        if score < 0.5:\n",
    "            label = \"✅ Affordable\"\n",
    "        elif score < 0.8:\n",
    "            label = \"⚠️ At Risk\"\n",
    "        else:\n",
    "            label = \"🚫 Unaffordable\"\n",
    "        scores.append(round(score, 2))\n",
    "        labels.append(label)\n",
    "    return scores, labels\n",
    "\n",
    "# Make a copy of validation features\n",
    "val_df_copy = val_data.copy()\n",
    "\n",
    "# Ensure 'City' column is present\n",
    "val_df_copy['City'] = df.loc[val_data.index, 'City']\n",
    "\n",
    "# Predict prices for validation set\n",
    "y_pred_val = predictor.predict(val_data)\n",
    "\n",
    "# Calculate affordability scores and labels\n",
    "scores, labels = calculate_affordability_fixed(y_pred_val, val_df_copy['City'])\n",
    "\n",
    "# Add predictions and affordability metrics to dataframe\n",
    "val_df_copy['Predicted_Price'] = y_pred_val\n",
    "val_df_copy['affordability_score'] = scores\n",
    "val_df_copy['affordability_label'] = labels\n",
    "\n",
    "# Randomly sample 50 rows for display\n",
    "val_sample = val_df_copy.sample(50, random_state=42)\n",
    "\n",
    "# Display the results\n",
    "print(\"Affordability sample for validation set:\")\n",
    "val_sample[['City', 'Predicted_Price', 'affordability_score', 'affordability_label']].reset_index(drop=True)\n"
   ]
  },
  {
   "cell_type": "markdown",
   "id": "6afd0dd5",
   "metadata": {},
   "source": [
    "## Random Sample Prediction\n",
    "\n"
   ]
  },
  {
   "cell_type": "code",
   "execution_count": null,
   "id": "a5380bb0",
   "metadata": {},
   "outputs": [],
   "source": [
    "print(\"Step: Random single prediction with affordability label...\")\n",
    "\n",
    "# Randomly select 1 row from test set\n",
    "sample = test_data.sample(1)\n",
    "X_sample = sample.copy()\n",
    "\n",
    "# Predict price for this single sample\n",
    "pred_price = predictor.predict(X_sample).iloc[0]  # <-- use iloc[0] to get the value\n",
    "\n",
    "# Calculate affordability score and label\n",
    "score, label = calculate_affordability_fixed([pred_price], [sample['City'].iloc[0]])\n",
    "score, label = score[0], label[0]\n",
    "\n",
    "# Print nicely\n",
    "print(f\"Random Sample from {sample['City'].iloc[0]}, {sample['Province'].iloc[0]}\")\n",
    "print(f\"Predicted Price: ${pred_price:,.0f}\")\n",
    "print(f\"Affordability Score: {score} → {label}\")\n"
   ]
  },
  {
   "cell_type": "markdown",
   "id": "6a759ac1",
   "metadata": {},
   "source": [
    "## Conclusion and Recommendations\n",
    "\n",
    "### Model Performance\n",
    "\n",
    "The AutoGluon pretrained model was successfully trained and evaluated on our housing dataset. The evaluation metrics on the test data demonstrate strong predictive performance:\n",
    "\n",
    "- **Mean Absolute Error (MAE):** \\$196,707.31 — on average, the predicted house prices deviate from the actual prices by roughly \\$197k.  \n",
    "- **Mean Squared Error (MSE):** 276,754,649,330 — the model penalizes larger errors heavily but maintains reliable predictions.  \n",
    "- **R² Score:** 0.8251 — the model explains over 82% of the variance in housing prices, indicating a high level of accuracy.  \n",
    "\n",
    "These results confirm that the model effectively captures the relationship between key property features (Fireplace, Heating, Flooring, Roof, Waterfront, Sewer, Pool, Garden, Balcony) and house prices.\n",
    "\n",
    "### Affordability Analysis\n",
    "\n",
    "Using the predicted prices and local median incomes, the affordability scores provide actionable insights:  \n",
    "\n",
    "- Homes marked as **✅ Affordable** are well within the buyer's financial capacity.  \n",
    "- Homes marked as **⚠️ At Risk** could pose moderate financial stress.  \n",
    "- Homes marked as **🚫 Unaffordable** are likely to be beyond reasonable budget constraints.  \n",
    "\n",
    "This analysis can guide prospective buyers and policymakers in making informed decisions about housing affordability.\n",
    "\n",
    "### Recommendations / Next Steps\n",
    "\n",
    "1. **Feature Expansion:** Incorporate additional property and neighborhood-level features (e.g., school ratings, proximity to amenities) to improve prediction accuracy.  \n",
    "2. **Hyperparameter Tuning:** Explore advanced AutoGluon hyperparameter configurations or alternative pretrained models to further reduce MAE and MSE.  \n",
    "3. **Scenario Analysis:** Use the model to simulate different interest rates or mortgage conditions to assess affordability under varying financial scenarios.  \n",
    "4. **Deployment:** Integrate the model into a web-based decision support tool for buyers and real estate professionals.  \n",
    "5. **Continuous Updating:** Regularly retrain the model on new housing data to maintain accuracy in a dynamic market.  \n",
    "\n",
    "**Overall**, leveraging a pretrained model with AutoGluon provides fast, reliable, and actionable housing price predictions while also offering practical affordability insights for real-world decision-making.\n"
   ]
  }
 ],
 "metadata": {
  "kernelspec": {
   "display_name": "rl8020",
   "language": "python",
   "name": "python3"
  },
  "language_info": {
   "codemirror_mode": {
    "name": "ipython",
    "version": 3
   },
   "file_extension": ".py",
   "mimetype": "text/x-python",
   "name": "python",
   "nbconvert_exporter": "python",
   "pygments_lexer": "ipython3",
   "version": "3.11.13"
  }
 },
 "nbformat": 4,
 "nbformat_minor": 5
}
