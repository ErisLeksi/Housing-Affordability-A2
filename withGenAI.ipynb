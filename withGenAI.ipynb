{
 "cells": [
  {
   "cell_type": "markdown",
   "id": "6161de15",
   "metadata": {},
   "source": [
    "#EstateMate: Real Estate Valuation Using Pretrained AI Models\n",
    "\n"
    "# This notebook demonstrates how pretrained **AutoGluon TabularPredictor** models are leveraged to perform **real estate price prediction and affordability analysis**.  
Instead of training models from scratch, the workflow **loads and utilizes pretrained models** to evaluate, fine-tune, and generate predictions on new property data. \n",
    "\n"
   ]
  },
  {
   "cell_type": "markdown",
   "id": "a033fb59",
   "metadata": {},
   "source": [
    "## Setup & Imports\n",
    "\n"
   ]
  },
  {
   "cell_type": "code",
   "execution_count": 13,
   "id": "092c9c43",
   "metadata": {},
   "outputs": [
    {
     "name": "stdout",
     "output_type": "stream",
     "text": [
      "Step 1: Importing libraries...\n",
      "Libraries imported successfully!\n"
     ]
    }
   ],
   "source": [
    "print(\"Step 1: Importing libraries...\")\n",
    "\n",
    "import pandas as pd\n",
    "import numpy as np\n",
    "import matplotlib.pyplot as plt\n",
    "import seaborn as sns\n",
    "from sklearn.model_selection import train_test_split\n",
    "from autogluon.tabular import TabularPredictor\n",
    "\n",
    "print(\"Libraries imported successfully!\")"
   ]
  },
  {
   "cell_type": "markdown",
   "id": "8e9944fb",
   "metadata": {},
   "source": [
    "\n",
    "## Import Dataset\n"
   ]
  },
  {
   "cell_type": "code",
   "execution_count": 14,
   "id": "627058f1",
   "metadata": {},
   "outputs": [
    {
     "name": "stdout",
     "output_type": "stream",
     "text": [
      "Loading dataset...\n",
      "Dataset loaded with 44896 rows and 23 columns.\n",
      "\n",
      "Displaying first 5 rows:\n"
     ]
    },
    {
     "data": {
      "application/vnd.microsoft.datawrangler.viewer.v0+json": {
       "columns": [
        {
         "name": "index",
         "rawType": "int64",
         "type": "integer"
        },
        {
         "name": "City",
         "rawType": "object",
         "type": "string"
        },
        {
         "name": "Province",
         "rawType": "object",
         "type": "string"
        },
        {
         "name": "Latitude",
         "rawType": "float64",
         "type": "float"
        },
        {
         "name": "Longitude",
         "rawType": "float64",
         "type": "float"
        },
        {
         "name": "Price",
         "rawType": "float64",
         "type": "float"
        },
        {
         "name": "Bedrooms",
         "rawType": "float64",
         "type": "float"
        },
        {
         "name": "Bathrooms",
         "rawType": "float64",
         "type": "float"
        },
        {
         "name": "Acreage",
         "rawType": "float64",
         "type": "float"
        },
        {
         "name": "Property Type",
         "rawType": "object",
         "type": "string"
        },
        {
         "name": "Square Footage",
         "rawType": "float64",
         "type": "float"
        },
        {
         "name": "Garage",
         "rawType": "object",
         "type": "string"
        },
        {
         "name": "Parking",
         "rawType": "object",
         "type": "string"
        },
        {
         "name": "Basement",
         "rawType": "object",
         "type": "unknown"
        },
        {
         "name": "Exterior",
         "rawType": "object",
         "type": "unknown"
        },
        {
         "name": "Fireplace",
         "rawType": "object",
         "type": "string"
        },
        {
         "name": "Heating",
         "rawType": "object",
         "type": "unknown"
        },
        {
         "name": "Flooring",
         "rawType": "object",
         "type": "unknown"
        },
        {
         "name": "Roof",
         "rawType": "object",
         "type": "unknown"
        },
        {
         "name": "Waterfront",
         "rawType": "object",
         "type": "string"
        },
        {
         "name": "Sewer",
         "rawType": "object",
         "type": "string"
        },
        {
         "name": "Pool",
         "rawType": "object",
         "type": "string"
        },
        {
         "name": "Garden",
         "rawType": "object",
         "type": "string"
        },
        {
         "name": "Balcony",
         "rawType": "object",
         "type": "string"
        }
       ],
       "ref": "cb94d892-55bc-4db5-92ae-335d62e0607d",
       "rows": [
        [
         "0",
         "Revelstoke",
         "BC",
         "50.9765854",
         "-118.1731491",
         "839000.0",
         "3.0",
         "2.0",
         "0.0",
         "Condo",
         "891.0",
         "Yes",
         "Yes",
         null,
         null,
         "No",
         "heat pump",
         "carpet",
         null,
         "No",
         "municipal",
         "No",
         "No",
         "No"
        ],
        [
         "1",
         "Boswell",
         "BC",
         "49.4718704",
         "-116.770195",
         "1150000.0",
         "3.0",
         "2.0",
         "0.32",
         "Single Family",
         "1881.0",
         "Yes",
         "Yes",
         null,
         null,
         "No",
         "heat pump",
         null,
         null,
         "No",
         "septic",
         "No",
         "No",
         "No"
        ],
        [
         "2",
         "West Kelowna",
         "BC",
         "49.8252302",
         "-119.6032534",
         "149000.0",
         "2.0",
         "1.0",
         "0.0",
         "Single Family",
         "912.0",
         "No",
         "No",
         null,
         "Metal",
         "No",
         null,
         "laminate",
         "tar",
         "No",
         "municipal",
         "No",
         "No",
         "No"
        ],
        [
         "3",
         "Kelowna",
         "BC",
         "49.8218597",
         "-119.4801428",
         "1298000.0",
         "5.0",
         "4.0",
         "0.69",
         "Single Family",
         "4374.0",
         "Yes",
         "No",
         null,
         null,
         "Yes",
         "forced air",
         null,
         null,
         "No",
         "municipal",
         "No",
         "No",
         "No"
        ],
        [
         "4",
         "Maple Ridge",
         "BC",
         "49.2216734",
         "-122.5966374",
         "759900.0",
         "3.0",
         "2.0",
         "0.0",
         "Condo",
         "1254.0",
         "Yes",
         "Yes",
         null,
         null,
         "No",
         "radiant",
         null,
         null,
         "No",
         "none",
         "No",
         "No",
         "No"
        ]
       ],
       "shape": {
        "columns": 23,
        "rows": 5
       }
      },
      "text/html": [
       "<div>\n",
       "<style scoped>\n",
       "    .dataframe tbody tr th:only-of-type {\n",
       "        vertical-align: middle;\n",
       "    }\n",
       "\n",
       "    .dataframe tbody tr th {\n",
       "        vertical-align: top;\n",
       "    }\n",
       "\n",
       "    .dataframe thead th {\n",
       "        text-align: right;\n",
       "    }\n",
       "</style>\n",
       "<table border=\"1\" class=\"dataframe\">\n",
       "  <thead>\n",
       "    <tr style=\"text-align: right;\">\n",
       "      <th></th>\n",
       "      <th>City</th>\n",
       "      <th>Province</th>\n",
       "      <th>Latitude</th>\n",
       "      <th>Longitude</th>\n",
       "      <th>Price</th>\n",
       "      <th>Bedrooms</th>\n",
       "      <th>Bathrooms</th>\n",
       "      <th>Acreage</th>\n",
       "      <th>Property Type</th>\n",
       "      <th>Square Footage</th>\n",
       "      <th>...</th>\n",
       "      <th>Exterior</th>\n",
       "      <th>Fireplace</th>\n",
       "      <th>Heating</th>\n",
       "      <th>Flooring</th>\n",
       "      <th>Roof</th>\n",
       "      <th>Waterfront</th>\n",
       "      <th>Sewer</th>\n",
       "      <th>Pool</th>\n",
       "      <th>Garden</th>\n",
       "      <th>Balcony</th>\n",
       "    </tr>\n",
       "  </thead>\n",
       "  <tbody>\n",
       "    <tr>\n",
       "      <th>0</th>\n",
       "      <td>Revelstoke</td>\n",
       "      <td>BC</td>\n",
       "      <td>50.976585</td>\n",
       "      <td>-118.173149</td>\n",
       "      <td>839000.0</td>\n",
       "      <td>3.0</td>\n",
       "      <td>2.0</td>\n",
       "      <td>0.00</td>\n",
       "      <td>Condo</td>\n",
       "      <td>891.0</td>\n",
       "      <td>...</td>\n",
       "      <td>NaN</td>\n",
       "      <td>No</td>\n",
       "      <td>heat pump</td>\n",
       "      <td>carpet</td>\n",
       "      <td>NaN</td>\n",
       "      <td>No</td>\n",
       "      <td>municipal</td>\n",
       "      <td>No</td>\n",
       "      <td>No</td>\n",
       "      <td>No</td>\n",
       "    </tr>\n",
       "    <tr>\n",
       "      <th>1</th>\n",
       "      <td>Boswell</td>\n",
       "      <td>BC</td>\n",
       "      <td>49.471870</td>\n",
       "      <td>-116.770195</td>\n",
       "      <td>1150000.0</td>\n",
       "      <td>3.0</td>\n",
       "      <td>2.0</td>\n",
       "      <td>0.32</td>\n",
       "      <td>Single Family</td>\n",
       "      <td>1881.0</td>\n",
       "      <td>...</td>\n",
       "      <td>NaN</td>\n",
       "      <td>No</td>\n",
       "      <td>heat pump</td>\n",
       "      <td>NaN</td>\n",
       "      <td>NaN</td>\n",
       "      <td>No</td>\n",
       "      <td>septic</td>\n",
       "      <td>No</td>\n",
       "      <td>No</td>\n",
       "      <td>No</td>\n",
       "    </tr>\n",
       "    <tr>\n",
       "      <th>2</th>\n",
       "      <td>West Kelowna</td>\n",
       "      <td>BC</td>\n",
       "      <td>49.825230</td>\n",
       "      <td>-119.603253</td>\n",
       "      <td>149000.0</td>\n",
       "      <td>2.0</td>\n",
       "      <td>1.0</td>\n",
       "      <td>0.00</td>\n",
       "      <td>Single Family</td>\n",
       "      <td>912.0</td>\n",
       "      <td>...</td>\n",
       "      <td>Metal</td>\n",
       "      <td>No</td>\n",
       "      <td>NaN</td>\n",
       "      <td>laminate</td>\n",
       "      <td>tar</td>\n",
       "      <td>No</td>\n",
       "      <td>municipal</td>\n",
       "      <td>No</td>\n",
       "      <td>No</td>\n",
       "      <td>No</td>\n",
       "    </tr>\n",
       "    <tr>\n",
       "      <th>3</th>\n",
       "      <td>Kelowna</td>\n",
       "      <td>BC</td>\n",
       "      <td>49.821860</td>\n",
       "      <td>-119.480143</td>\n",
       "      <td>1298000.0</td>\n",
       "      <td>5.0</td>\n",
       "      <td>4.0</td>\n",
       "      <td>0.69</td>\n",
       "      <td>Single Family</td>\n",
       "      <td>4374.0</td>\n",
       "      <td>...</td>\n",
       "      <td>NaN</td>\n",
       "      <td>Yes</td>\n",
       "      <td>forced air</td>\n",
       "      <td>NaN</td>\n",
       "      <td>NaN</td>\n",
       "      <td>No</td>\n",
       "      <td>municipal</td>\n",
       "      <td>No</td>\n",
       "      <td>No</td>\n",
       "      <td>No</td>\n",
       "    </tr>\n",
       "    <tr>\n",
       "      <th>4</th>\n",
       "      <td>Maple Ridge</td>\n",
       "      <td>BC</td>\n",
       "      <td>49.221673</td>\n",
       "      <td>-122.596637</td>\n",
       "      <td>759900.0</td>\n",
       "      <td>3.0</td>\n",
       "      <td>2.0</td>\n",
       "      <td>0.00</td>\n",
       "      <td>Condo</td>\n",
       "      <td>1254.0</td>\n",
       "      <td>...</td>\n",
       "      <td>NaN</td>\n",
       "      <td>No</td>\n",
       "      <td>radiant</td>\n",
       "      <td>NaN</td>\n",
       "      <td>NaN</td>\n",
       "      <td>No</td>\n",
       "      <td>none</td>\n",
       "      <td>No</td>\n",
       "      <td>No</td>\n",
       "      <td>No</td>\n",
       "    </tr>\n",
       "  </tbody>\n",
       "</table>\n",
       "<p>5 rows × 23 columns</p>\n",
       "</div>"
      ],
      "text/plain": [
       "           City Province   Latitude   Longitude      Price  Bedrooms  \\\n",
       "0    Revelstoke       BC  50.976585 -118.173149   839000.0       3.0   \n",
       "1       Boswell       BC  49.471870 -116.770195  1150000.0       3.0   \n",
       "2  West Kelowna       BC  49.825230 -119.603253   149000.0       2.0   \n",
       "3       Kelowna       BC  49.821860 -119.480143  1298000.0       5.0   \n",
       "4   Maple Ridge       BC  49.221673 -122.596637   759900.0       3.0   \n",
       "\n",
       "   Bathrooms  Acreage  Property Type  Square Footage  ... Exterior Fireplace  \\\n",
       "0        2.0     0.00          Condo           891.0  ...      NaN        No   \n",
       "1        2.0     0.32  Single Family          1881.0  ...      NaN        No   \n",
       "2        1.0     0.00  Single Family           912.0  ...    Metal        No   \n",
       "3        4.0     0.69  Single Family          4374.0  ...      NaN       Yes   \n",
       "4        2.0     0.00          Condo          1254.0  ...      NaN        No   \n",
       "\n",
       "      Heating  Flooring Roof Waterfront      Sewer Pool Garden Balcony  \n",
       "0   heat pump    carpet  NaN         No  municipal   No     No      No  \n",
       "1   heat pump       NaN  NaN         No     septic   No     No      No  \n",
       "2         NaN  laminate  tar         No  municipal   No     No      No  \n",
       "3  forced air       NaN  NaN         No  municipal   No     No      No  \n",
       "4     radiant       NaN  NaN         No       none   No     No      No  \n",
       "\n",
       "[5 rows x 23 columns]"
      ]
     },
     "metadata": {},
     "output_type": "display_data"
    }
   ],
   "source": [
    "print(\"Loading dataset...\")\n",
    "df = pd.read_csv(\"canadian_housing_data.csv\")\n",
    "print(f\"Dataset loaded with {df.shape[0]} rows and {df.shape[1]} columns.\\n\")\n",
    "print(\"Displaying first 5 rows:\")\n",
    "display(df.head())"
   ]
  },
  {
   "cell_type": "markdown",
   "id": "8f1eabc9",
   "metadata": {},
   "source": [
    "##  Exploratory Data Analysis (EDA)\n"
   ]
  },
  {
   "cell_type": "code",
   "execution_count": 15,
   "id": "49d0e585",
   "metadata": {},
   "outputs": [
    {
     "name": "stdout",
     "output_type": "stream",
     "text": [
      "Performing basic dataset exploration...\n",
      "\n",
      "Dataset info:\n",
      "<class 'pandas.core.frame.DataFrame'>\n",
      "RangeIndex: 44896 entries, 0 to 44895\n",
      "Data columns (total 23 columns):\n",
      " #   Column          Non-Null Count  Dtype  \n",
      "---  ------          --------------  -----  \n",
      " 0   City            44896 non-null  object \n",
      " 1   Province        44896 non-null  object \n",
      " 2   Latitude        44896 non-null  float64\n",
      " 3   Longitude       44896 non-null  float64\n",
      " 4   Price           44896 non-null  float64\n",
      " 5   Bedrooms        44896 non-null  float64\n",
      " 6   Bathrooms       44896 non-null  float64\n",
      " 7   Acreage         44896 non-null  float64\n",
      " 8   Property Type   44896 non-null  object \n",
      " 9   Square Footage  44896 non-null  float64\n",
      " 10  Garage          44896 non-null  object \n",
      " 11  Parking         44896 non-null  object \n",
      " 12  Basement        14962 non-null  object \n",
      " 13  Exterior        17439 non-null  object \n",
      " 14  Fireplace       44896 non-null  object \n",
      " 15  Heating         38242 non-null  object \n",
      " 16  Flooring        15216 non-null  object \n",
      " 17  Roof            10052 non-null  object \n",
      " 18  Waterfront      44896 non-null  object \n",
      " 19  Sewer           44896 non-null  object \n",
      " 20  Pool            44896 non-null  object \n",
      " 21  Garden          44896 non-null  object \n",
      " 22  Balcony         44896 non-null  object \n",
      "dtypes: float64(7), object(16)\n",
      "memory usage: 7.9+ MB\n",
      "\n",
      "Descriptive statistics for numeric columns:\n"
     ]
    },
    {
     "data": {
      "application/vnd.microsoft.datawrangler.viewer.v0+json": {
       "columns": [
        {
         "name": "index",
         "rawType": "object",
         "type": "string"
        },
        {
         "name": "Latitude",
         "rawType": "float64",
         "type": "float"
        },
        {
         "name": "Longitude",
         "rawType": "float64",
         "type": "float"
        },
        {
         "name": "Price",
         "rawType": "float64",
         "type": "float"
        },
        {
         "name": "Bedrooms",
         "rawType": "float64",
         "type": "float"
        },
        {
         "name": "Bathrooms",
         "rawType": "float64",
         "type": "float"
        },
        {
         "name": "Acreage",
         "rawType": "float64",
         "type": "float"
        },
        {
         "name": "Square Footage",
         "rawType": "float64",
         "type": "float"
        }
       ],
       "ref": "e25af4c4-27b4-46b2-a5ec-4953b5b1f832",
       "rows": [
        [
         "count",
         "44896.0",
         "44896.0",
         "44896.0",
         "44896.0",
         "44896.0",
         "44896.0",
         "44896.0"
        ],
        [
         "mean",
         "49.010266542273094",
         "-106.63276045002371",
         "1070456.6438212758",
         "3.214918923734854",
         "2.522652352102637",
         "2.4859495277975765",
         "1787.7263230577335"
        ],
        [
         "std",
         "2.659066285776771",
         "22.270394742212584",
         "1442961.015659348",
         "1.6365170131033338",
         "1.423765030383436",
         "86.62659925257532",
         "1988.3204062071734"
        ],
        [
         "min",
         "42.0459404",
         "-135.8560181",
         "50000.0",
         "0.0",
         "0.0",
         "0.0",
         "140.0"
        ],
        [
         "25%",
         "48.4775113",
         "-122.88788245",
         "399990.0",
         "2.0",
         "2.0",
         "0.0",
         "975.0"
        ],
        [
         "50%",
         "49.21789149999999",
         "-119.39521925",
         "688000.0",
         "3.0",
         "2.0",
         "0.06",
         "1417.0"
        ],
        [
         "75%",
         "49.9279137",
         "-102.48563762500001",
         "1200000.0",
         "4.0",
         "3.0",
         "0.18",
         "2198.0"
        ],
        [
         "max",
         "65.2814881",
         "-52.6686004",
         "58800000.0",
         "37.0",
         "26.0",
         "8600.0",
         "290034.0"
        ]
       ],
       "shape": {
        "columns": 7,
        "rows": 8
       }
      },
      "text/html": [
       "<div>\n",
       "<style scoped>\n",
       "    .dataframe tbody tr th:only-of-type {\n",
       "        vertical-align: middle;\n",
       "    }\n",
       "\n",
       "    .dataframe tbody tr th {\n",
       "        vertical-align: top;\n",
       "    }\n",
       "\n",
       "    .dataframe thead th {\n",
       "        text-align: right;\n",
       "    }\n",
       "</style>\n",
       "<table border=\"1\" class=\"dataframe\">\n",
       "  <thead>\n",
       "    <tr style=\"text-align: right;\">\n",
       "      <th></th>\n",
       "      <th>Latitude</th>\n",
       "      <th>Longitude</th>\n",
       "      <th>Price</th>\n",
       "      <th>Bedrooms</th>\n",
       "      <th>Bathrooms</th>\n",
       "      <th>Acreage</th>\n",
       "      <th>Square Footage</th>\n",
       "    </tr>\n",
       "  </thead>\n",
       "  <tbody>\n",
       "    <tr>\n",
       "      <th>count</th>\n",
       "      <td>44896.000000</td>\n",
       "      <td>44896.000000</td>\n",
       "      <td>4.489600e+04</td>\n",
       "      <td>44896.000000</td>\n",
       "      <td>44896.000000</td>\n",
       "      <td>44896.000000</td>\n",
       "      <td>44896.000000</td>\n",
       "    </tr>\n",
       "    <tr>\n",
       "      <th>mean</th>\n",
       "      <td>49.010267</td>\n",
       "      <td>-106.632760</td>\n",
       "      <td>1.070457e+06</td>\n",
       "      <td>3.214919</td>\n",
       "      <td>2.522652</td>\n",
       "      <td>2.485950</td>\n",
       "      <td>1787.726323</td>\n",
       "    </tr>\n",
       "    <tr>\n",
       "      <th>std</th>\n",
       "      <td>2.659066</td>\n",
       "      <td>22.270395</td>\n",
       "      <td>1.442961e+06</td>\n",
       "      <td>1.636517</td>\n",
       "      <td>1.423765</td>\n",
       "      <td>86.626599</td>\n",
       "      <td>1988.320406</td>\n",
       "    </tr>\n",
       "    <tr>\n",
       "      <th>min</th>\n",
       "      <td>42.045940</td>\n",
       "      <td>-135.856018</td>\n",
       "      <td>5.000000e+04</td>\n",
       "      <td>0.000000</td>\n",
       "      <td>0.000000</td>\n",
       "      <td>0.000000</td>\n",
       "      <td>140.000000</td>\n",
       "    </tr>\n",
       "    <tr>\n",
       "      <th>25%</th>\n",
       "      <td>48.477511</td>\n",
       "      <td>-122.887882</td>\n",
       "      <td>3.999900e+05</td>\n",
       "      <td>2.000000</td>\n",
       "      <td>2.000000</td>\n",
       "      <td>0.000000</td>\n",
       "      <td>975.000000</td>\n",
       "    </tr>\n",
       "    <tr>\n",
       "      <th>50%</th>\n",
       "      <td>49.217891</td>\n",
       "      <td>-119.395219</td>\n",
       "      <td>6.880000e+05</td>\n",
       "      <td>3.000000</td>\n",
       "      <td>2.000000</td>\n",
       "      <td>0.060000</td>\n",
       "      <td>1417.000000</td>\n",
       "    </tr>\n",
       "    <tr>\n",
       "      <th>75%</th>\n",
       "      <td>49.927914</td>\n",
       "      <td>-102.485638</td>\n",
       "      <td>1.200000e+06</td>\n",
       "      <td>4.000000</td>\n",
       "      <td>3.000000</td>\n",
       "      <td>0.180000</td>\n",
       "      <td>2198.000000</td>\n",
       "    </tr>\n",
       "    <tr>\n",
       "      <th>max</th>\n",
       "      <td>65.281488</td>\n",
       "      <td>-52.668600</td>\n",
       "      <td>5.880000e+07</td>\n",
       "      <td>37.000000</td>\n",
       "      <td>26.000000</td>\n",
       "      <td>8600.000000</td>\n",
       "      <td>290034.000000</td>\n",
       "    </tr>\n",
       "  </tbody>\n",
       "</table>\n",
       "</div>"
      ],
      "text/plain": [
       "           Latitude     Longitude         Price      Bedrooms     Bathrooms  \\\n",
       "count  44896.000000  44896.000000  4.489600e+04  44896.000000  44896.000000   \n",
       "mean      49.010267   -106.632760  1.070457e+06      3.214919      2.522652   \n",
       "std        2.659066     22.270395  1.442961e+06      1.636517      1.423765   \n",
       "min       42.045940   -135.856018  5.000000e+04      0.000000      0.000000   \n",
       "25%       48.477511   -122.887882  3.999900e+05      2.000000      2.000000   \n",
       "50%       49.217891   -119.395219  6.880000e+05      3.000000      2.000000   \n",
       "75%       49.927914   -102.485638  1.200000e+06      4.000000      3.000000   \n",
       "max       65.281488    -52.668600  5.880000e+07     37.000000     26.000000   \n",
       "\n",
       "            Acreage  Square Footage  \n",
       "count  44896.000000    44896.000000  \n",
       "mean       2.485950     1787.726323  \n",
       "std       86.626599     1988.320406  \n",
       "min        0.000000      140.000000  \n",
       "25%        0.000000      975.000000  \n",
       "50%        0.060000     1417.000000  \n",
       "75%        0.180000     2198.000000  \n",
       "max     8600.000000   290034.000000  "
      ]
     },
     "metadata": {},
     "output_type": "display_data"
    },
    {
     "name": "stdout",
     "output_type": "stream",
     "text": [
      "\n",
      "Checking for missing values:\n"
     ]
    },
    {
     "data": {
      "application/vnd.microsoft.datawrangler.viewer.v0+json": {
       "columns": [
        {
         "name": "index",
         "rawType": "object",
         "type": "string"
        },
        {
         "name": "0",
         "rawType": "int64",
         "type": "integer"
        }
       ],
       "ref": "d46227c3-6269-4e3a-a67c-b742a20496bb",
       "rows": [
        [
         "City",
         "0"
        ],
        [
         "Province",
         "0"
        ],
        [
         "Latitude",
         "0"
        ],
        [
         "Longitude",
         "0"
        ],
        [
         "Price",
         "0"
        ],
        [
         "Bedrooms",
         "0"
        ],
        [
         "Bathrooms",
         "0"
        ],
        [
         "Acreage",
         "0"
        ],
        [
         "Property Type",
         "0"
        ],
        [
         "Square Footage",
         "0"
        ],
        [
         "Garage",
         "0"
        ],
        [
         "Parking",
         "0"
        ],
        [
         "Basement",
         "29934"
        ],
        [
         "Exterior",
         "27457"
        ],
        [
         "Fireplace",
         "0"
        ],
        [
         "Heating",
         "6654"
        ],
        [
         "Flooring",
         "29680"
        ],
        [
         "Roof",
         "34844"
        ],
        [
         "Waterfront",
         "0"
        ],
        [
         "Sewer",
         "0"
        ],
        [
         "Pool",
         "0"
        ],
        [
         "Garden",
         "0"
        ],
        [
         "Balcony",
         "0"
        ]
       ],
       "shape": {
        "columns": 1,
        "rows": 23
       }
      },
      "text/plain": [
       "City                  0\n",
       "Province              0\n",
       "Latitude              0\n",
       "Longitude             0\n",
       "Price                 0\n",
       "Bedrooms              0\n",
       "Bathrooms             0\n",
       "Acreage               0\n",
       "Property Type         0\n",
       "Square Footage        0\n",
       "Garage                0\n",
       "Parking               0\n",
       "Basement          29934\n",
       "Exterior          27457\n",
       "Fireplace             0\n",
       "Heating            6654\n",
       "Flooring          29680\n",
       "Roof              34844\n",
       "Waterfront            0\n",
       "Sewer                 0\n",
       "Pool                  0\n",
       "Garden                0\n",
       "Balcony               0\n",
       "dtype: int64"
      ]
     },
     "metadata": {},
     "output_type": "display_data"
    },
    {
     "name": "stdout",
     "output_type": "stream",
     "text": [
      "EDA exploration completed.\n",
      "\n"
     ]
    }
   ],
   "source": [
    "print(\"Performing basic dataset exploration...\\n\")\n",
    "print(\"Dataset info:\")\n",
    "df.info()\n",
    "\n",
    "print(\"\\nDescriptive statistics for numeric columns:\")\n",
    "display(df.describe())\n",
    "\n",
    "print(\"\\nChecking for missing values:\")\n",
    "display(df.isnull().sum())\n",
    "print(\"EDA exploration completed.\\n\")\n"
   ]
  },
  {
   "cell_type": "code",
   "execution_count": 16,
   "id": "d0f1a6df",
   "metadata": {},
   "outputs": [
    {
     "name": "stdout",
     "output_type": "stream",
     "text": [
      "Plotting price distribution...\n"
     ]
    },
    {
     "data": {
      "image/png": "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",
      "text/plain": [
       "<Figure size 800x500 with 1 Axes>"
      ]
     },
     "metadata": {},
     "output_type": "display_data"
    },
    {
     "name": "stdout",
     "output_type": "stream",
     "text": [
      "Done.\n",
      "\n"
     ]
    }
   ],
   "source": [
    "print(\"Plotting price distribution...\")\n",
    "plt.figure(figsize=(8,5))\n",
    "sns.histplot(df['Price'], bins=50, kde=True)\n",
    "plt.title(\"Distribution of Housing Prices\")\n",
    "plt.show()\n",
    "print(\"Done.\\n\")\n"
   ]
  },
  {
   "cell_type": "code",
   "execution_count": 17,
   "id": "23d0b042",
   "metadata": {},
   "outputs": [
    {
     "name": "stdout",
     "output_type": "stream",
     "text": [
      "Plotting correlation heatmap...\n"
     ]
    },
    {
     "data": {
      "image/png": "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",
      "text/plain": [
       "<Figure size 1000x800 with 2 Axes>"
      ]
     },
     "metadata": {},
     "output_type": "display_data"
    }
   ],
   "source": [
    "print(\"Plotting correlation heatmap...\")\n",
    "plt.figure(figsize=(10,8))\n",
    "numeric_df = df.select_dtypes(include='number')  # select only numeric columns\n",
    "sns.heatmap(numeric_df.corr(), annot=True, fmt=\".2f\", cmap=\"coolwarm\")\n",
    "plt.title(\"Correlation Heatmap\")\n",
    "plt.show()\n"
   ]
  },
  {
   "cell_type": "markdown",
   "id": "90026b44",
   "metadata": {},
   "source": [
    "## Preprocessing\n"
   ]
  },
  {
   "cell_type": "code",
   "execution_count": 18,
   "id": "2a9b7d40",
   "metadata": {},
   "outputs": [
    {
     "name": "stdout",
     "output_type": "stream",
     "text": [
      "Preprocessing data...\n",
      "Preprocessing complete.\n"
     ]
    }
   ],
   "source": [
    "print(\"Preprocessing data...\")\n",
    "\n",
    "# Fill missing categorical values with 'Unknown'\n",
    "categorical_features = ['City','Province','Property Type','Garage','Parking','Basement','Exterior',\n",
    "                        'Fireplace','Heating','Flooring','Roof','Waterfront','Sewer','Pool','Garden','Balcony']\n",
    "\n",
    "for col in categorical_features:\n",
    "    df[col] = df[col].fillna('Unknown')\n",
    "\n",
    "# Fill missing numerical values with median\n",
    "numerical_features = ['Latitude','Longitude','Price','Bedrooms','Bathrooms','Acreage','Square Footage']\n",
    "for col in numerical_features:\n",
    "    df[col] = df[col].fillna(df[col].median())\n",
    "\n",
    "print(\"Preprocessing complete.\")\n"
   ]
  },
  {
   "cell_type": "markdown",
   "id": "7daf8334",
   "metadata": {},
   "source": [
    "## Train / Validation / Test Split (80/10/10)\n"
   ]
  },
  {
   "cell_type": "code",
   "execution_count": 19,
   "id": "e2f364df",
   "metadata": {},
   "outputs": [
    {
     "name": "stdout",
     "output_type": "stream",
     "text": [
      "Splitting dataset...\n",
      "Training set: (35917, 23)\n",
      "Validation set: (4490, 23)\n",
      "Test set: (4489, 23)\n"
     ]
    }
   ],
   "source": [
    "print(\"Splitting dataset...\")\n",
    "\n",
    "train_data = df.sample(frac=0.8, random_state=42)\n",
    "temp_data = df.drop(train_data.index)\n",
    "val_data = temp_data.sample(frac=0.5, random_state=42)\n",
    "test_data = temp_data.drop(val_data.index)\n",
    "\n",
    "print(f\"Training set: {train_data.shape}\")\n",
    "print(f\"Validation set: {val_data.shape}\")\n",
    "print(f\"Test set: {test_data.shape}\")\n"
   ]
  },
  {
   "cell_type": "markdown",
   "id": "d3d13edb",
   "metadata": {},
   "source": [
    "## Loading Pretrained Models\n"
   ]
  },
  {
   "cell_type": "code",
   "execution_count": 20,
   "id": "b3758c36",
   "metadata": {},
   "outputs": [
    {
     "name": "stderr",
     "output_type": "stream",
     "text": [
      "No path specified. Models will be saved in: \"AutogluonModels\\ag-20251021_071140\"\n"
     ]
    },
    {
     "name": "stdout",
     "output_type": "stream",
     "text": [
      "Loading pretrained AutoGluon model...\n",
      "Pretrained model loaded successfully!\n"
     ]
    }
   ],
   "source": [
    "print(\"Loading pretrained AutoGluon model...\")\n",
    "\n",
    "predictor = TabularPredictor(label='Price', eval_metric='mean_absolute_error')\n",
    "print(\"Pretrained model loaded successfully!\")\n"
   ]
  },
  {
   "cell_type": "markdown",
   "id": "55a8ed17",
   "metadata": {},
   "source": [
    "## Training / Fine-tuning"
   ]
  },
  {
   "cell_type": "code",
   "execution_count": 21,
   "id": "1acf59ad",
   "metadata": {},
   "outputs": [
    {
     "name": "stderr",
     "output_type": "stream",
     "text": [
      "Warning: path already exists! This predictor may overwrite an existing predictor! path=\"d:\\ag_work\\models\\run_r9lv3kle\"\n",
      "Verbosity: 2 (Standard Logging)\n",
      "=================== System Info ===================\n",
      "AutoGluon Version:  1.3.1\n",
      "Python Version:     3.11.13\n",
      "Operating System:   Windows\n",
      "Platform Machine:   AMD64\n",
      "Platform Version:   10.0.22631\n",
      "CPU Count:          8\n",
      "Memory Avail:       3.26 GB / 13.83 GB (23.5%)\n",
      "Disk Space Avail:   43.57 GB / 112.25 GB (38.8%)\n",
      "===================================================\n",
      "Presets specified: ['best_quality']\n",
      "Setting dynamic_stacking from 'auto' to False. Reason: Skip dynamic_stacking when use_bag_holdout is enabled. (use_bag_holdout=True)\n",
      "Stack configuration (auto_stack=True): num_stack_levels=1, num_bag_folds=8, num_bag_sets=1\n",
      "Beginning AutoGluon training ... Time limit = 600s\n"
     ]
    },
    {
     "name": "stdout",
     "output_type": "stream",
     "text": [
      "Training/fine-tuning model...\n"
     ]
    },
    {
     "name": "stderr",
     "output_type": "stream",
     "text": [
      "AutoGluon will save models to \"d:\\ag_work\\models\\run_r9lv3kle\"\n",
      "Train Data Rows:    35917\n",
      "Train Data Columns: 22\n",
      "Tuning Data Rows:    4490\n",
      "Tuning Data Columns: 22\n",
      "Label Column:       Price\n",
      "AutoGluon infers your prediction problem is: 'regression' (because dtype of label-column == float and many unique label-values observed).\n",
      "\tLabel info (max, min, mean, stddev): (58800000.0, 50000.0, 1073676.96971, 1464420.39375)\n",
      "\tIf 'regression' is not the correct problem_type, please manually specify the problem_type parameter during Predictor init (You may specify problem_type as one of: ['binary', 'multiclass', 'regression', 'quantile'])\n",
      "Problem Type:       regression\n",
      "Preprocessing data ...\n",
      "Using Feature Generators to preprocess the data ...\n",
      "Fitting AutoMLPipelineFeatureGenerator...\n",
      "\tAvailable Memory:                    3358.94 MB\n",
      "\tTrain Data (Original)  Memory Usage: 40.02 MB (1.2% of available memory)\n",
      "\tInferring data type of each feature based on column values. Set feature_metadata_in to manually specify special dtypes of the features.\n",
      "\tStage 1 Generators:\n",
      "\t\tFitting AsTypeFeatureGenerator...\n",
      "\t\t\tNote: Converting 7 features to boolean dtype as they only contain 2 unique values.\n",
      "\tStage 2 Generators:\n",
      "\t\tFitting FillNaFeatureGenerator...\n",
      "\tStage 3 Generators:\n",
      "\t\tFitting IdentityFeatureGenerator...\n",
      "\t\tFitting CategoryFeatureGenerator...\n",
      "\t\t\tFitting CategoryMemoryMinimizeFeatureGenerator...\n",
      "\tStage 4 Generators:\n",
      "\t\tFitting DropUniqueFeatureGenerator...\n",
      "\tStage 5 Generators:\n",
      "\t\tFitting DropDuplicatesFeatureGenerator...\n",
      "\tTypes of features in original data (raw dtype, special dtypes):\n",
      "\t\t('float', [])  :  6 | ['Latitude', 'Longitude', 'Bedrooms', 'Bathrooms', 'Acreage', ...]\n",
      "\t\t('object', []) : 16 | ['City', 'Province', 'Property Type', 'Garage', 'Parking', ...]\n",
      "\tTypes of features in processed data (raw dtype, special dtypes):\n",
      "\t\t('category', [])  : 9 | ['City', 'Province', 'Property Type', 'Basement', 'Exterior', ...]\n",
      "\t\t('float', [])     : 6 | ['Latitude', 'Longitude', 'Bedrooms', 'Bathrooms', 'Acreage', ...]\n",
      "\t\t('int', ['bool']) : 7 | ['Garage', 'Parking', 'Fireplace', 'Waterfront', 'Pool', ...]\n",
      "\t0.6s = Fit runtime\n",
      "\t22 features in original data used to generate 22 features in processed data.\n",
      "\tTrain Data (Processed) Memory Usage: 2.51 MB (0.1% of available memory)\n",
      "Data preprocessing and feature engineering runtime = 0.74s ...\n",
      "AutoGluon will gauge predictive performance using evaluation metric: 'root_mean_squared_error'\n",
      "\tThis metric's sign has been flipped to adhere to being higher_is_better. The metric score can be multiplied by -1 to get the metric value.\n",
      "\tTo change this, specify the eval_metric parameter of Predictor()\n",
      "use_bag_holdout=True, will use tuning_data as holdout (will not be used for early stopping).\n",
      "Large model count detected (112 configs) ... Only displaying the first 3 models of each family. To see all, set `verbosity=3`.\n",
      "User-specified model hyperparameters to be fit:\n",
      "{\n",
      "\t'NN_TORCH': [{}, {'activation': 'elu', 'dropout_prob': 0.10077639529843717, 'hidden_size': 108, 'learning_rate': 0.002735937344002146, 'num_layers': 4, 'use_batchnorm': True, 'weight_decay': 1.356433327634438e-12, 'ag_args': {'name_suffix': '_r79', 'priority': -2}}, {'activation': 'elu', 'dropout_prob': 0.11897478034205347, 'hidden_size': 213, 'learning_rate': 0.0010474382260641949, 'num_layers': 4, 'use_batchnorm': False, 'weight_decay': 5.594471067786272e-10, 'ag_args': {'name_suffix': '_r22', 'priority': -7}}],\n",
      "\t'GBM': [{'extra_trees': True, 'ag_args': {'name_suffix': 'XT'}}, {}, {'learning_rate': 0.03, 'num_leaves': 128, 'feature_fraction': 0.9, 'min_data_in_leaf': 3, 'ag_args': {'name_suffix': 'Large', 'priority': 0, 'hyperparameter_tune_kwargs': None}}],\n",
      "\t'CAT': [{}, {'depth': 6, 'grow_policy': 'SymmetricTree', 'l2_leaf_reg': 2.1542798306067823, 'learning_rate': 0.06864209415792857, 'max_ctr_complexity': 4, 'one_hot_max_size': 10, 'ag_args': {'name_suffix': '_r177', 'priority': -1}}, {'depth': 8, 'grow_policy': 'Depthwise', 'l2_leaf_reg': 2.7997999596449104, 'learning_rate': 0.031375015734637225, 'max_ctr_complexity': 2, 'one_hot_max_size': 3, 'ag_args': {'name_suffix': '_r9', 'priority': -5}}],\n",
      "\t'XGB': [{}, {'colsample_bytree': 0.6917311125174739, 'enable_categorical': False, 'learning_rate': 0.018063876087523967, 'max_depth': 10, 'min_child_weight': 0.6028633586934382, 'ag_args': {'name_suffix': '_r33', 'priority': -8}}, {'colsample_bytree': 0.6628423832084077, 'enable_categorical': False, 'learning_rate': 0.08775715546881824, 'max_depth': 5, 'min_child_weight': 0.6294123374222513, 'ag_args': {'name_suffix': '_r89', 'priority': -16}}],\n",
      "\t'FASTAI': [{}, {'bs': 256, 'emb_drop': 0.5411770367537934, 'epochs': 43, 'layers': [800, 400], 'lr': 0.01519848858318159, 'ps': 0.23782946566604385, 'ag_args': {'name_suffix': '_r191', 'priority': -4}}, {'bs': 2048, 'emb_drop': 0.05070411322605811, 'epochs': 29, 'layers': [200, 100], 'lr': 0.08974235041576624, 'ps': 0.10393466140748028, 'ag_args': {'name_suffix': '_r102', 'priority': -11}}],\n",
      "\t'RF': [{'criterion': 'gini', 'ag_args': {'name_suffix': 'Gini', 'problem_types': ['binary', 'multiclass']}}, {'criterion': 'entropy', 'ag_args': {'name_suffix': 'Entr', 'problem_types': ['binary', 'multiclass']}}, {'criterion': 'squared_error', 'ag_args': {'name_suffix': 'MSE', 'problem_types': ['regression', 'quantile']}}],\n",
      "\t'XT': [{'criterion': 'gini', 'ag_args': {'name_suffix': 'Gini', 'problem_types': ['binary', 'multiclass']}}, {'criterion': 'entropy', 'ag_args': {'name_suffix': 'Entr', 'problem_types': ['binary', 'multiclass']}}, {'criterion': 'squared_error', 'ag_args': {'name_suffix': 'MSE', 'problem_types': ['regression', 'quantile']}}],\n",
      "\t'KNN': [{'weights': 'uniform', 'ag_args': {'name_suffix': 'Unif'}}, {'weights': 'distance', 'ag_args': {'name_suffix': 'Dist'}}],\n",
      "}\n",
      "AutoGluon will fit 2 stack levels (L1 to L2) ...\n",
      "Fitting 108 L1 models, fit_strategy=\"sequential\" ...\n",
      "Fitting model: KNeighborsUnif_BAG_L1 ... Training model for up to 399.41s of the 599.25s of remaining time.\n",
      "\t-1055052.4318\t = Validation score   (-root_mean_squared_error)\n",
      "\t0.08s\t = Training   runtime\n",
      "\t0.06s\t = Validation runtime\n",
      "Fitting model: KNeighborsDist_BAG_L1 ... Training model for up to 398.99s of the 598.83s of remaining time.\n",
      "\t-1039816.2419\t = Validation score   (-root_mean_squared_error)\n",
      "\t0.09s\t = Training   runtime\n",
      "\t0.04s\t = Validation runtime\n",
      "Fitting model: LightGBMXT_BAG_L1 ... Training model for up to 398.66s of the 598.49s of remaining time.\n",
      "\tFitting 8 child models (S1F1 - S1F8) | Fitting with SequentialLocalFoldFittingStrategy\n"
     ]
    },
    {
     "name": "stdout",
     "output_type": "stream",
     "text": [
      "[1000]\tvalid_set's rmse: 668944\n",
      "[2000]\tvalid_set's rmse: 659190\n",
      "[3000]\tvalid_set's rmse: 658284\n",
      "[1000]\tvalid_set's rmse: 638401\n",
      "[2000]\tvalid_set's rmse: 627413\n",
      "[3000]\tvalid_set's rmse: 623243\n",
      "[4000]\tvalid_set's rmse: 620388\n",
      "[5000]\tvalid_set's rmse: 620934\n",
      "[1000]\tvalid_set's rmse: 720838\n",
      "[1000]\tvalid_set's rmse: 739294\n",
      "[2000]\tvalid_set's rmse: 724914\n",
      "[3000]\tvalid_set's rmse: 716986\n",
      "[4000]\tvalid_set's rmse: 716513\n"
     ]
    },
    {
     "name": "stderr",
     "output_type": "stream",
     "text": [
      "\t-691962.6119\t = Validation score   (-root_mean_squared_error)\n",
      "\t42.0s\t = Training   runtime\n",
      "\t2.83s\t = Validation runtime\n",
      "Fitting model: LightGBM_BAG_L1 ... Training model for up to 350.72s of the 550.56s of remaining time.\n",
      "\tFitting 8 child models (S1F1 - S1F8) | Fitting with SequentialLocalFoldFittingStrategy\n"
     ]
    },
    {
     "name": "stdout",
     "output_type": "stream",
     "text": [
      "[1000]\tvalid_set's rmse: 612095\n",
      "[2000]\tvalid_set's rmse: 604013\n",
      "[3000]\tvalid_set's rmse: 602983\n"
     ]
    },
    {
     "name": "stderr",
     "output_type": "stream",
     "text": [
      "\t-674704.5132\t = Validation score   (-root_mean_squared_error)\n",
      "\t16.86s\t = Training   runtime\n",
      "\t0.94s\t = Validation runtime\n",
      "Fitting model: RandomForestMSE_BAG_L1 ... Training model for up to 331.87s of the 531.71s of remaining time.\n",
      "\tWarning: Reducing model 'n_estimators' from 300 -> 238 due to low memory. Expected memory usage reduced from 18.84% -> 15.0% of available memory...\n",
      "c:\\Users\\singh\\anaconda3\\envs\\ag311\\Lib\\site-packages\\sklearn\\base.py:474: FutureWarning: `BaseEstimator._validate_data` is deprecated in 1.6 and will be removed in 1.7. Use `sklearn.utils.validation.validate_data` instead. This function becomes public and is part of the scikit-learn developer API.\n",
      "  warnings.warn(\n",
      "\t-685098.2861\t = Validation score   (-root_mean_squared_error)\n",
      "\t15.46s\t = Training   runtime\n",
      "\t0.67s\t = Validation runtime\n",
      "Fitting model: CatBoost_BAG_L1 ... Training model for up to 313.02s of the 512.86s of remaining time.\n",
      "\tFitting 8 child models (S1F1 - S1F8) | Fitting with SequentialLocalFoldFittingStrategy\n",
      "\tRan out of time, early stopping on iteration 329.\n",
      "\tRan out of time, early stopping on iteration 319.\n",
      "\tRan out of time, early stopping on iteration 349.\n",
      "\tRan out of time, early stopping on iteration 362.\n",
      "\tRan out of time, early stopping on iteration 377.\n",
      "\tRan out of time, early stopping on iteration 403.\n",
      "\tRan out of time, early stopping on iteration 447.\n",
      "\tRan out of time, early stopping on iteration 532.\n",
      "\t-688172.0879\t = Validation score   (-root_mean_squared_error)\n",
      "\t299.9s\t = Training   runtime\n",
      "\t0.13s\t = Validation runtime\n",
      "Fitting model: ExtraTreesMSE_BAG_L1 ... Training model for up to 12.68s of the 212.52s of remaining time.\n",
      "\tWarning: Reducing model 'n_estimators' from 300 -> 236 due to low memory. Expected memory usage reduced from 19.06% -> 15.0% of available memory...\n",
      "c:\\Users\\singh\\anaconda3\\envs\\ag311\\Lib\\site-packages\\sklearn\\base.py:474: FutureWarning: `BaseEstimator._validate_data` is deprecated in 1.6 and will be removed in 1.7. Use `sklearn.utils.validation.validate_data` instead. This function becomes public and is part of the scikit-learn developer API.\n",
      "  warnings.warn(\n",
      "\t-700291.2406\t = Validation score   (-root_mean_squared_error)\n",
      "\t7.69s\t = Training   runtime\n",
      "\t0.7s\t = Validation runtime\n",
      "Fitting model: NeuralNetFastAI_BAG_L1 ... Training model for up to 1.82s of the 201.66s of remaining time.\n",
      "\tFitting 8 child models (S1F1 - S1F8) | Fitting with SequentialLocalFoldFittingStrategy\n",
      "\tWarning: Exception caused NeuralNetFastAI_BAG_L1 to fail during training (ImportError)... Skipping this model.\n",
      "\t\tImport fastai failed. A quick tip is to install via `pip install autogluon.tabular[fastai]==1.3.1`. \n",
      "Fitting model: XGBoost_BAG_L1 ... Training model for up to 1.52s of the 201.36s of remaining time.\n",
      "\tFitting 8 child models (S1F1 - S1F8) | Fitting with SequentialLocalFoldFittingStrategy\n",
      "\tTime limit exceeded... Skipping XGBoost_BAG_L1.\n",
      "Fitting model: NeuralNetTorch_BAG_L1 ... Training model for up to 1.04s of the 200.88s of remaining time.\n",
      "\tFitting 8 child models (S1F1 - S1F8) | Fitting with SequentialLocalFoldFittingStrategy\n",
      "\tWarning: Exception caused NeuralNetTorch_BAG_L1 to fail during training (ImportError)... Skipping this model.\n",
      "\t\tUnable to import dependency torch\n",
      "A quick tip is to install via `pip install torch`.\n",
      "The minimum torch version is currently 2.2.\n",
      "Fitting model: LightGBMLarge_BAG_L1 ... Training model for up to 0.82s of the 200.66s of remaining time.\n",
      "\tFitting 8 child models (S1F1 - S1F8) | Fitting with SequentialLocalFoldFittingStrategy\n",
      "\tRan out of time, early stopping on iteration 1. Best iteration is:\n",
      "\t[1]\tvalid_set's rmse: 1.40585e+06\n",
      "\tTime limit exceeded... Skipping LightGBMLarge_BAG_L1.\n",
      "Fitting model: CatBoost_r177_BAG_L1 ... Training model for up to 0.36s of the 200.20s of remaining time.\n",
      "\tFitting 8 child models (S1F1 - S1F8) | Fitting with SequentialLocalFoldFittingStrategy\n",
      "\tRan out of time, early stopping on iteration 1.\n",
      "\tTime limit exceeded... Skipping CatBoost_r177_BAG_L1.\n",
      "Fitting model: WeightedEnsemble_L2 ... Training model for up to 360.00s of the 199.76s of remaining time.\n",
      "\tEnsemble Weights: {'LightGBM_BAG_L1': 0.333, 'RandomForestMSE_BAG_L1': 0.333, 'LightGBMXT_BAG_L1': 0.222, 'CatBoost_BAG_L1': 0.111}\n",
      "\t-663749.8157\t = Validation score   (-root_mean_squared_error)\n",
      "\t0.03s\t = Training   runtime\n",
      "\t0.0s\t = Validation runtime\n",
      "Fitting 106 L2 models, fit_strategy=\"sequential\" ...\n",
      "Fitting model: LightGBMXT_BAG_L2 ... Training model for up to 199.72s of the 199.68s of remaining time.\n",
      "\tFitting 8 child models (S1F1 - S1F8) | Fitting with SequentialLocalFoldFittingStrategy\n"
     ]
    },
    {
     "name": "stdout",
     "output_type": "stream",
     "text": [
      "[1000]\tvalid_set's rmse: 669623\n",
      "[2000]\tvalid_set's rmse: 664681\n",
      "[3000]\tvalid_set's rmse: 664110\n",
      "[4000]\tvalid_set's rmse: 663746\n",
      "[1000]\tvalid_set's rmse: 753689\n"
     ]
    },
    {
     "name": "stderr",
     "output_type": "stream",
     "text": [
      "\t-679060.5062\t = Validation score   (-root_mean_squared_error)\n",
      "\t28.36s\t = Training   runtime\n",
      "\t1.48s\t = Validation runtime\n",
      "Fitting model: LightGBM_BAG_L2 ... Training model for up to 168.27s of the 168.23s of remaining time.\n",
      "\tFitting 8 child models (S1F1 - S1F8) | Fitting with SequentialLocalFoldFittingStrategy\n",
      "\t-708994.8835\t = Validation score   (-root_mean_squared_error)\n",
      "\t7.17s\t = Training   runtime\n",
      "\t0.13s\t = Validation runtime\n",
      "Fitting model: RandomForestMSE_BAG_L2 ... Training model for up to 160.78s of the 160.74s of remaining time.\n",
      "\tWarning: Reducing model 'n_estimators' from 300 -> 234 due to low memory. Expected memory usage reduced from 19.17% -> 15.0% of available memory...\n",
      "c:\\Users\\singh\\anaconda3\\envs\\ag311\\Lib\\site-packages\\sklearn\\base.py:474: FutureWarning: `BaseEstimator._validate_data` is deprecated in 1.6 and will be removed in 1.7. Use `sklearn.utils.validation.validate_data` instead. This function becomes public and is part of the scikit-learn developer API.\n",
      "  warnings.warn(\n",
      "\t-687109.3206\t = Validation score   (-root_mean_squared_error)\n",
      "\t39.21s\t = Training   runtime\n",
      "\t0.65s\t = Validation runtime\n",
      "Fitting model: CatBoost_BAG_L2 ... Training model for up to 118.45s of the 118.42s of remaining time.\n",
      "\tFitting 8 child models (S1F1 - S1F8) | Fitting with SequentialLocalFoldFittingStrategy\n",
      "\tRan out of time, early stopping on iteration 119.\n",
      "\tRan out of time, early stopping on iteration 120.\n",
      "\tRan out of time, early stopping on iteration 127.\n",
      "\tRan out of time, early stopping on iteration 131.\n",
      "\tRan out of time, early stopping on iteration 137.\n",
      "\tRan out of time, early stopping on iteration 147.\n",
      "\tRan out of time, early stopping on iteration 220.\n",
      "\t-693873.0921\t = Validation score   (-root_mean_squared_error)\n",
      "\t112.87s\t = Training   runtime\n",
      "\t0.1s\t = Validation runtime\n",
      "Fitting model: WeightedEnsemble_L3 ... Training model for up to 360.00s of the 5.06s of remaining time.\n",
      "\tEnsemble Weights: {'LightGBM_BAG_L1': 0.286, 'LightGBMXT_BAG_L2': 0.286, 'RandomForestMSE_BAG_L1': 0.238, 'CatBoost_BAG_L1': 0.143, 'RandomForestMSE_BAG_L2': 0.048}\n",
      "\t-662154.2561\t = Validation score   (-root_mean_squared_error)\n",
      "\t0.03s\t = Training   runtime\n",
      "\t0.0s\t = Validation runtime\n",
      "AutoGluon training complete, total runtime = 594.99s ... Best model: WeightedEnsemble_L3 | Estimated inference throughput: 599.8 rows/s (4490 batch size)\n",
      "TabularPredictor saved. To load, use: predictor = TabularPredictor.load(\"d:\\ag_work\\models\\run_r9lv3kle\")\n"
     ]
    },
    {
     "name": "stdout",
     "output_type": "stream",
     "text": [
      "Training complete!\n",
      "Evaluating performance on validation set...\n",
      "Validation MAE: 212796.27\n",
      "Validation MSE: 438448258886.97\n",
      "Validation R²: 0.7894\n",
      "Validation evaluation complete!\n"
     ]
    }
   ],
   "source": [
    "print(\"Training/fine-tuning model...\")\n",
    "\n",
    "import os\n",
    "import pathlib\n",
    "import tempfile\n",
    "from sklearn.metrics import mean_absolute_error, mean_squared_error, r2_score\n",
    "\n",
    "# --- Make sure everything lives on ONE drive (pick C: or D:) ---\n",
    "# Use the drive of the current working directory (or hardcode \"C:\"/\"D:\" if you prefer)\n",
    "drive = os.path.splitdrive(os.getcwd())[0] or \"C:\"\n",
    "base_work = os.path.join(drive + os.sep, \"ag_work\")\n",
    "tmp_root  = os.path.join(base_work, \"tmp\")\n",
    "model_root = os.path.join(base_work, \"models\")\n",
    "\n",
    "os.makedirs(tmp_root, exist_ok=True)\n",
    "os.makedirs(model_root, exist_ok=True)\n",
    "\n",
    "# Set temp env vars BEFORE importing AutoGluon so all its internals use the same drive\n",
    "os.environ[\"TMP\"] = tmp_root\n",
    "os.environ[\"TEMP\"] = tmp_root\n",
    "os.environ[\"AG_TMP_DIR\"] = tmp_root  # honored by some AG components\n",
    "\n",
    "# Now safe to import AutoGluon\n",
    "from autogluon.tabular import TabularPredictor\n",
    "\n",
    "# Put this run's model dir on the SAME drive as tmp_root\n",
    "run_dir = tempfile.mkdtemp(prefix=\"run_\", dir=model_root)\n",
    "\n",
    "# Create predictor; path must be on the same drive as temp\n",
    "predictor = TabularPredictor(label='Price', path=run_dir)\n",
    "\n",
    "# Train\n",
    "predictor.fit(\n",
    "    train_data=train_data,\n",
    "    tuning_data=val_data,\n",
    "    presets='best_quality',\n",
    "    time_limit=600,\n",
    "    use_bag_holdout=True\n",
    ")\n",
    "\n",
    "print(\"Training complete!\")\n",
    "\n",
    "# Evaluate on validation set\n",
    "print(\"Evaluating performance on validation set...\")\n",
    "val_preds = predictor.predict(val_data)\n",
    "\n",
    "val_mae = mean_absolute_error(val_data['Price'], val_preds)\n",
    "val_mse = mean_squared_error(val_data['Price'], val_preds)\n",
    "val_r2 = r2_score(val_data['Price'], val_preds)\n",
    "\n",
    "print(f\"Validation MAE: {val_mae:.2f}\")\n",
    "print(f\"Validation MSE: {val_mse:.2f}\")\n",
    "print(f\"Validation R²: {val_r2:.4f}\")\n",
    "print(\"Validation evaluation complete!\")\n"
   ]
  },
  {
   "cell_type": "markdown",
   "id": "daa13717",
   "metadata": {},
   "source": [
    "## Testing and Evaluation\n"
   ]
  },
  {
   "cell_type": "code",
   "execution_count": 22,
   "id": "33ff2722",
   "metadata": {},
   "outputs": [
    {
     "name": "stdout",
     "output_type": "stream",
     "text": [
      "Evaluating model on test data...\n",
      "Test MAE: 202298.30\n",
      "Test MSE: 258309573183.43\n",
      "Test R²: 0.8367\n",
      "Test evaluation complete!\n"
     ]
    }
   ],
   "source": [
    "print(\"Evaluating model on test data...\")\n",
    "\n",
    "from sklearn.metrics import mean_absolute_error, mean_squared_error, r2_score\n",
    "\n",
    "# Predict on test data\n",
    "test_preds = predictor.predict(test_data)\n",
    "\n",
    "# Calculate regression metrics\n",
    "test_mae = mean_absolute_error(test_data['Price'], test_preds)\n",
    "test_mse = mean_squared_error(test_data['Price'], test_preds)\n",
    "test_r2 = r2_score(test_data['Price'], test_preds)\n",
    "\n",
    "# Print results\n",
    "print(f\"Test MAE: {test_mae:.2f}\")\n",
    "print(f\"Test MSE: {test_mse:.2f}\")\n",
    "print(f\"Test R²: {test_r2:.4f}\")\n",
    "\n",
    "print(\"Test evaluation complete!\")\n"
   ]
  },
  {
   "cell_type": "markdown",
   "id": "860e226e",
   "metadata": {},
   "source": [
    "## Graph: True vs Predicted Prices"
   ]
  },
  {
   "cell_type": "code",
   "execution_count": 23,
   "id": "d4ac0419",
   "metadata": {},
   "outputs": [
    {
     "name": "stdout",
     "output_type": "stream",
     "text": [
      "Visualizing predictions...\n"
     ]
    },
    {
     "data": {
      "image/png": "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",
      "text/plain": [
       "<Figure size 800x800 with 1 Axes>"
      ]
     },
     "metadata": {},
     "output_type": "display_data"
    },
    {
     "name": "stdout",
     "output_type": "stream",
     "text": [
      "Visualization complete!\n"
     ]
    }
   ],
   "source": [
    "print(\"Visualizing predictions...\")\n",
    "\n",
    "y_test = test_data['Price']\n",
    "y_pred = predictor.predict(test_data)\n",
    "\n",
    "plt.figure(figsize=(8,8))\n",
    "plt.scatter(y_test, y_pred, alpha=0.5)\n",
    "plt.plot([y_test.min(), y_test.max()], [y_test.min(), y_test.max()], 'r--', lw=2)\n",
    "plt.xlabel(\"True Price\")\n",
    "plt.ylabel(\"Predicted Price\")\n",
    "plt.title(\"True vs Predicted Prices\")\n",
    "plt.show()\n",
    "\n",
    "print(\"Visualization complete!\")\n"
   ]
  },
  {
   "cell_type": "markdown",
   "id": "930b811d",
   "metadata": {},
   "source": [
    "## Affordability Calculation on Validation Set"
   ]
  },
  {
   "cell_type": "code",
   "execution_count": 24,
   "id": "ceb885bb",
   "metadata": {},
   "outputs": [
    {
     "name": "stdout",
     "output_type": "stream",
     "text": [
      "Calculating affordability metrics for validation set...\n",
      "Affordability sample for validation set:\n"
     ]
    },
    {
     "data": {
      "application/vnd.microsoft.datawrangler.viewer.v0+json": {
       "columns": [
        {
         "name": "index",
         "rawType": "int64",
         "type": "integer"
        },
        {
         "name": "City",
         "rawType": "object",
         "type": "string"
        },
        {
         "name": "Predicted_Price",
         "rawType": "float32",
         "type": "float"
        },
        {
         "name": "affordability_score",
         "rawType": "float64",
         "type": "float"
        },
        {
         "name": "affordability_label",
         "rawType": "object",
         "type": "string"
        }
       ],
       "ref": "02baa1c0-9925-479d-9a11-b9a902a51015",
       "rows": [
        [
         "0",
         "Burnaby",
         "2902022.5",
         "1.75",
         "🚫 Unaffordable"
        ],
        [
         "1",
         "Maple Ridge",
         "3538650.8",
         "2.14",
         "🚫 Unaffordable"
        ],
        [
         "2",
         "North Vancouver",
         "1915621.4",
         "1.16",
         "🚫 Unaffordable"
        ],
        [
         "3",
         "Vancouver",
         "6482635.0",
         "4.01",
         "🚫 Unaffordable"
        ],
        [
         "4",
         "Delta",
         "1481283.9",
         "0.89",
         "🚫 Unaffordable"
        ],
        [
         "5",
         "Richmond",
         "1139020.6",
         "0.69",
         "⚠️ At Risk"
        ],
        [
         "6",
         "Moncton",
         "667203.56",
         "0.4",
         "✅ Affordable"
        ],
        [
         "7",
         "Richmond",
         "959370.56",
         "0.58",
         "⚠️ At Risk"
        ],
        [
         "8",
         "Regina",
         "382889.47",
         "0.23",
         "✅ Affordable"
        ],
        [
         "9",
         "New Westminster",
         "565539.2",
         "0.34",
         "✅ Affordable"
        ],
        [
         "10",
         "Surrey",
         "1225477.8",
         "0.74",
         "⚠️ At Risk"
        ],
        [
         "11",
         "North Vancouver",
         "1178764.4",
         "0.71",
         "⚠️ At Risk"
        ],
        [
         "12",
         "Abbotsford",
         "1120764.8",
         "0.68",
         "⚠️ At Risk"
        ],
        [
         "13",
         "Halifax",
         "738078.3",
         "0.45",
         "✅ Affordable"
        ],
        [
         "14",
         "Vancouver",
         "508202.3",
         "0.31",
         "✅ Affordable"
        ],
        [
         "15",
         "Fort McMurray",
         "361447.12",
         "0.22",
         "✅ Affordable"
        ],
        [
         "16",
         "Langley",
         "1586648.2",
         "0.96",
         "🚫 Unaffordable"
        ],
        [
         "17",
         "Coquitlam",
         "508421.06",
         "0.31",
         "✅ Affordable"
        ],
        [
         "18",
         "Richmond",
         "977987.94",
         "0.59",
         "⚠️ At Risk"
        ],
        [
         "19",
         "West Kelowna",
         "724408.94",
         "0.44",
         "✅ Affordable"
        ],
        [
         "20",
         "Estevan Rm No. 5",
         "894311.5",
         "0.54",
         "⚠️ At Risk"
        ],
        [
         "21",
         "Kitchener",
         "379884.06",
         "0.23",
         "✅ Affordable"
        ],
        [
         "22",
         "Tracadie",
         "314765.3",
         "0.19",
         "✅ Affordable"
        ],
        [
         "23",
         "Burnaby",
         "903518.5",
         "0.55",
         "⚠️ At Risk"
        ],
        [
         "24",
         "West Kelowna",
         "2061611.1",
         "1.25",
         "🚫 Unaffordable"
        ],
        [
         "25",
         "Qualicum Beach",
         "1553024.8",
         "0.94",
         "🚫 Unaffordable"
        ],
        [
         "26",
         "Surrey",
         "1135627.6",
         "0.69",
         "⚠️ At Risk"
        ],
        [
         "27",
         "Maple Ridge",
         "3565586.2",
         "2.15",
         "🚫 Unaffordable"
        ],
        [
         "28",
         "Saskatoon",
         "931025.5",
         "0.56",
         "⚠️ At Risk"
        ],
        [
         "29",
         "Regina",
         "226043.61",
         "0.14",
         "✅ Affordable"
        ],
        [
         "30",
         "Bouctouche",
         "442643.0",
         "0.27",
         "✅ Affordable"
        ],
        [
         "31",
         "Surrey",
         "3010421.0",
         "1.82",
         "🚫 Unaffordable"
        ],
        [
         "32",
         "Halifax",
         "470591.9",
         "0.28",
         "✅ Affordable"
        ],
        [
         "33",
         "Christopher Lake",
         "218350.97",
         "0.13",
         "✅ Affordable"
        ],
        [
         "34",
         "Regina",
         "366054.28",
         "0.22",
         "✅ Affordable"
        ],
        [
         "35",
         "Plaster Rock",
         "390779.28",
         "0.24",
         "✅ Affordable"
        ],
        [
         "36",
         "Calgary",
         "722514.6",
         "0.4",
         "✅ Affordable"
        ],
        [
         "37",
         "Burnaby",
         "2369395.5",
         "1.43",
         "🚫 Unaffordable"
        ],
        [
         "38",
         "Mount Uniacke",
         "778681.44",
         "0.47",
         "✅ Affordable"
        ],
        [
         "39",
         "Burnaby",
         "975656.4",
         "0.59",
         "⚠️ At Risk"
        ],
        [
         "40",
         "Surrey",
         "5025969.5",
         "3.04",
         "🚫 Unaffordable"
        ],
        [
         "41",
         "Burnaby",
         "638965.44",
         "0.39",
         "✅ Affordable"
        ],
        [
         "42",
         "Echo Bay, Laird Twp",
         "1002120.0",
         "0.61",
         "⚠️ At Risk"
        ],
        [
         "43",
         "Abbotsford",
         "449354.22",
         "0.27",
         "✅ Affordable"
        ],
        [
         "44",
         "Beaumont",
         "534973.56",
         "0.32",
         "✅ Affordable"
        ],
        [
         "45",
         "Calgary",
         "628702.56",
         "0.35",
         "✅ Affordable"
        ],
        [
         "46",
         "Vancouver",
         "598101.4",
         "0.37",
         "✅ Affordable"
        ],
        [
         "47",
         "Fort Nelson",
         "341042.53",
         "0.21",
         "✅ Affordable"
        ],
        [
         "48",
         "Surrey",
         "962099.4",
         "0.58",
         "⚠️ At Risk"
        ],
        [
         "49",
         "Vancouver",
         "2924643.0",
         "1.81",
         "🚫 Unaffordable"
        ]
       ],
       "shape": {
        "columns": 4,
        "rows": 50
       }
      },
      "text/html": [
       "<div>\n",
       "<style scoped>\n",
       "    .dataframe tbody tr th:only-of-type {\n",
       "        vertical-align: middle;\n",
       "    }\n",
       "\n",
       "    .dataframe tbody tr th {\n",
       "        vertical-align: top;\n",
       "    }\n",
       "\n",
       "    .dataframe thead th {\n",
       "        text-align: right;\n",
       "    }\n",
       "</style>\n",
       "<table border=\"1\" class=\"dataframe\">\n",
       "  <thead>\n",
       "    <tr style=\"text-align: right;\">\n",
       "      <th></th>\n",
       "      <th>City</th>\n",
       "      <th>Predicted_Price</th>\n",
       "      <th>affordability_score</th>\n",
       "      <th>affordability_label</th>\n",
       "    </tr>\n",
       "  </thead>\n",
       "  <tbody>\n",
       "    <tr>\n",
       "      <th>0</th>\n",
       "      <td>Burnaby</td>\n",
       "      <td>2.902022e+06</td>\n",
       "      <td>1.75</td>\n",
       "      <td>🚫 Unaffordable</td>\n",
       "    </tr>\n",
       "    <tr>\n",
       "      <th>1</th>\n",
       "      <td>Maple Ridge</td>\n",
       "      <td>3.538651e+06</td>\n",
       "      <td>2.14</td>\n",
       "      <td>🚫 Unaffordable</td>\n",
       "    </tr>\n",
       "    <tr>\n",
       "      <th>2</th>\n",
       "      <td>North Vancouver</td>\n",
       "      <td>1.915621e+06</td>\n",
       "      <td>1.16</td>\n",
       "      <td>🚫 Unaffordable</td>\n",
       "    </tr>\n",
       "    <tr>\n",
       "      <th>3</th>\n",
       "      <td>Vancouver</td>\n",
       "      <td>6.482635e+06</td>\n",
       "      <td>4.01</td>\n",
       "      <td>🚫 Unaffordable</td>\n",
       "    </tr>\n",
       "    <tr>\n",
       "      <th>4</th>\n",
       "      <td>Delta</td>\n",
       "      <td>1.481284e+06</td>\n",
       "      <td>0.89</td>\n",
       "      <td>🚫 Unaffordable</td>\n",
       "    </tr>\n",
       "    <tr>\n",
       "      <th>5</th>\n",
       "      <td>Richmond</td>\n",
       "      <td>1.139021e+06</td>\n",
       "      <td>0.69</td>\n",
       "      <td>⚠️ At Risk</td>\n",
       "    </tr>\n",
       "    <tr>\n",
       "      <th>6</th>\n",
       "      <td>Moncton</td>\n",
       "      <td>6.672036e+05</td>\n",
       "      <td>0.40</td>\n",
       "      <td>✅ Affordable</td>\n",
       "    </tr>\n",
       "    <tr>\n",
       "      <th>7</th>\n",
       "      <td>Richmond</td>\n",
       "      <td>9.593706e+05</td>\n",
       "      <td>0.58</td>\n",
       "      <td>⚠️ At Risk</td>\n",
       "    </tr>\n",
       "    <tr>\n",
       "      <th>8</th>\n",
       "      <td>Regina</td>\n",
       "      <td>3.828895e+05</td>\n",
       "      <td>0.23</td>\n",
       "      <td>✅ Affordable</td>\n",
       "    </tr>\n",
       "    <tr>\n",
       "      <th>9</th>\n",
       "      <td>New Westminster</td>\n",
       "      <td>5.655392e+05</td>\n",
       "      <td>0.34</td>\n",
       "      <td>✅ Affordable</td>\n",
       "    </tr>\n",
       "    <tr>\n",
       "      <th>10</th>\n",
       "      <td>Surrey</td>\n",
       "      <td>1.225478e+06</td>\n",
       "      <td>0.74</td>\n",
       "      <td>⚠️ At Risk</td>\n",
       "    </tr>\n",
       "    <tr>\n",
       "      <th>11</th>\n",
       "      <td>North Vancouver</td>\n",
       "      <td>1.178764e+06</td>\n",
       "      <td>0.71</td>\n",
       "      <td>⚠️ At Risk</td>\n",
       "    </tr>\n",
       "    <tr>\n",
       "      <th>12</th>\n",
       "      <td>Abbotsford</td>\n",
       "      <td>1.120765e+06</td>\n",
       "      <td>0.68</td>\n",
       "      <td>⚠️ At Risk</td>\n",
       "    </tr>\n",
       "    <tr>\n",
       "      <th>13</th>\n",
       "      <td>Halifax</td>\n",
       "      <td>7.380783e+05</td>\n",
       "      <td>0.45</td>\n",
       "      <td>✅ Affordable</td>\n",
       "    </tr>\n",
       "    <tr>\n",
       "      <th>14</th>\n",
       "      <td>Vancouver</td>\n",
       "      <td>5.082023e+05</td>\n",
       "      <td>0.31</td>\n",
       "      <td>✅ Affordable</td>\n",
       "    </tr>\n",
       "    <tr>\n",
       "      <th>15</th>\n",
       "      <td>Fort McMurray</td>\n",
       "      <td>3.614471e+05</td>\n",
       "      <td>0.22</td>\n",
       "      <td>✅ Affordable</td>\n",
       "    </tr>\n",
       "    <tr>\n",
       "      <th>16</th>\n",
       "      <td>Langley</td>\n",
       "      <td>1.586648e+06</td>\n",
       "      <td>0.96</td>\n",
       "      <td>🚫 Unaffordable</td>\n",
       "    </tr>\n",
       "    <tr>\n",
       "      <th>17</th>\n",
       "      <td>Coquitlam</td>\n",
       "      <td>5.084211e+05</td>\n",
       "      <td>0.31</td>\n",
       "      <td>✅ Affordable</td>\n",
       "    </tr>\n",
       "    <tr>\n",
       "      <th>18</th>\n",
       "      <td>Richmond</td>\n",
       "      <td>9.779879e+05</td>\n",
       "      <td>0.59</td>\n",
       "      <td>⚠️ At Risk</td>\n",
       "    </tr>\n",
       "    <tr>\n",
       "      <th>19</th>\n",
       "      <td>West Kelowna</td>\n",
       "      <td>7.244089e+05</td>\n",
       "      <td>0.44</td>\n",
       "      <td>✅ Affordable</td>\n",
       "    </tr>\n",
       "    <tr>\n",
       "      <th>20</th>\n",
       "      <td>Estevan Rm No. 5</td>\n",
       "      <td>8.943115e+05</td>\n",
       "      <td>0.54</td>\n",
       "      <td>⚠️ At Risk</td>\n",
       "    </tr>\n",
       "    <tr>\n",
       "      <th>21</th>\n",
       "      <td>Kitchener</td>\n",
       "      <td>3.798841e+05</td>\n",
       "      <td>0.23</td>\n",
       "      <td>✅ Affordable</td>\n",
       "    </tr>\n",
       "    <tr>\n",
       "      <th>22</th>\n",
       "      <td>Tracadie</td>\n",
       "      <td>3.147653e+05</td>\n",
       "      <td>0.19</td>\n",
       "      <td>✅ Affordable</td>\n",
       "    </tr>\n",
       "    <tr>\n",
       "      <th>23</th>\n",
       "      <td>Burnaby</td>\n",
       "      <td>9.035185e+05</td>\n",
       "      <td>0.55</td>\n",
       "      <td>⚠️ At Risk</td>\n",
       "    </tr>\n",
       "    <tr>\n",
       "      <th>24</th>\n",
       "      <td>West Kelowna</td>\n",
       "      <td>2.061611e+06</td>\n",
       "      <td>1.25</td>\n",
       "      <td>🚫 Unaffordable</td>\n",
       "    </tr>\n",
       "    <tr>\n",
       "      <th>25</th>\n",
       "      <td>Qualicum Beach</td>\n",
       "      <td>1.553025e+06</td>\n",
       "      <td>0.94</td>\n",
       "      <td>🚫 Unaffordable</td>\n",
       "    </tr>\n",
       "    <tr>\n",
       "      <th>26</th>\n",
       "      <td>Surrey</td>\n",
       "      <td>1.135628e+06</td>\n",
       "      <td>0.69</td>\n",
       "      <td>⚠️ At Risk</td>\n",
       "    </tr>\n",
       "    <tr>\n",
       "      <th>27</th>\n",
       "      <td>Maple Ridge</td>\n",
       "      <td>3.565586e+06</td>\n",
       "      <td>2.15</td>\n",
       "      <td>🚫 Unaffordable</td>\n",
       "    </tr>\n",
       "    <tr>\n",
       "      <th>28</th>\n",
       "      <td>Saskatoon</td>\n",
       "      <td>9.310255e+05</td>\n",
       "      <td>0.56</td>\n",
       "      <td>⚠️ At Risk</td>\n",
       "    </tr>\n",
       "    <tr>\n",
       "      <th>29</th>\n",
       "      <td>Regina</td>\n",
       "      <td>2.260436e+05</td>\n",
       "      <td>0.14</td>\n",
       "      <td>✅ Affordable</td>\n",
       "    </tr>\n",
       "    <tr>\n",
       "      <th>30</th>\n",
       "      <td>Bouctouche</td>\n",
       "      <td>4.426430e+05</td>\n",
       "      <td>0.27</td>\n",
       "      <td>✅ Affordable</td>\n",
       "    </tr>\n",
       "    <tr>\n",
       "      <th>31</th>\n",
       "      <td>Surrey</td>\n",
       "      <td>3.010421e+06</td>\n",
       "      <td>1.82</td>\n",
       "      <td>🚫 Unaffordable</td>\n",
       "    </tr>\n",
       "    <tr>\n",
       "      <th>32</th>\n",
       "      <td>Halifax</td>\n",
       "      <td>4.705919e+05</td>\n",
       "      <td>0.28</td>\n",
       "      <td>✅ Affordable</td>\n",
       "    </tr>\n",
       "    <tr>\n",
       "      <th>33</th>\n",
       "      <td>Christopher Lake</td>\n",
       "      <td>2.183510e+05</td>\n",
       "      <td>0.13</td>\n",
       "      <td>✅ Affordable</td>\n",
       "    </tr>\n",
       "    <tr>\n",
       "      <th>34</th>\n",
       "      <td>Regina</td>\n",
       "      <td>3.660543e+05</td>\n",
       "      <td>0.22</td>\n",
       "      <td>✅ Affordable</td>\n",
       "    </tr>\n",
       "    <tr>\n",
       "      <th>35</th>\n",
       "      <td>Plaster Rock</td>\n",
       "      <td>3.907793e+05</td>\n",
       "      <td>0.24</td>\n",
       "      <td>✅ Affordable</td>\n",
       "    </tr>\n",
       "    <tr>\n",
       "      <th>36</th>\n",
       "      <td>Calgary</td>\n",
       "      <td>7.225146e+05</td>\n",
       "      <td>0.40</td>\n",
       "      <td>✅ Affordable</td>\n",
       "    </tr>\n",
       "    <tr>\n",
       "      <th>37</th>\n",
       "      <td>Burnaby</td>\n",
       "      <td>2.369396e+06</td>\n",
       "      <td>1.43</td>\n",
       "      <td>🚫 Unaffordable</td>\n",
       "    </tr>\n",
       "    <tr>\n",
       "      <th>38</th>\n",
       "      <td>Mount Uniacke</td>\n",
       "      <td>7.786814e+05</td>\n",
       "      <td>0.47</td>\n",
       "      <td>✅ Affordable</td>\n",
       "    </tr>\n",
       "    <tr>\n",
       "      <th>39</th>\n",
       "      <td>Burnaby</td>\n",
       "      <td>9.756564e+05</td>\n",
       "      <td>0.59</td>\n",
       "      <td>⚠️ At Risk</td>\n",
       "    </tr>\n",
       "    <tr>\n",
       "      <th>40</th>\n",
       "      <td>Surrey</td>\n",
       "      <td>5.025970e+06</td>\n",
       "      <td>3.04</td>\n",
       "      <td>🚫 Unaffordable</td>\n",
       "    </tr>\n",
       "    <tr>\n",
       "      <th>41</th>\n",
       "      <td>Burnaby</td>\n",
       "      <td>6.389654e+05</td>\n",
       "      <td>0.39</td>\n",
       "      <td>✅ Affordable</td>\n",
       "    </tr>\n",
       "    <tr>\n",
       "      <th>42</th>\n",
       "      <td>Echo Bay, Laird Twp</td>\n",
       "      <td>1.002120e+06</td>\n",
       "      <td>0.61</td>\n",
       "      <td>⚠️ At Risk</td>\n",
       "    </tr>\n",
       "    <tr>\n",
       "      <th>43</th>\n",
       "      <td>Abbotsford</td>\n",
       "      <td>4.493542e+05</td>\n",
       "      <td>0.27</td>\n",
       "      <td>✅ Affordable</td>\n",
       "    </tr>\n",
       "    <tr>\n",
       "      <th>44</th>\n",
       "      <td>Beaumont</td>\n",
       "      <td>5.349736e+05</td>\n",
       "      <td>0.32</td>\n",
       "      <td>✅ Affordable</td>\n",
       "    </tr>\n",
       "    <tr>\n",
       "      <th>45</th>\n",
       "      <td>Calgary</td>\n",
       "      <td>6.287026e+05</td>\n",
       "      <td>0.35</td>\n",
       "      <td>✅ Affordable</td>\n",
       "    </tr>\n",
       "    <tr>\n",
       "      <th>46</th>\n",
       "      <td>Vancouver</td>\n",
       "      <td>5.981014e+05</td>\n",
       "      <td>0.37</td>\n",
       "      <td>✅ Affordable</td>\n",
       "    </tr>\n",
       "    <tr>\n",
       "      <th>47</th>\n",
       "      <td>Fort Nelson</td>\n",
       "      <td>3.410425e+05</td>\n",
       "      <td>0.21</td>\n",
       "      <td>✅ Affordable</td>\n",
       "    </tr>\n",
       "    <tr>\n",
       "      <th>48</th>\n",
       "      <td>Surrey</td>\n",
       "      <td>9.620994e+05</td>\n",
       "      <td>0.58</td>\n",
       "      <td>⚠️ At Risk</td>\n",
       "    </tr>\n",
       "    <tr>\n",
       "      <th>49</th>\n",
       "      <td>Vancouver</td>\n",
       "      <td>2.924643e+06</td>\n",
       "      <td>1.81</td>\n",
       "      <td>🚫 Unaffordable</td>\n",
       "    </tr>\n",
       "  </tbody>\n",
       "</table>\n",
       "</div>"
      ],
      "text/plain": [
       "                   City  Predicted_Price  affordability_score  \\\n",
       "0               Burnaby     2.902022e+06                 1.75   \n",
       "1           Maple Ridge     3.538651e+06                 2.14   \n",
       "2       North Vancouver     1.915621e+06                 1.16   \n",
       "3             Vancouver     6.482635e+06                 4.01   \n",
       "4                 Delta     1.481284e+06                 0.89   \n",
       "5              Richmond     1.139021e+06                 0.69   \n",
       "6               Moncton     6.672036e+05                 0.40   \n",
       "7              Richmond     9.593706e+05                 0.58   \n",
       "8                Regina     3.828895e+05                 0.23   \n",
       "9       New Westminster     5.655392e+05                 0.34   \n",
       "10               Surrey     1.225478e+06                 0.74   \n",
       "11      North Vancouver     1.178764e+06                 0.71   \n",
       "12           Abbotsford     1.120765e+06                 0.68   \n",
       "13              Halifax     7.380783e+05                 0.45   \n",
       "14            Vancouver     5.082023e+05                 0.31   \n",
       "15        Fort McMurray     3.614471e+05                 0.22   \n",
       "16              Langley     1.586648e+06                 0.96   \n",
       "17            Coquitlam     5.084211e+05                 0.31   \n",
       "18             Richmond     9.779879e+05                 0.59   \n",
       "19         West Kelowna     7.244089e+05                 0.44   \n",
       "20     Estevan Rm No. 5     8.943115e+05                 0.54   \n",
       "21            Kitchener     3.798841e+05                 0.23   \n",
       "22             Tracadie     3.147653e+05                 0.19   \n",
       "23              Burnaby     9.035185e+05                 0.55   \n",
       "24         West Kelowna     2.061611e+06                 1.25   \n",
       "25       Qualicum Beach     1.553025e+06                 0.94   \n",
       "26               Surrey     1.135628e+06                 0.69   \n",
       "27          Maple Ridge     3.565586e+06                 2.15   \n",
       "28            Saskatoon     9.310255e+05                 0.56   \n",
       "29               Regina     2.260436e+05                 0.14   \n",
       "30           Bouctouche     4.426430e+05                 0.27   \n",
       "31               Surrey     3.010421e+06                 1.82   \n",
       "32              Halifax     4.705919e+05                 0.28   \n",
       "33     Christopher Lake     2.183510e+05                 0.13   \n",
       "34               Regina     3.660543e+05                 0.22   \n",
       "35         Plaster Rock     3.907793e+05                 0.24   \n",
       "36              Calgary     7.225146e+05                 0.40   \n",
       "37              Burnaby     2.369396e+06                 1.43   \n",
       "38        Mount Uniacke     7.786814e+05                 0.47   \n",
       "39              Burnaby     9.756564e+05                 0.59   \n",
       "40               Surrey     5.025970e+06                 3.04   \n",
       "41              Burnaby     6.389654e+05                 0.39   \n",
       "42  Echo Bay, Laird Twp     1.002120e+06                 0.61   \n",
       "43           Abbotsford     4.493542e+05                 0.27   \n",
       "44             Beaumont     5.349736e+05                 0.32   \n",
       "45              Calgary     6.287026e+05                 0.35   \n",
       "46            Vancouver     5.981014e+05                 0.37   \n",
       "47          Fort Nelson     3.410425e+05                 0.21   \n",
       "48               Surrey     9.620994e+05                 0.58   \n",
       "49            Vancouver     2.924643e+06                 1.81   \n",
       "\n",
       "   affordability_label  \n",
       "0       🚫 Unaffordable  \n",
       "1       🚫 Unaffordable  \n",
       "2       🚫 Unaffordable  \n",
       "3       🚫 Unaffordable  \n",
       "4       🚫 Unaffordable  \n",
       "5           ⚠️ At Risk  \n",
       "6         ✅ Affordable  \n",
       "7           ⚠️ At Risk  \n",
       "8         ✅ Affordable  \n",
       "9         ✅ Affordable  \n",
       "10          ⚠️ At Risk  \n",
       "11          ⚠️ At Risk  \n",
       "12          ⚠️ At Risk  \n",
       "13        ✅ Affordable  \n",
       "14        ✅ Affordable  \n",
       "15        ✅ Affordable  \n",
       "16      🚫 Unaffordable  \n",
       "17        ✅ Affordable  \n",
       "18          ⚠️ At Risk  \n",
       "19        ✅ Affordable  \n",
       "20          ⚠️ At Risk  \n",
       "21        ✅ Affordable  \n",
       "22        ✅ Affordable  \n",
       "23          ⚠️ At Risk  \n",
       "24      🚫 Unaffordable  \n",
       "25      🚫 Unaffordable  \n",
       "26          ⚠️ At Risk  \n",
       "27      🚫 Unaffordable  \n",
       "28          ⚠️ At Risk  \n",
       "29        ✅ Affordable  \n",
       "30        ✅ Affordable  \n",
       "31      🚫 Unaffordable  \n",
       "32        ✅ Affordable  \n",
       "33        ✅ Affordable  \n",
       "34        ✅ Affordable  \n",
       "35        ✅ Affordable  \n",
       "36        ✅ Affordable  \n",
       "37      🚫 Unaffordable  \n",
       "38        ✅ Affordable  \n",
       "39          ⚠️ At Risk  \n",
       "40      🚫 Unaffordable  \n",
       "41        ✅ Affordable  \n",
       "42          ⚠️ At Risk  \n",
       "43        ✅ Affordable  \n",
       "44        ✅ Affordable  \n",
       "45        ✅ Affordable  \n",
       "46        ✅ Affordable  \n",
       "47        ✅ Affordable  \n",
       "48          ⚠️ At Risk  \n",
       "49      🚫 Unaffordable  "
      ]
     },
     "execution_count": 24,
     "metadata": {},
     "output_type": "execute_result"
    }
   ],
   "source": [
    "print(\"Calculating affordability metrics for validation set...\")\n",
    "\n",
    "# Median income dictionary\n",
    "median_income = {\n",
    "    \"Toronto\": 100000,\n",
    "    \"Vancouver\": 88000,\n",
    "    \"Montreal\": 82000,\n",
    "    \"Ottawa\": 95000,\n",
    "    \"Calgary\": 97000\n",
    "}\n",
    "# Affordability function\n",
    "def calculate_affordability_fixed(pred_prices, cities, interest_rate=0.035, years=30):\n",
    "    scores = []\n",
    "    labels = []\n",
    "    for price, city in zip(pred_prices, cities):\n",
    "        income = median_income.get(city, 90000)  # fallback median income\n",
    "        annual_payment = (price * interest_rate) / (1 - (1 + interest_rate) ** (-years))\n",
    "        score = annual_payment / income\n",
    "        if score < 0.5:\n",
    "            label = \"✅ Affordable\"\n",
    "        elif score < 0.8:\n",
    "            label = \"⚠️ At Risk\"\n",
    "        else:\n",
    "            label = \"🚫 Unaffordable\"\n",
    "        scores.append(round(score, 2))\n",
    "        labels.append(label)\n",
    "    return scores, labels\n",
    "\n",
    "# Make a copy of validation features\n",
    "val_df_copy = val_data.copy()\n",
    "\n",
    "# Ensure 'City' column is present\n",
    "val_df_copy['City'] = df.loc[val_data.index, 'City']\n",
    "\n",
    "# Predict prices for validation set\n",
    "y_pred_val = predictor.predict(val_data)\n",
    "\n",
    "# Calculate affordability scores and labels\n",
    "scores, labels = calculate_affordability_fixed(y_pred_val, val_df_copy['City'])\n",
    "\n",
    "# Add predictions and affordability metrics to dataframe\n",
    "val_df_copy['Predicted_Price'] = y_pred_val\n",
    "val_df_copy['affordability_score'] = scores\n",
    "val_df_copy['affordability_label'] = labels\n",
    "\n",
    "# Randomly sample 50 rows for display\n",
    "val_sample = val_df_copy.sample(50, random_state=42)\n",
    "\n",
    "# Display the results\n",
    "print(\"Affordability sample for validation set:\")\n",
    "val_sample[['City', 'Predicted_Price', 'affordability_score', 'affordability_label']].reset_index(drop=True)\n"
   ]
  },
  {
   "cell_type": "markdown",
   "id": "6afd0dd5",
   "metadata": {},
   "source": [
    "## Random Sample Prediction\n",
    "\n"
   ]
  },
  {
   "cell_type": "code",
   "execution_count": 25,
   "id": "a5380bb0",
   "metadata": {},
   "outputs": [
    {
     "name": "stdout",
     "output_type": "stream",
     "text": [
      "Step: Random single prediction with affordability label...\n",
      "Random Sample from Burnaby, BC\n",
      "Predicted Price: $3,738,553\n",
      "Affordability Score: 2.259999990463257 → 🚫 Unaffordable\n"
     ]
    }
   ],
   "source": [
    "print(\"Step: Random single prediction with affordability label...\")\n",
    "\n",
    "# Randomly select 1 row from test set\n",
    "sample = test_data.sample(1)\n",
    "X_sample = sample.copy()\n",
    "\n",
    "# Predict price for this single sample\n",
    "pred_price = predictor.predict(X_sample).iloc[0]  # <-- use iloc[0] to get the value\n",
    "\n",
    "# Calculate affordability score and label\n",
    "score, label = calculate_affordability_fixed([pred_price], [sample['City'].iloc[0]])\n",
    "score, label = score[0], label[0]\n",
    "\n",
    "# Print nicely\n",
    "print(f\"Random Sample from {sample['City'].iloc[0]}, {sample['Province'].iloc[0]}\")\n",
    "print(f\"Predicted Price: ${pred_price:,.0f}\")\n",
    "print(f\"Affordability Score: {score} → {label}\")\n"
   ]
  },
  {
   "cell_type": "markdown",
   "id": "6a759ac1",
   "metadata": {},
   "source": [
    "## Conclusion and Recommendations\n",
    "\n",
    "### Model Performance\n",
    "\n",
    "The AutoGluon pretrained model was successfully trained and evaluated on our housing dataset. The evaluation metrics on the test data demonstrate strong predictive performance:\n",
    "\n",
    "- **Mean Absolute Error (MAE):** \\$196,707.31 — on average, the predicted house prices deviate from the actual prices by roughly \\$197k.  \n",
    "- **Mean Squared Error (MSE):** 276,754,649,330 — the model penalizes larger errors heavily but maintains reliable predictions.  \n",
    "- **R² Score:** 0.836 — the model explains over 82% of the variance in housing prices, indicating a high level of accuracy.  \n",
    "\n",
    "These results confirm that the model effectively captures the relationship between key property features (Fireplace, Heating, Flooring, Roof, Waterfront, Sewer, Pool, Garden, Balcony) and house prices.\n",
    "\n",
    "### Affordability Analysis\n",
    "\n",
    "Using the predicted prices and local median incomes, the affordability scores provide actionable insights:  \n",
    "\n",
    "- Homes marked as **✅ Affordable** are well within the buyer's financial capacity.  \n",
    "- Homes marked as **⚠️ At Risk** could pose moderate financial stress.  \n",
    "- Homes marked as **🚫 Unaffordable** are likely to be beyond reasonable budget constraints.  \n",
    "\n",
    "This analysis can guide prospective buyers and policymakers in making informed decisions about housing affordability.\n",
    "\n",
    "### Recommendations / Next Steps\n",
    "\n",
    "1. **Feature Expansion:** Incorporate additional property and neighborhood-level features (e.g., school ratings, proximity to amenities) to improve prediction accuracy.  \n",
    "2. **Hyperparameter Tuning:** Explore advanced AutoGluon hyperparameter configurations or alternative pretrained models to further reduce MAE and MSE.  \n",
    "3. **Scenario Analysis:** Use the model to simulate different interest rates or mortgage conditions to assess affordability under varying financial scenarios.  \n",
    "4. **Deployment:** Integrate the model into a web-based decision support tool for buyers and real estate professionals.  \n",
    "5. **Continuous Updating:** Regularly retrain the model on new housing data to maintain accuracy in a dynamic market.  \n",
    "\n",
    "**Overall**, leveraging a pretrained model with AutoGluon provides fast, reliable, and actionable housing price predictions while also offering practical affordability insights for real-world decision-making.\n"
   ]
  }
 ],
 "metadata": {
  "kernelspec": {
   "display_name": "ag311",
   "language": "python",
   "name": "python3"
  },
  "language_info": {
   "codemirror_mode": {
    "name": "ipython",
    "version": 3
   },
   "file_extension": ".py",
   "mimetype": "text/x-python",
   "name": "python",
   "nbconvert_exporter": "python",
   "pygments_lexer": "ipython3",
   "version": "3.11.13"
  }
 },
 "nbformat": 4,
 "nbformat_minor": 5
}
